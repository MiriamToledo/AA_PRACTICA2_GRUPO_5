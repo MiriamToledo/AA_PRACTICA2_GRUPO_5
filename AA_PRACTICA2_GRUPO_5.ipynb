{
  "nbformat": 4,
  "nbformat_minor": 0,
  "metadata": {
    "colab": {
      "name": "AA_PRACTICA2_GRUPO_5.ipynb",
      "provenance": [],
      "collapsed_sections": []
    },
    "kernelspec": {
      "name": "python3",
      "display_name": "Python 3"
    },
    "language_info": {
      "name": "python"
    },
    "accelerator": "GPU"
  },
  "cells": [
    {
      "cell_type": "markdown",
      "metadata": {
        "id": "a837AMFBUNjU"
      },
      "source": [
        "# Práctica 2: Redes de Neuronas Convolucionales\n",
        "\n",
        "### Grupo 5\n",
        "### Miriam Toledo\n",
        "### Inés Sánchez\n",
        "A continuación, vamos a crear un modelo de red de neuronas convolucionales artificiales que sea capaz de reconocer y clasificar imágenes de ropa en sus diferentes tipologías. Para ello vamos emplear Keras, específicamente el conjunto de datos Fashion-MNIST.\n",
        "## 1- IMPORTAMOS TODAS LAS LIBRERÍAS NECESARIAS \n",
        "También nos aseguramos de ejecutar la versión 2.0.0 de TensorFlow.\n"
      ]
    },
    {
      "cell_type": "code",
      "metadata": {
        "colab": {
          "base_uri": "https://localhost:8080/"
        },
        "id": "r_FEGN7-Ek9i",
        "outputId": "d967c7fa-bff8-4953-a5b0-d62dec9d9453"
      },
      "source": [
        "%tensorflow_version 2.x\n",
        "import tensorflow as tf\n",
        "import matplotlib.pyplot as plt\n",
        "from tensorflow import keras\n",
        "print(tf.keras.__version__)\n",
        "print(\"GPU Available:\", tf.config.list_physical_devices('GPU'))\n",
        "print(tf.__version__)\n",
        "from tensorflow.keras import Sequential\n",
        "from tensorflow.keras.layers import Conv2D\n",
        "from tensorflow.keras.layers import MaxPooling2D\n",
        "from keras.utils.np_utils import to_categorical\n",
        "from tensorflow.keras.layers import Dense\n",
        "from tensorflow.keras.layers import Flatten\n",
        "from keras import layers\n",
        "import numpy as np"
      ],
      "execution_count": null,
      "outputs": [
        {
          "output_type": "stream",
          "name": "stdout",
          "text": [
            "2.7.0\n",
            "GPU Available: [PhysicalDevice(name='/physical_device:GPU:0', device_type='GPU')]\n",
            "2.7.0\n"
          ]
        }
      ]
    },
    {
      "cell_type": "markdown",
      "metadata": {
        "id": "x12boNRmVlba"
      },
      "source": [
        "## 2- CARGAMOS EL CONJUNTO DE DATOS Y ANALIZAMOS QUE TENGAN LA FORMA ESPERADA"
      ]
    },
    {
      "cell_type": "code",
      "metadata": {
        "id": "jxXWXVXvE0k5"
      },
      "source": [
        "from keras.datasets import fashion_mnist\n",
        "(train_images, train_labels), (test_images, test_labels) = fashion_mnist.load_data()"
      ],
      "execution_count": null,
      "outputs": []
    },
    {
      "cell_type": "code",
      "metadata": {
        "colab": {
          "base_uri": "https://localhost:8080/"
        },
        "id": "_NTXo7Y6FR6j",
        "outputId": "3c7f5e39-fa30-42ae-ae0c-9f6a3d05fd91"
      },
      "source": [
        "print(train_images.shape)\n",
        "print(len(train_labels))\n",
        "# Vemos la matriz de la imagen número 1500\n",
        "print(train_images[1500])\n",
        "num = train_labels[1500]\n",
        "print(num)"
      ],
      "execution_count": null,
      "outputs": [
        {
          "output_type": "stream",
          "name": "stdout",
          "text": [
            "(60000, 28, 28)\n",
            "60000\n",
            "[[  0   0   0   0   0   0   0   0   0  59 144 141 146 149 163 150  58  70\n",
            "   92   0   0   0   0   0   0   0   0   0]\n",
            " [  0   0   0   0   0   0   0   0   0  87 139 165 176 176 177 204 133 114\n",
            "  129   8   0   0   0   0   0   0   0   0]\n",
            " [  0   0   0   0   0   0   0   0   0 136 194 161 158 195 130 182 158 198\n",
            "  184  87   0   0   0   0   0   0   0   0]\n",
            " [  0   0   0   0   0   0   0   0   0 178 183 160 148 164 110 165 154 157\n",
            "  163  65   0   0   0   0   0   0   0   0]\n",
            " [  0   0   0   0   0   0   0   0   0 185 137 139 164 162 159 176 162 147\n",
            "  150  62   0   0   0   0   0   0   0   0]\n",
            " [  0   0   0   0   0   0   0   0  17 198 157 168 165 202 218 171 166 156\n",
            "  164  71   0   0   0   0   0   0   0   0]\n",
            " [  0   0   0   0   0   0   0   0  59 181 116 151 155 214 193 202 159 123\n",
            "  147  58   0   0   0   0   0   0   0   0]\n",
            " [  0   0   0   0   0   0   0   0  72 158 105 136 161 138 181 230 146 119\n",
            "  134  50   0   0   0   0   0   0   0   0]\n",
            " [  0   0   0   0   0   0   0   0  85 144 112 131 187  80 121 251 139 115\n",
            "  110  46   0   0   0   0   0   0   0   0]\n",
            " [  0   0   0   0   0   0   0   0  95 129 113 128 200   8  32 255 158 101\n",
            "  115  45   0   0   0   0   0   0   0   0]\n",
            " [  0   0   0   0   0   0   0   0  97 124 108 149 171   0   0 250 160  90\n",
            "  132  39   0   0   0   0   0   0   0   0]\n",
            " [  0   0   0   0   0   0   0   0 102 119 104 172  92   0   0 227 159  90\n",
            "  140  29   0   0   0   0   0   0   0   0]\n",
            " [  0   0   0   0   0   0   0   0  99 112 108 178  24   0   0 222 157  83\n",
            "  134  15   0   0   0   0   0   0   0   0]\n",
            " [  0   0   0   0   0   0   0   0  96 100 117 173   4   0   0 215 147  77\n",
            "  125   4   0   0   0   0   0   0   0   0]\n",
            " [  0   0   0   0   0   0   0   0  91 103 123 177   0   0   0 194 157  65\n",
            "  115   2   0   0   0   0   0   0   0   0]\n",
            " [  0   0   0   0   0   0   0   0  82 104 124 181   1   0   0 170 168  72\n",
            "  128   2   0   0   0   0   0   0   0   0]\n",
            " [  0   0   0   0   0   0   0   0  58 120 138 171  22   0   0 157 141  82\n",
            "  156   1   0   0   0   0   0   0   0   0]\n",
            " [  0   0   0   0   0   0   0   0  29 114 147 163  48   0   0 149 159  79\n",
            "  131   0   0   0   0   0   0   0   0   0]\n",
            " [  0   0   0   0   0   0   0   0   3 130 131 182 130   0   0 123 196 103\n",
            "  126   0   0   0   0   0   0   0   0   0]\n",
            " [  0   0   0   0   0   0   0   0   0 132 141 167 188   0   0 117 213 123\n",
            "  124   0   0   0   0   0   0   0   0   0]\n",
            " [  0   0   0   0   0   0   0   0   0 111 177 162 213  19   0 108 221 157\n",
            "  130   0   0   0   0   0   0   0   0   0]\n",
            " [  0   0   0   0   0   0   0   0   0  57 196 165 211  51   0 107 223 184\n",
            "  137   0   0   0   0   0   0   0   0   0]\n",
            " [  0   0   0   0   0   0   0   0   0   7 191 173 186  86   0 104 218 199\n",
            "  143   0   0   0   0   0   0   0   0   0]\n",
            " [  0   0   0   0   0   0   0   0   0   0 205 187 183 145   0 104 208 197\n",
            "  152   0   0   0   0   0   0   0   0   0]\n",
            " [  0   0   0   0   0   0   0   0   0   0 139 199 181 177   0 105 211 199\n",
            "  197   0   0   0   0   0   0   0   0   0]\n",
            " [  0   0   0   0   0   0   0   0   3   0  70 204 174 207   0  75 201 192\n",
            "  170   0   0   0   0   0   0   0   0   0]\n",
            " [  0   0   0   0   0   0   0   0   1   0  16 218 202 250   0  76 215 205\n",
            "  195   0   0   0   0   0   0   0   0   0]\n",
            " [  0   0   0   0   0   0   0   0   2   0   0 129 125 141   0  25 144 116\n",
            "   95   0   0   0   0   0   0   0   0   0]]\n",
            "1\n"
          ]
        }
      ]
    },
    {
      "cell_type": "markdown",
      "metadata": {
        "id": "kT5iLjYXGzWU"
      },
      "source": [
        "La clasificación corresponde con:\n",
        "\n",
        "\n",
        "0.   Camiseta /Top\n",
        "1. Pantalón\n",
        "2. Jersey\n",
        "3. Vestido\n",
        "4. Abrigo\n",
        "5. Sandalia\n",
        "6. Camisa\n",
        "7. Zapatillas\n",
        "8. Bolsa\n",
        "9. Botas tobilleras\n",
        "\n",
        "Cada imagen tiene una única etiqueta. Cremaos class_names para poder usarlos a la hora de visualizar las imágnes. Y comprobamos que efectivamente la etiqueta 1 corresponde con un pantalón. \n",
        "\n",
        "\n"
      ]
    },
    {
      "cell_type": "code",
      "metadata": {
        "colab": {
          "base_uri": "https://localhost:8080/",
          "height": 265
        },
        "id": "THmVELUlFksd",
        "outputId": "b188ef81-732d-4bec-9b69-2ef198e67c6b"
      },
      "source": [
        "class_names = ['Camiseta', 'Pantalón', 'Jersey', 'Vestido', 'Abrigo', 'Sandalias', 'Camisa', 'Zapatillas', 'Bolsa', 'Botas tobilleras']\n",
        "digit = train_images[1500]\n",
        "plt.imshow(digit, cmap=plt.cm.binary)\n",
        "plt.show()"
      ],
      "execution_count": null,
      "outputs": [
        {
          "output_type": "display_data",
          "data": {
            "image/png": "[encoded data removed]",
            "text/plain": [
              "<Figure size 432x288 with 1 Axes>"
            ]
          },
          "metadata": {
            "needs_background": "light"
          }
        }
      ]
    },
    {
      "cell_type": "markdown",
      "metadata": {
        "id": "fzzEIV2RYQao"
      },
      "source": [
        "Comprobamos la forma de los datos de prueba y tienen la misma forma que los datos de entrenamiento."
      ]
    },
    {
      "cell_type": "code",
      "metadata": {
        "colab": {
          "base_uri": "https://localhost:8080/"
        },
        "id": "yrQMn9bAYV0R",
        "outputId": "861edbaf-90ba-4964-bb36-7cbbf8f87d10"
      },
      "source": [
        "print(test_images.shape)\n",
        "print(len(test_labels))\n"
      ],
      "execution_count": null,
      "outputs": [
        {
          "output_type": "stream",
          "name": "stdout",
          "text": [
            "(10000, 28, 28)\n",
            "10000\n"
          ]
        }
      ]
    },
    {
      "cell_type": "markdown",
      "metadata": {
        "id": "J4Rn0hKc12UO"
      },
      "source": [
        "\n",
        "A continuación configuramos los datos normalizándolos, convirtiendo los tensores 2D a tensores 3D utilizando reshape. "
      ]
    },
    {
      "cell_type": "code",
      "metadata": {
        "colab": {
          "base_uri": "https://localhost:8080/"
        },
        "id": "xg8sBM2O1Nge",
        "outputId": "83a17762-f668-402a-a7ba-28a095360b64"
      },
      "source": [
        "fashion_mnist = tf.keras.datasets.fashion_mnist\n",
        "(train_images, train_labels), (test_images, test_labels) = fashion_mnist.load_data()\n",
        "\n",
        "print (train_images.shape)\n",
        "print (train_labels.shape)\n",
        "train_images = train_images.reshape((60000, 28, 28, 1))\n",
        "train_images = train_images.astype('float32') / 255\n",
        "\n",
        "test_images = test_images.reshape((10000, 28, 28, 1))\n",
        "test_images = test_images.astype('float32') / 255\n",
        "\n",
        "print (train_images.shape)\n",
        "print (train_labels.shape)"
      ],
      "execution_count": null,
      "outputs": [
        {
          "output_type": "stream",
          "name": "stdout",
          "text": [
            "(60000, 28, 28)\n",
            "(60000,)\n",
            "(60000, 28, 28, 1)\n",
            "(60000,)\n"
          ]
        }
      ]
    },
    {
      "cell_type": "markdown",
      "metadata": {
        "id": "608encdKYhW1"
      },
      "source": [
        "## 3- CONSTRUCCIÓN DE LA RNA\n",
        "### 3.1 - Caso 1\n",
        "Esta red neuronal tiene 32 filtros en la primera capa convolucional y 64 en la segunda, la función de activación de las dos primeras capas convolucionales es *relu* y de la última capa densa es *softmax*. El optimizador es *sgd*, la función de perdida es *sparse_categorical_crossentropy*, la métrica es *accuracy* y el número de iteraciones es 5."
      ]
    },
    {
      "cell_type": "code",
      "metadata": {
        "colab": {
          "base_uri": "https://localhost:8080/"
        },
        "id": "xyJ-1UwZwmNB",
        "outputId": "2d7ae351-a69e-4e13-bf07-eaa04f6b9cc6"
      },
      "source": [
        "red1 = Sequential()\n",
        "red1.add(Conv2D(32, (5, 5), activation='relu', input_shape=(28, 28, 1)))\n",
        "red1.add(MaxPooling2D((2, 2)))\n",
        "red1.add(Conv2D(64, (5, 5), activation='relu'))\n",
        "red1.add(MaxPooling2D((2, 2)))\n",
        "red1.add(Flatten())\n",
        "red1.add(Dense(10, activation='softmax'))\n",
        "red1.summary()"
      ],
      "execution_count": null,
      "outputs": [
        {
          "output_type": "stream",
          "name": "stdout",
          "text": [
            "Model: \"sequential\"\n",
            "_________________________________________________________________\n",
            " Layer (type)                Output Shape              Param #   \n",
            "=================================================================\n",
            " conv2d (Conv2D)             (None, 24, 24, 32)        832       \n",
            "                                                                 \n",
            " max_pooling2d (MaxPooling2D  (None, 12, 12, 32)       0         \n",
            " )                                                               \n",
            "                                                                 \n",
            " conv2d_1 (Conv2D)           (None, 8, 8, 64)          51264     \n",
            "                                                                 \n",
            " max_pooling2d_1 (MaxPooling  (None, 4, 4, 64)         0         \n",
            " 2D)                                                             \n",
            "                                                                 \n",
            " flatten (Flatten)           (None, 1024)              0         \n",
            "                                                                 \n",
            " dense (Dense)               (None, 10)                10250     \n",
            "                                                                 \n",
            "=================================================================\n",
            "Total params: 62,346\n",
            "Trainable params: 62,346\n",
            "Non-trainable params: 0\n",
            "_________________________________________________________________\n"
          ]
        }
      ]
    },
    {
      "cell_type": "markdown",
      "metadata": {
        "id": "Ks8HYpZObBHm"
      },
      "source": [
        "La función red1.summary() nos indica:\n",
        "\n",
        "\n",
        "*   832 = (5 x 5 de matriz W + 1 del bias) x 32 filtros\n",
        "*   0 => No hay parámetros que aprender porque es una operación max pooling\n",
        "*   La red convolucional 2 es 8 x 8, dado que partimos de una matriz 12 x 12 en una ventana 5 x5 con un stride = 1.\n",
        "*   51264 = (5 x 5 de matriz W x 32 filtros anteriores +  1 del bias) x 64 filtros\n",
        "*   10250 = 10 x 1024 + 10, porque tenemos 10 neuronas de la capa softmax, 1024 = 4 x 4 x 64, y les sumamos 10 del sesgo.\n",
        "*   62346 = 832 + 51264 + 10250 , puesto que es el número total de parámetros\n",
        "\n",
        "Después llevamos a cabo el paso de compilación cargando el optimizador, la función de pérdida y las métricas.\n",
        "\n",
        "\n"
      ]
    },
    {
      "cell_type": "code",
      "metadata": {
        "id": "aA0ZbY85cQ5V"
      },
      "source": [
        "red1.compile(optimizer='sgd', \n",
        "                loss='sparse_categorical_crossentropy',\n",
        "                metrics=['accuracy'])"
      ],
      "execution_count": null,
      "outputs": []
    },
    {
      "cell_type": "markdown",
      "metadata": {
        "id": "qtaZYG0wdp28"
      },
      "source": [
        "Ahora preparamos las etiquetas. Para eso utilizamos _Flatten_ que sirve para aplanar la entrada y que así coincidan las dimensiones de la red, para así poder entrenarla. Además, de esta forma podremos usar la función de pérdida sparse_categorical_crossentropy, que explicaremos más adelante.\n",
        "\n"
      ]
    },
    {
      "cell_type": "code",
      "metadata": {
        "id": "rAKtPv1Jdo5O"
      },
      "source": [
        "red1.add(layers.Flatten(input_shape=(28,28)))"
      ],
      "execution_count": null,
      "outputs": []
    },
    {
      "cell_type": "markdown",
      "metadata": {
        "id": "nh4Yuh-c2QQX"
      },
      "source": [
        "Por último entrenamos la red a través de fit, realizando 5 épocas de entrenamiento y en mini lotes de 100 imagenes en cada uno. Además, lo evaluamos con los datos de prueba."
      ]
    },
    {
      "cell_type": "code",
      "metadata": {
        "colab": {
          "base_uri": "https://localhost:8080/"
        },
        "id": "ONBwsjyy2d5o",
        "outputId": "f093dbab-9905-4f76-cba5-f2ee89d0c17c"
      },
      "source": [
        "red1.fit(train_images, train_labels,\n",
        "          epochs=5,\n",
        "         batch_size=100,\n",
        "          verbose=0)\n",
        "\n",
        "test_loss, test_acc = red1.evaluate(test_images, test_labels)\n",
        "\n",
        "print('Test accuracy:', test_acc)"
      ],
      "execution_count": null,
      "outputs": [
        {
          "output_type": "stream",
          "name": "stdout",
          "text": [
            "313/313 [==============================] - 1s 4ms/step - loss: 0.5203 - accuracy: 0.8078\n",
            "Test accuracy: 0.8077999949455261\n"
          ]
        }
      ]
    },
    {
      "cell_type": "markdown",
      "metadata": {
        "id": "SECo-ICv6_wI"
      },
      "source": [
        "La pérdida es de un 50% y la precisión de un 82%."
      ]
    },
    {
      "cell_type": "markdown",
      "metadata": {
        "id": "MVwaS8q16LUg"
      },
      "source": [
        "### 3.2 - Caso 2\n",
        "Esta red neuronal tiene 64 filtros en la primera capa convolucional y 128 en la segunda, la función de activación de las dos primeras capas convolucionales es *relu*, la penúltima capa densa es también *relu* y de la última capa densa es *softmax*. El optimizador es *sgd*, la función de perdida es *sparse_categorical_crossentropy*, la métrica es *accuracy* y el número de iteraciones es 5."
      ]
    },
    {
      "cell_type": "code",
      "metadata": {
        "colab": {
          "base_uri": "https://localhost:8080/"
        },
        "id": "Ooy05sYd6LVW",
        "outputId": "d673e8cf-cb15-4714-ab40-62409769d95b"
      },
      "source": [
        "red2 = Sequential()\n",
        "red2.add(Conv2D(64, (7, 7), activation='relu', padding='same', input_shape=(28, 28, 1)))\n",
        "red2.add(MaxPooling2D((2, 2)))\n",
        "red2.add(Conv2D(128, (3, 3), activation='relu', padding='same'))\n",
        "red2.add(MaxPooling2D((2, 2)))\n",
        "red2.add(Flatten())\n",
        "red2.add(Dense(65, activation = 'relu'))\n",
        "red2.add(Dense(10, activation='softmax'))\n",
        "red2.summary()"
      ],
      "execution_count": null,
      "outputs": [
        {
          "output_type": "stream",
          "name": "stdout",
          "text": [
            "Model: \"sequential_1\"\n",
            "_________________________________________________________________\n",
            " Layer (type)                Output Shape              Param #   \n",
            "=================================================================\n",
            " conv2d_2 (Conv2D)           (None, 28, 28, 64)        3200      \n",
            "                                                                 \n",
            " max_pooling2d_2 (MaxPooling  (None, 14, 14, 64)       0         \n",
            " 2D)                                                             \n",
            "                                                                 \n",
            " conv2d_3 (Conv2D)           (None, 14, 14, 128)       73856     \n",
            "                                                                 \n",
            " max_pooling2d_3 (MaxPooling  (None, 7, 7, 128)        0         \n",
            " 2D)                                                             \n",
            "                                                                 \n",
            " flatten_2 (Flatten)         (None, 6272)              0         \n",
            "                                                                 \n",
            " dense_1 (Dense)             (None, 65)                407745    \n",
            "                                                                 \n",
            " dense_2 (Dense)             (None, 10)                660       \n",
            "                                                                 \n",
            "=================================================================\n",
            "Total params: 485,461\n",
            "Trainable params: 485,461\n",
            "Non-trainable params: 0\n",
            "_________________________________________________________________\n"
          ]
        }
      ]
    },
    {
      "cell_type": "markdown",
      "metadata": {
        "id": "c2qR_4oE6LVZ"
      },
      "source": [
        "La función red2.summary() nos indica:\n",
        "\n",
        "\n",
        "*   3200 = (7 x 7 de matriz W + 1 del bias) x 64 filtros\n",
        "*   0 => No hay parámetros que aprender porque es una operación max pooling\n",
        "*   La red convolucional 2 es 14 x 14\n",
        "*   73856 = (3 x 3 de matriz W x 64 filtros anteriores +  1 del bias) x 128 filtros\n",
        "*   407745 = 65 x 6272 + 65, porque tenemos 65 neuronas en la penúltima capa, 6272 = 7 x 7 x 128, y le sumamos 65 del sesgo.\n",
        "*   660 = 10 x 65 + 10, porque tenemos 10 neuronas de la capa *softmax*, 65 neuronas de la capa anterior y le sumamos 10 del sesgo.\n",
        "*   485461 = 3200 + 73856 + 407745 + 660 , puesto que es el número total de parámetros\n",
        "\n",
        "Después llevamos a cabo el paso de compilación cargando el optimizador, la función de pérdida y las métricas.\n",
        "\n",
        "\n"
      ]
    },
    {
      "cell_type": "code",
      "metadata": {
        "id": "6TBcHuHv6LVb"
      },
      "source": [
        "red2.compile(optimizer='sgd', \n",
        "                loss='sparse_categorical_crossentropy',\n",
        "                metrics=['accuracy'])"
      ],
      "execution_count": null,
      "outputs": []
    },
    {
      "cell_type": "markdown",
      "metadata": {
        "id": "bQ4wZWl66LVd"
      },
      "source": [
        "Por último entrenamos la red a través de fit, realizando 5 épocas de entrenamiento y en mini lotes de 100 imagenes en cada uno. Además, lo evaluamos con los datos de prueba."
      ]
    },
    {
      "cell_type": "code",
      "metadata": {
        "id": "AjAe5JXA6LVe",
        "colab": {
          "base_uri": "https://localhost:8080/"
        },
        "outputId": "8d5e7021-7f94-468f-8d5b-b35d715ba1df"
      },
      "source": [
        "red2.fit(train_images, train_labels,\n",
        "          epochs=5,\n",
        "         batch_size=100,\n",
        "          verbose=0)\n",
        "\n",
        "test_loss, test_acc = red2.evaluate(test_images, test_labels)\n",
        "\n",
        "print('Test accuracy:', test_acc)"
      ],
      "execution_count": null,
      "outputs": [
        {
          "output_type": "stream",
          "name": "stdout",
          "text": [
            "313/313 [==============================] - 2s 5ms/step - loss: 0.4845 - accuracy: 0.8273\n",
            "Test accuracy: 0.8273000121116638\n"
          ]
        }
      ]
    },
    {
      "cell_type": "markdown",
      "metadata": {
        "id": "c_E8c0DE_28Y"
      },
      "source": [
        "Vemos que la precisión es del 82% y la pérdida de un 47%."
      ]
    },
    {
      "cell_type": "markdown",
      "metadata": {
        "id": "yC2hWGTMASQJ"
      },
      "source": [
        "### 3.3 - Caso 3\n",
        "Esta red neuronal tiene 64 filtros en la primera capa convolucional y 128 en la segunda, la función de activación de las dos primeras capas convolucionales es *relu*, la penúltima capa densa es también *relu* y de la última capa densa es *softmax*. El optimizador es *adam*, la función de perdida es *sparse_categorical_crossentropy*, la métrica es *accuracy* y el número de iteraciones es 5."
      ]
    },
    {
      "cell_type": "code",
      "metadata": {
        "colab": {
          "base_uri": "https://localhost:8080/"
        },
        "id": "YbEJpw7eASQK",
        "outputId": "c76c6ec8-c694-49c4-e669-bdd03499732a"
      },
      "source": [
        "red3 = Sequential()\n",
        "red3.add(Conv2D(64, (7, 7), activation='relu', padding='same', input_shape=(28, 28, 1)))\n",
        "red3.add(MaxPooling2D((2, 2)))\n",
        "red3.add(Conv2D(128, (3, 3), activation='relu', padding='same'))\n",
        "red3.add(MaxPooling2D((2, 2)))\n",
        "red3.add(Flatten())\n",
        "red3.add(Dense(65, activation = 'relu'))\n",
        "red3.add(Dense(10, activation='softmax'))\n",
        "red3.summary()"
      ],
      "execution_count": null,
      "outputs": [
        {
          "output_type": "stream",
          "name": "stdout",
          "text": [
            "Model: \"sequential_1\"\n",
            "_________________________________________________________________\n",
            " Layer (type)                Output Shape              Param #   \n",
            "=================================================================\n",
            " conv2d_2 (Conv2D)           (None, 28, 28, 64)        3200      \n",
            "                                                                 \n",
            " max_pooling2d_2 (MaxPooling  (None, 14, 14, 64)       0         \n",
            " 2D)                                                             \n",
            "                                                                 \n",
            " conv2d_3 (Conv2D)           (None, 14, 14, 128)       73856     \n",
            "                                                                 \n",
            " max_pooling2d_3 (MaxPooling  (None, 7, 7, 128)        0         \n",
            " 2D)                                                             \n",
            "                                                                 \n",
            " flatten_2 (Flatten)         (None, 6272)              0         \n",
            "                                                                 \n",
            " dense_1 (Dense)             (None, 65)                407745    \n",
            "                                                                 \n",
            " dense_2 (Dense)             (None, 10)                660       \n",
            "                                                                 \n",
            "=================================================================\n",
            "Total params: 485,461\n",
            "Trainable params: 485,461\n",
            "Non-trainable params: 0\n",
            "_________________________________________________________________\n"
          ]
        }
      ]
    },
    {
      "cell_type": "markdown",
      "metadata": {
        "id": "35AwhtD-ASQM"
      },
      "source": [
        "La función red3.summary() nos indica:\n",
        "\n",
        "\n",
        "*   3200 = (7 x 7 de matriz W + 1 del bias) x 64 filtros\n",
        "*   0 => No hay parámetros que aprender porque es una operación max pooling\n",
        "*   La red convolucional 2 es 14 x 14\n",
        "*   73856 = (3 x 3 de matriz W x 64 filtros anteriores +  1 del bias) x 128 filtros\n",
        "*   407745 = 65 x 6272 + 65, porque tenemos 65 neuronas en la penúltima capa, 6272 = 7 x 7 x 128, y le sumamos 65 del sesgo.\n",
        "*   660 = 10 x 65 + 10, porque tenemos 10 neuronas de la capa *softmax*, 65 neuronas de la capa anterior y le sumamos 10 del sesgo.\n",
        "*   485461 = 3200 + 73856 + 407745 + 660 , puesto que es el número total de parámetros\n",
        "\n",
        "Después llevamos a cabo el paso de compilación cargando el optimizador, la función de pérdida y las métricas.\n",
        "\n",
        "\n"
      ]
    },
    {
      "cell_type": "code",
      "metadata": {
        "id": "qrZ1ck3RASQO"
      },
      "source": [
        "red3.compile(optimizer='Adam', \n",
        "                loss='sparse_categorical_crossentropy',\n",
        "                metrics=['accuracy'])"
      ],
      "execution_count": null,
      "outputs": []
    },
    {
      "cell_type": "markdown",
      "metadata": {
        "id": "3Bay_Cv6ASQP"
      },
      "source": [
        "Por último entrenamos la red a través de fit, realizando 5 épocas de entrenamiento y en mini lotes de 100 imagenes en cada uno. Además, lo evaluamos con los datos de prueba."
      ]
    },
    {
      "cell_type": "code",
      "metadata": {
        "id": "Rr9WKLjPASQQ",
        "colab": {
          "base_uri": "https://localhost:8080/"
        },
        "outputId": "ce8dac34-8d34-4690-878d-9e814f5b7312"
      },
      "source": [
        "red3.fit(train_images, train_labels,\n",
        "          epochs=5,\n",
        "         batch_size=100,\n",
        "          verbose=1)\n",
        "\n",
        "test_loss, test_acc = red3.evaluate(test_images, test_labels)\n",
        "\n",
        "print('Test accuracy:', test_acc)"
      ],
      "execution_count": null,
      "outputs": [
        {
          "output_type": "stream",
          "name": "stdout",
          "text": [
            "Epoch 1/5\n",
            "600/600 [==============================] - 8s 12ms/step - loss: 0.0973 - accuracy: 0.9710\n",
            "Epoch 2/5\n",
            "600/600 [==============================] - 7s 12ms/step - loss: 0.0677 - accuracy: 0.9764\n",
            "Epoch 3/5\n",
            "600/600 [==============================] - 7s 12ms/step - loss: 0.0559 - accuracy: 0.9797\n",
            "Epoch 4/5\n",
            "600/600 [==============================] - 7s 12ms/step - loss: 0.0492 - accuracy: 0.9810\n",
            "Epoch 5/5\n",
            "600/600 [==============================] - 7s 12ms/step - loss: 0.0437 - accuracy: 0.9836\n",
            "313/313 [==============================] - 2s 5ms/step - loss: 0.4451 - accuracy: 0.9145\n",
            "Test accuracy: 0.9144999980926514\n"
          ]
        }
      ]
    },
    {
      "cell_type": "markdown",
      "metadata": {
        "id": "8qXn29fcASQS"
      },
      "source": [
        "Vemos que la precisión es del 91% y la pérdida de un 44%.  \n",
        "Después de crear los tres modelos distintos, vemos que el modelo con menor pérdida y mejor precisión, por tanto el mejor modelo, es el tercero. El peor modelo es el primero, ya que es el de mayor pérdida y menor precisión.\n",
        "A raiz de estos resultados comprobamos que el peor modelo tiene menos filtros que los otros dos, y además no tiene padding. Asimismo, el tercer modelo utiliza el optimizador *adam*, obteniendo así mejores resultados."
      ]
    },
    {
      "cell_type": "markdown",
      "metadata": {
        "id": "Zy_mYQRtFemU"
      },
      "source": [
        "## 4. INTERPRETACIÓN RESULTADOS DEL CASO 1\n",
        "A continuación, vamos a multiplicar por cinco el número de épocas (25) en el caso 1.\n",
        "\n",
        "\n"
      ]
    },
    {
      "cell_type": "code",
      "metadata": {
        "colab": {
          "base_uri": "https://localhost:8080/"
        },
        "id": "y-fX5qMLFyZY",
        "outputId": "3008adcd-018b-4476-a948-c9280403d723"
      },
      "source": [
        "red1.fit(train_images, train_labels,\n",
        "          epochs=25,\n",
        "         batch_size=100,\n",
        "          verbose=0)\n",
        "\n",
        "test_loss, test_acc = red1.evaluate(test_images, test_labels)\n",
        "\n",
        "print('Test accuracy:', test_acc)"
      ],
      "execution_count": null,
      "outputs": [
        {
          "output_type": "stream",
          "name": "stdout",
          "text": [
            "313/313 [==============================] - 1s 3ms/step - loss: 0.3444 - accuracy: 0.8786\n",
            "Test accuracy: 0.878600001335144\n"
          ]
        }
      ]
    },
    {
      "cell_type": "markdown",
      "metadata": {
        "id": "BEr8TKNNbGEs"
      },
      "source": [
        "Vemos que ahora la pérdida de un 36%, mientras que con 5 épocas era de un 50%. Por otro lado, la precisión ha aumentado al 87% frente un 82% que tenía inicialmente.  \n",
        "En este caso, el modelo ha mejorado al multiplicar por cinco las épocas, no se ha producido *overfitting*."
      ]
    },
    {
      "cell_type": "markdown",
      "metadata": {
        "id": "G3_xxz6PF2oB"
      },
      "source": [
        "## 5. CAMBIO DE FUNCIÓN DE ACTIVACIÓN EN EL CASO 1\n",
        "Ahora vemos lo que ocurre si en lugar de la función de activación *relu* usamos *tanh* en las dos capas convolucionales de la red 1."
      ]
    },
    {
      "cell_type": "code",
      "metadata": {
        "colab": {
          "base_uri": "https://localhost:8080/"
        },
        "id": "X7tsR9QCGXFB",
        "outputId": "f9663e10-804c-4981-93c2-6ad8ec6be53b"
      },
      "source": [
        "red1 = Sequential()\n",
        "red1.add(Conv2D(32, (5, 5), activation='tanh', input_shape=(28, 28, 1)))\n",
        "red1.add(MaxPooling2D((2, 2)))\n",
        "red1.add(Conv2D(64, (5, 5), activation='tanh'))\n",
        "red1.add(MaxPooling2D((2, 2)))\n",
        "red1.add(Flatten())\n",
        "red1.add(Dense(10, activation='softmax'))\n",
        "red1.summary()"
      ],
      "execution_count": null,
      "outputs": [
        {
          "output_type": "stream",
          "name": "stdout",
          "text": [
            "Model: \"sequential_3\"\n",
            "_________________________________________________________________\n",
            " Layer (type)                Output Shape              Param #   \n",
            "=================================================================\n",
            " conv2d_6 (Conv2D)           (None, 24, 24, 32)        832       \n",
            "                                                                 \n",
            " max_pooling2d_6 (MaxPooling  (None, 12, 12, 32)       0         \n",
            " 2D)                                                             \n",
            "                                                                 \n",
            " conv2d_7 (Conv2D)           (None, 8, 8, 64)          51264     \n",
            "                                                                 \n",
            " max_pooling2d_7 (MaxPooling  (None, 4, 4, 64)         0         \n",
            " 2D)                                                             \n",
            "                                                                 \n",
            " flatten_4 (Flatten)         (None, 1024)              0         \n",
            "                                                                 \n",
            " dense_5 (Dense)             (None, 10)                10250     \n",
            "                                                                 \n",
            "=================================================================\n",
            "Total params: 62,346\n",
            "Trainable params: 62,346\n",
            "Non-trainable params: 0\n",
            "_________________________________________________________________\n"
          ]
        }
      ]
    },
    {
      "cell_type": "code",
      "metadata": {
        "id": "wFAFyBF5GXFE"
      },
      "source": [
        "red1.compile(optimizer='sgd', \n",
        "                loss='sparse_categorical_crossentropy',\n",
        "                metrics=['accuracy'])"
      ],
      "execution_count": null,
      "outputs": []
    },
    {
      "cell_type": "code",
      "metadata": {
        "colab": {
          "base_uri": "https://localhost:8080/"
        },
        "id": "Obow_lDfGXFF",
        "outputId": "d8a11e20-64b4-4c0e-b6dd-93e6dd06e1ce"
      },
      "source": [
        "red1.fit(train_images, train_labels,\n",
        "          epochs=5,\n",
        "         batch_size=100,\n",
        "          verbose=0)\n",
        "\n",
        "test_loss, test_acc = red1.evaluate(test_images, test_labels)\n",
        "\n",
        "print('Test accuracy:', test_acc)"
      ],
      "execution_count": null,
      "outputs": [
        {
          "output_type": "stream",
          "name": "stdout",
          "text": [
            "313/313 [==============================] - 1s 3ms/step - loss: 0.5102 - accuracy: 0.8142\n",
            "Test accuracy: 0.8141999840736389\n"
          ]
        }
      ]
    },
    {
      "cell_type": "markdown",
      "metadata": {
        "id": "xHSAJ7bLcV4x"
      },
      "source": [
        "En este caso, al cambiar la función de activación en las dos primeras capas convolucionales, la pérdida no ha variado con respecto a la incial. Sin embargo, la precisión ha disminuido a un 81%.  \n",
        "Por este motivo, creemos que es mejor dejar la función de activación *relu*. "
      ]
    },
    {
      "cell_type": "markdown",
      "metadata": {
        "id": "1GLf0q2CcUON"
      },
      "source": [
        "## 6. COMPARACIÓN DEL RENDIMIENTO DEL MODELO EN EL CONJUNTO DE DATOS DE ENTRENAMIENTO"
      ]
    },
    {
      "cell_type": "markdown",
      "metadata": {
        "id": "wLHaXdy6cjhk"
      },
      "source": [
        "Primero, creamos un conjunto de validación separando 10000 datos de entrenamiento para ver la precisión del modelo durante el entrenamiento con datos que nunca había visto. Después compararemos el rendimiento en cada una de las ocho redes."
      ]
    },
    {
      "cell_type": "code",
      "metadata": {
        "id": "WVCx31Aic2k0"
      },
      "source": [
        "x_val = train_images[:10000]\n",
        "partial_x_train = train_images[10000:]\n",
        "\n",
        "y_val = train_labels[:10000]\n",
        "partial_y_train = train_labels[10000:]"
      ],
      "execution_count": null,
      "outputs": []
    },
    {
      "cell_type": "markdown",
      "metadata": {
        "id": "fwCTZZPMdPBB"
      },
      "source": [
        "### Caso 1"
      ]
    },
    {
      "cell_type": "code",
      "metadata": {
        "colab": {
          "base_uri": "https://localhost:8080/"
        },
        "id": "iJz3Nb9gdXoW",
        "outputId": "7b9f8a4f-669a-406b-db8c-9eb061426e33"
      },
      "source": [
        "red1.compile(optimizer='sgd', \n",
        "                loss='sparse_categorical_crossentropy',\n",
        "                metrics=['accuracy'])\n",
        "\n",
        "history = red1.fit(partial_x_train,\n",
        "                   partial_y_train,\n",
        "                   epochs  = 20,\n",
        "                   batch_size = 512,\n",
        "                   validation_data = (x_val, y_val))"
      ],
      "execution_count": null,
      "outputs": [
        {
          "output_type": "stream",
          "name": "stdout",
          "text": [
            "Epoch 1/20\n",
            "98/98 [==============================] - 3s 22ms/step - loss: 0.5191 - accuracy: 0.8072 - val_loss: 0.4833 - val_accuracy: 0.8221\n",
            "Epoch 2/20\n",
            "98/98 [==============================] - 2s 18ms/step - loss: 0.4718 - accuracy: 0.8261 - val_loss: 0.4740 - val_accuracy: 0.8242\n",
            "Epoch 3/20\n",
            "98/98 [==============================] - 2s 18ms/step - loss: 0.4537 - accuracy: 0.8348 - val_loss: 0.4499 - val_accuracy: 0.8314\n",
            "Epoch 4/20\n",
            "98/98 [==============================] - 2s 18ms/step - loss: 0.4403 - accuracy: 0.8404 - val_loss: 0.4481 - val_accuracy: 0.8349\n",
            "Epoch 5/20\n",
            "98/98 [==============================] - 2s 18ms/step - loss: 0.4290 - accuracy: 0.8453 - val_loss: 0.4245 - val_accuracy: 0.8477\n",
            "Epoch 6/20\n",
            "98/98 [==============================] - 2s 18ms/step - loss: 0.4190 - accuracy: 0.8486 - val_loss: 0.4185 - val_accuracy: 0.8513\n",
            "Epoch 7/20\n",
            "98/98 [==============================] - 2s 18ms/step - loss: 0.4104 - accuracy: 0.8528 - val_loss: 0.4092 - val_accuracy: 0.8538\n",
            "Epoch 8/20\n",
            "98/98 [==============================] - 2s 18ms/step - loss: 0.4029 - accuracy: 0.8558 - val_loss: 0.4048 - val_accuracy: 0.8573\n",
            "Epoch 9/20\n",
            "98/98 [==============================] - 2s 18ms/step - loss: 0.3976 - accuracy: 0.8584 - val_loss: 0.3975 - val_accuracy: 0.8593\n",
            "Epoch 10/20\n",
            "98/98 [==============================] - 2s 18ms/step - loss: 0.3892 - accuracy: 0.8613 - val_loss: 0.3941 - val_accuracy: 0.8622\n",
            "Epoch 11/20\n",
            "98/98 [==============================] - 2s 18ms/step - loss: 0.3825 - accuracy: 0.8640 - val_loss: 0.3950 - val_accuracy: 0.8564\n",
            "Epoch 12/20\n",
            "98/98 [==============================] - 2s 18ms/step - loss: 0.3802 - accuracy: 0.8645 - val_loss: 0.3863 - val_accuracy: 0.8644\n",
            "Epoch 13/20\n",
            "98/98 [==============================] - 2s 18ms/step - loss: 0.3737 - accuracy: 0.8670 - val_loss: 0.3808 - val_accuracy: 0.8654\n",
            "Epoch 14/20\n",
            "98/98 [==============================] - 2s 18ms/step - loss: 0.3714 - accuracy: 0.8680 - val_loss: 0.3746 - val_accuracy: 0.8674\n",
            "Epoch 15/20\n",
            "98/98 [==============================] - 2s 18ms/step - loss: 0.3655 - accuracy: 0.8695 - val_loss: 0.3715 - val_accuracy: 0.8697\n",
            "Epoch 16/20\n",
            "98/98 [==============================] - 2s 18ms/step - loss: 0.3627 - accuracy: 0.8705 - val_loss: 0.3683 - val_accuracy: 0.8709\n",
            "Epoch 17/20\n",
            "98/98 [==============================] - 2s 18ms/step - loss: 0.3576 - accuracy: 0.8729 - val_loss: 0.3638 - val_accuracy: 0.8705\n",
            "Epoch 18/20\n",
            "98/98 [==============================] - 2s 18ms/step - loss: 0.3555 - accuracy: 0.8731 - val_loss: 0.3647 - val_accuracy: 0.8705\n",
            "Epoch 19/20\n",
            "98/98 [==============================] - 2s 18ms/step - loss: 0.3494 - accuracy: 0.8768 - val_loss: 0.3597 - val_accuracy: 0.8713\n",
            "Epoch 20/20\n",
            "98/98 [==============================] - 2s 18ms/step - loss: 0.3462 - accuracy: 0.8768 - val_loss: 0.3602 - val_accuracy: 0.8717\n"
          ]
        }
      ]
    },
    {
      "cell_type": "code",
      "metadata": {
        "colab": {
          "base_uri": "https://localhost:8080/",
          "height": 384
        },
        "id": "klVpjey_e4Ao",
        "outputId": "3387ba35-d880-40c6-f840-3a57a27e351a"
      },
      "source": [
        "history_dict = history.history\n",
        "history_dict.keys()\n",
        "print(history_dict['loss'])\n",
        "print(history_dict['accuracy'])\n",
        "print(history_dict['val_loss'])\n",
        "print(history_dict['val_accuracy'])\n",
        "\n",
        "accuracy = history.history['accuracy']\n",
        "val_accuracy = history.history['val_accuracy']\n",
        "loss = history.history['loss']\n",
        "val_loss = history.history['val_loss']\n",
        "\n",
        "epochs = range(1, len(accuracy) + 1)\n",
        "\n",
        "\n",
        "plt.plot(epochs, loss, 'bo', label='Pérdida de Entrenamiento')\n",
        "plt.plot(epochs, val_loss, 'b', label='Pérdida de Validación')\n",
        "plt.title('Pérdida de Entrenamiento y Validación')\n",
        "plt.xlabel('Epochs')\n",
        "plt.ylabel('Loss')\n",
        "plt.legend()\n",
        "\n",
        "plt.show()"
      ],
      "execution_count": null,
      "outputs": [
        {
          "output_type": "stream",
          "name": "stdout",
          "text": [
            "[0.5190793871879578, 0.4717555046081543, 0.4537163972854614, 0.44033780694007874, 0.4289730489253998, 0.4190452992916107, 0.4103897213935852, 0.40289032459259033, 0.39764082431793213, 0.3891562223434448, 0.38249507546424866, 0.38017475605010986, 0.37365448474884033, 0.3714425265789032, 0.3655378222465515, 0.3627014458179474, 0.3576352596282959, 0.355499267578125, 0.34942397475242615, 0.346184641122818]\n",
            "[0.8072199821472168, 0.8261399865150452, 0.8348399996757507, 0.8403599858283997, 0.845300018787384, 0.848580002784729, 0.8528199791908264, 0.8557999730110168, 0.8583599925041199, 0.8612599968910217, 0.8639600276947021, 0.8645399808883667, 0.8670200109481812, 0.8679800033569336, 0.8694599866867065, 0.8705400228500366, 0.8729199767112732, 0.8731200098991394, 0.876800000667572, 0.8767799735069275]\n",
            "[0.4833106994628906, 0.4739893078804016, 0.4499189853668213, 0.4481353461742401, 0.42451879382133484, 0.41847026348114014, 0.4092171788215637, 0.40479570627212524, 0.3974626660346985, 0.394135981798172, 0.39504069089889526, 0.38628995418548584, 0.3807676434516907, 0.3745672404766083, 0.3714878559112549, 0.3683450520038605, 0.3637509047985077, 0.3647370934486389, 0.359709769487381, 0.36016884446144104]\n",
            "[0.8220999836921692, 0.8241999745368958, 0.8313999772071838, 0.8349000215530396, 0.8476999998092651, 0.8513000011444092, 0.8537999987602234, 0.8572999835014343, 0.8593000173568726, 0.8622000217437744, 0.8564000129699707, 0.8644000291824341, 0.8654000163078308, 0.8673999905586243, 0.869700014591217, 0.8708999752998352, 0.8705000281333923, 0.8705000281333923, 0.8712999820709229, 0.8716999888420105]\n"
          ]
        },
        {
          "output_type": "display_data",
          "data": {
            "image/png": "[encoded data removed]",
            "text/plain": [
              "<Figure size 432x288 with 1 Axes>"
            ]
          },
          "metadata": {
            "needs_background": "light"
          }
        }
      ]
    },
    {
      "cell_type": "markdown",
      "metadata": {
        "id": "nnHIddrKf5Rl"
      },
      "source": [
        "Se puede observar que sí mejora bastante el modelo con 20 épocas, puesto que la pérdida de los datos de validación y de los datos de entrenamiento son muy similares. Aunque, la pérdida de validación es mayor a partir de la decimoséptima iteración."
      ]
    },
    {
      "cell_type": "code",
      "metadata": {
        "colab": {
          "base_uri": "https://localhost:8080/",
          "height": 295
        },
        "id": "9A0gJKA3fVeJ",
        "outputId": "44a91863-a018-4df3-bf9f-2661dfe11806"
      },
      "source": [
        "\n",
        "plt.clf()\n",
        "accuracy_values = history_dict['accuracy']\n",
        "val_accuracy_values = history_dict['val_accuracy']\n",
        "\n",
        "plt.plot(epochs, accuracy, 'bo', label='Precisión de Entrenamiento')\n",
        "plt.plot(epochs, val_accuracy, 'b', label='Precisión de Validación')\n",
        "plt.title('Precisión de Entrenamiento y Valización')\n",
        "plt.xlabel('Epochs')\n",
        "plt.ylabel('Loss')\n",
        "plt.legend()\n",
        "\n",
        "plt.show()"
      ],
      "execution_count": null,
      "outputs": [
        {
          "output_type": "display_data",
          "data": {
            "image/png": "[encoded data removed]",
            "text/plain": [
              "<Figure size 432x288 with 1 Axes>"
            ]
          },
          "metadata": {
            "needs_background": "light"
          }
        }
      ]
    },
    {
      "cell_type": "markdown",
      "metadata": {
        "id": "fUsTThzxgcTe"
      },
      "source": [
        "Aquí vemos que también mejora bastante el modelo cuanto mayor sea el número de épocas, aunque a partir de la decimoséptima iteración la pracesión de entrenamiento es mayor que la de validación, pero en ningún caso se produce sobreentrenamiento."
      ]
    },
    {
      "cell_type": "markdown",
      "metadata": {
        "id": "dYRzPihLeHS7"
      },
      "source": [
        "### Caso 2"
      ]
    },
    {
      "cell_type": "code",
      "metadata": {
        "colab": {
          "base_uri": "https://localhost:8080/"
        },
        "id": "7E-Y7kjyhjgt",
        "outputId": "1437e3b5-619a-4770-9a36-0e441eee6716"
      },
      "source": [
        "red2.compile(optimizer='sgd', \n",
        "                loss='sparse_categorical_crossentropy',\n",
        "                metrics=['accuracy'])\n",
        "\n",
        "history = red2.fit(partial_x_train,\n",
        "                   partial_y_train,\n",
        "                   epochs  = 20,\n",
        "                   batch_size = 512,\n",
        "                   validation_data = (x_val, y_val))"
      ],
      "execution_count": null,
      "outputs": [
        {
          "output_type": "stream",
          "name": "stdout",
          "text": [
            "Epoch 1/20\n",
            "98/98 [==============================] - 5s 49ms/step - loss: 0.0762 - accuracy: 0.9724 - val_loss: 0.4224 - val_accuracy: 0.9120\n",
            "Epoch 2/20\n",
            "98/98 [==============================] - 5s 46ms/step - loss: 0.0644 - accuracy: 0.9768 - val_loss: 0.4318 - val_accuracy: 0.9110\n",
            "Epoch 3/20\n",
            "98/98 [==============================] - 5s 47ms/step - loss: 0.0611 - accuracy: 0.9778 - val_loss: 0.4325 - val_accuracy: 0.9102\n",
            "Epoch 4/20\n",
            "98/98 [==============================] - 4s 43ms/step - loss: 0.0591 - accuracy: 0.9788 - val_loss: 0.4393 - val_accuracy: 0.9094\n",
            "Epoch 5/20\n",
            "98/98 [==============================] - 5s 46ms/step - loss: 0.0571 - accuracy: 0.9795 - val_loss: 0.4448 - val_accuracy: 0.9108\n",
            "Epoch 6/20\n",
            "98/98 [==============================] - 5s 47ms/step - loss: 0.0561 - accuracy: 0.9797 - val_loss: 0.4610 - val_accuracy: 0.9121\n",
            "Epoch 7/20\n",
            "98/98 [==============================] - 4s 43ms/step - loss: 0.0543 - accuracy: 0.9801 - val_loss: 0.4553 - val_accuracy: 0.9087\n",
            "Epoch 8/20\n",
            "98/98 [==============================] - 4s 44ms/step - loss: 0.0534 - accuracy: 0.9814 - val_loss: 0.4735 - val_accuracy: 0.9103\n",
            "Epoch 9/20\n",
            "98/98 [==============================] - 4s 43ms/step - loss: 0.0528 - accuracy: 0.9812 - val_loss: 0.4722 - val_accuracy: 0.9083\n",
            "Epoch 10/20\n",
            "98/98 [==============================] - 4s 43ms/step - loss: 0.0514 - accuracy: 0.9821 - val_loss: 0.4665 - val_accuracy: 0.9107\n",
            "Epoch 11/20\n",
            "98/98 [==============================] - 4s 43ms/step - loss: 0.0504 - accuracy: 0.9821 - val_loss: 0.4668 - val_accuracy: 0.9090\n",
            "Epoch 12/20\n",
            "98/98 [==============================] - 4s 44ms/step - loss: 0.0507 - accuracy: 0.9824 - val_loss: 0.4674 - val_accuracy: 0.9097\n",
            "Epoch 13/20\n",
            "98/98 [==============================] - 4s 44ms/step - loss: 0.0492 - accuracy: 0.9825 - val_loss: 0.4791 - val_accuracy: 0.9101\n",
            "Epoch 14/20\n",
            "98/98 [==============================] - 4s 44ms/step - loss: 0.0474 - accuracy: 0.9841 - val_loss: 0.4807 - val_accuracy: 0.9098\n",
            "Epoch 15/20\n",
            "98/98 [==============================] - 4s 44ms/step - loss: 0.0470 - accuracy: 0.9840 - val_loss: 0.4883 - val_accuracy: 0.9119\n",
            "Epoch 16/20\n",
            "98/98 [==============================] - 4s 44ms/step - loss: 0.0457 - accuracy: 0.9843 - val_loss: 0.4975 - val_accuracy: 0.9098\n",
            "Epoch 17/20\n",
            "98/98 [==============================] - 5s 47ms/step - loss: 0.0454 - accuracy: 0.9847 - val_loss: 0.4940 - val_accuracy: 0.9105\n",
            "Epoch 18/20\n",
            "98/98 [==============================] - 4s 43ms/step - loss: 0.0447 - accuracy: 0.9846 - val_loss: 0.5053 - val_accuracy: 0.9123\n",
            "Epoch 19/20\n",
            "98/98 [==============================] - 4s 43ms/step - loss: 0.0442 - accuracy: 0.9851 - val_loss: 0.4909 - val_accuracy: 0.9104\n",
            "Epoch 20/20\n",
            "98/98 [==============================] - 4s 44ms/step - loss: 0.0434 - accuracy: 0.9852 - val_loss: 0.4920 - val_accuracy: 0.9092\n"
          ]
        }
      ]
    },
    {
      "cell_type": "code",
      "metadata": {
        "colab": {
          "base_uri": "https://localhost:8080/",
          "height": 384
        },
        "id": "n6Y-omJBhjgu",
        "outputId": "c4beea3a-0c70-47e2-aea9-a2b682d9b0a2"
      },
      "source": [
        "history_dict = history.history\n",
        "history_dict.keys()\n",
        "print(history_dict['loss'])\n",
        "print(history_dict['accuracy'])\n",
        "print(history_dict['val_loss'])\n",
        "print(history_dict['val_accuracy'])\n",
        "\n",
        "accuracy = history.history['accuracy']\n",
        "val_accuracy = history.history['val_accuracy']\n",
        "loss = history.history['loss']\n",
        "val_loss = history.history['val_loss']\n",
        "\n",
        "epochs = range(1, len(accuracy) + 1)\n",
        "\n",
        "\n",
        "plt.plot(epochs, loss, 'bo', label='Pérdida de Entrenamiento')\n",
        "plt.plot(epochs, val_loss, 'b', label='Pérdida de Validación')\n",
        "plt.title('Pérdida de Entrenamiento y Validación')\n",
        "plt.xlabel('Epochs')\n",
        "plt.ylabel('Loss')\n",
        "plt.legend()\n",
        "\n",
        "plt.show()"
      ],
      "execution_count": null,
      "outputs": [
        {
          "output_type": "stream",
          "name": "stdout",
          "text": [
            "[0.07615536451339722, 0.06436619162559509, 0.06112917140126228, 0.059050239622592926, 0.05705435201525688, 0.056063003838062286, 0.054349806159734726, 0.05340849608182907, 0.052765145897865295, 0.05136653780937195, 0.05039771646261215, 0.050665952265262604, 0.04921974614262581, 0.04744405299425125, 0.047018248587846756, 0.045745816081762314, 0.045367415994405746, 0.044656865298748016, 0.0441509485244751, 0.043366748839616776]\n",
            "[0.9723600149154663, 0.9767600297927856, 0.9778000116348267, 0.9788200259208679, 0.9795200228691101, 0.9796800017356873, 0.9800599813461304, 0.9813600182533264, 0.981220006942749, 0.9821400046348572, 0.9820799827575684, 0.9823600053787231, 0.9825400114059448, 0.9841200113296509, 0.9840400218963623, 0.9843000173568726, 0.9847000241279602, 0.9846000075340271, 0.9851400256156921, 0.9852200150489807]\n",
            "[0.42243099212646484, 0.43177059292793274, 0.43249356746673584, 0.4392642676830292, 0.44479501247406006, 0.46099886298179626, 0.45527783036231995, 0.4735446274280548, 0.472168892621994, 0.4665237367153168, 0.46684595942497253, 0.4674208462238312, 0.4790521562099457, 0.48069071769714355, 0.4882669448852539, 0.49745333194732666, 0.4940229058265686, 0.5053006410598755, 0.490861713886261, 0.4919927716255188]\n",
            "[0.9120000004768372, 0.9110000133514404, 0.9101999998092651, 0.9093999862670898, 0.9107999801635742, 0.9121000170707703, 0.9086999893188477, 0.9103000164031982, 0.90829998254776, 0.9107000231742859, 0.9089999794960022, 0.9096999764442444, 0.910099983215332, 0.9097999930381775, 0.911899983882904, 0.9097999930381775, 0.9104999899864197, 0.9122999906539917, 0.9103999733924866, 0.9092000126838684]\n"
          ]
        },
        {
          "output_type": "display_data",
          "data": {
            "image/png": "[encoded data removed]",
            "text/plain": [
              "<Figure size 432x288 with 1 Axes>"
            ]
          },
          "metadata": {
            "needs_background": "light"
          }
        }
      ]
    },
    {
      "cell_type": "markdown",
      "metadata": {
        "id": "AeSLAIaMhjgv"
      },
      "source": [
        "Se puede observar que la pérdida de validación se comporta de manera totalmente diferente que la pérdida de entrenamiento y que la pérdida de validación inicial es la menor de todas las pérdidas de validación. Aunque es mayor a la de entrenamiento. Creemos que con dos épocas de entrenamiento sería suficiente."
      ]
    },
    {
      "cell_type": "code",
      "metadata": {
        "colab": {
          "base_uri": "https://localhost:8080/",
          "height": 295
        },
        "id": "HA80Omvthjgw",
        "outputId": "4c68f973-f8a1-4d3c-d497-fdf4a460b7ca"
      },
      "source": [
        "\n",
        "plt.clf()\n",
        "accuracy_values = history_dict['accuracy']\n",
        "val_accuracy_values = history_dict['val_accuracy']\n",
        "\n",
        "plt.plot(epochs, accuracy, 'bo', label='Precisión de Entrenamiento')\n",
        "plt.plot(epochs, val_accuracy, 'b', label='Precisión de Validación')\n",
        "plt.title('Precisión de Entrenamiento y Valización')\n",
        "plt.xlabel('Epochs')\n",
        "plt.ylabel('Loss')\n",
        "plt.legend()\n",
        "\n",
        "plt.show()"
      ],
      "execution_count": null,
      "outputs": [
        {
          "output_type": "display_data",
          "data": {
            "image/png": "[encoded data removed]",
            "text/plain": [
              "<Figure size 432x288 with 1 Axes>"
            ]
          },
          "metadata": {
            "needs_background": "light"
          }
        }
      ]
    },
    {
      "cell_type": "markdown",
      "metadata": {
        "id": "UvIV3ct8hjgx"
      },
      "source": [
        "Aquí vemos que la precisión de entrenamiento es mayor cuantas más épocas realicemos. Por otro lado, la de validación es menor a la de entrenamiento y a partir de la tercera iteración se vuelve un poco caótica. "
      ]
    },
    {
      "cell_type": "markdown",
      "metadata": {
        "id": "qKiyxrgUiXEQ"
      },
      "source": [
        "### Caso 3"
      ]
    },
    {
      "cell_type": "code",
      "metadata": {
        "colab": {
          "base_uri": "https://localhost:8080/"
        },
        "id": "_YJNPTFqiY7e",
        "outputId": "5b96065e-f44f-432a-c851-560b411920cc"
      },
      "source": [
        "red3.compile(   optimizer = 'Adam',\n",
        "                loss='sparse_categorical_crossentropy',\n",
        "                metrics=['accuracy'])\n",
        "\n",
        "history = red3.fit(partial_x_train,\n",
        "                   partial_y_train,\n",
        "                   epochs  = 20,\n",
        "                   batch_size = 512,\n",
        "                   validation_data = (x_val, y_val))"
      ],
      "execution_count": null,
      "outputs": [
        {
          "output_type": "stream",
          "name": "stdout",
          "text": [
            "Epoch 1/20\n",
            "98/98 [==============================] - 6s 51ms/step - loss: 0.0159 - accuracy: 0.9959 - val_loss: 0.2469 - val_accuracy: 0.9382\n",
            "Epoch 2/20\n",
            "98/98 [==============================] - 4s 45ms/step - loss: 0.0160 - accuracy: 0.9948 - val_loss: 0.2649 - val_accuracy: 0.9378\n",
            "Epoch 3/20\n",
            "98/98 [==============================] - 4s 45ms/step - loss: 0.0125 - accuracy: 0.9963 - val_loss: 0.2716 - val_accuracy: 0.9399\n",
            "Epoch 4/20\n",
            "98/98 [==============================] - 5s 48ms/step - loss: 0.0133 - accuracy: 0.9960 - val_loss: 0.2807 - val_accuracy: 0.9355\n",
            "Epoch 5/20\n",
            "98/98 [==============================] - 4s 45ms/step - loss: 0.0110 - accuracy: 0.9969 - val_loss: 0.3029 - val_accuracy: 0.9365\n",
            "Epoch 6/20\n",
            "98/98 [==============================] - 4s 45ms/step - loss: 0.0118 - accuracy: 0.9962 - val_loss: 0.2985 - val_accuracy: 0.9360\n",
            "Epoch 7/20\n",
            "98/98 [==============================] - 4s 46ms/step - loss: 0.0111 - accuracy: 0.9967 - val_loss: 0.3004 - val_accuracy: 0.9389\n",
            "Epoch 8/20\n",
            "98/98 [==============================] - 4s 46ms/step - loss: 0.0139 - accuracy: 0.9959 - val_loss: 0.3256 - val_accuracy: 0.9327\n",
            "Epoch 9/20\n",
            "98/98 [==============================] - 4s 46ms/step - loss: 0.0121 - accuracy: 0.9964 - val_loss: 0.3009 - val_accuracy: 0.9368\n",
            "Epoch 10/20\n",
            "98/98 [==============================] - 4s 46ms/step - loss: 0.0113 - accuracy: 0.9964 - val_loss: 0.3192 - val_accuracy: 0.9357\n",
            "Epoch 11/20\n",
            "98/98 [==============================] - 4s 46ms/step - loss: 0.0078 - accuracy: 0.9978 - val_loss: 0.3157 - val_accuracy: 0.9367\n",
            "Epoch 12/20\n",
            "98/98 [==============================] - 5s 49ms/step - loss: 0.0032 - accuracy: 0.9996 - val_loss: 0.3389 - val_accuracy: 0.9377\n",
            "Epoch 13/20\n",
            "98/98 [==============================] - 4s 45ms/step - loss: 0.0026 - accuracy: 0.9995 - val_loss: 0.3462 - val_accuracy: 0.9373\n",
            "Epoch 14/20\n",
            "98/98 [==============================] - 5s 47ms/step - loss: 0.0112 - accuracy: 0.9963 - val_loss: 0.3506 - val_accuracy: 0.9322\n",
            "Epoch 15/20\n",
            "98/98 [==============================] - 4s 46ms/step - loss: 0.0070 - accuracy: 0.9979 - val_loss: 0.3645 - val_accuracy: 0.9311\n",
            "Epoch 16/20\n",
            "98/98 [==============================] - 5s 49ms/step - loss: 0.0088 - accuracy: 0.9972 - val_loss: 0.3699 - val_accuracy: 0.9334\n",
            "Epoch 17/20\n",
            "98/98 [==============================] - 4s 45ms/step - loss: 0.0100 - accuracy: 0.9967 - val_loss: 0.3805 - val_accuracy: 0.9317\n",
            "Epoch 18/20\n",
            "98/98 [==============================] - 4s 46ms/step - loss: 0.0072 - accuracy: 0.9975 - val_loss: 0.3561 - val_accuracy: 0.9351\n",
            "Epoch 19/20\n",
            "98/98 [==============================] - 4s 46ms/step - loss: 0.0110 - accuracy: 0.9962 - val_loss: 0.3881 - val_accuracy: 0.9303\n",
            "Epoch 20/20\n",
            "98/98 [==============================] - 4s 46ms/step - loss: 0.0094 - accuracy: 0.9968 - val_loss: 0.3775 - val_accuracy: 0.9366\n"
          ]
        }
      ]
    },
    {
      "cell_type": "code",
      "metadata": {
        "colab": {
          "base_uri": "https://localhost:8080/",
          "height": 384
        },
        "id": "gF5p8XkgiY7f",
        "outputId": "c74c0fdb-c74a-40a3-c2d3-38218f901c43"
      },
      "source": [
        "history_dict = history.history\n",
        "history_dict.keys()\n",
        "print(history_dict['loss'])\n",
        "print(history_dict['accuracy'])\n",
        "print(history_dict['val_loss'])\n",
        "print(history_dict['val_accuracy'])\n",
        "\n",
        "accuracy = history.history['accuracy']\n",
        "val_accuracy = history.history['val_accuracy']\n",
        "loss = history.history['loss']\n",
        "val_loss = history.history['val_loss']\n",
        "\n",
        "epochs = range(1, len(accuracy) + 1)\n",
        "\n",
        "\n",
        "plt.plot(epochs, loss, 'bo', label='Pérdida de Entrenamiento')\n",
        "plt.plot(epochs, val_loss, 'b', label='Pérdida de Validación')\n",
        "plt.title('Pérdida de Entrenamiento y Validación')\n",
        "plt.xlabel('Epochs')\n",
        "plt.ylabel('Loss')\n",
        "plt.legend()\n",
        "\n",
        "plt.show()"
      ],
      "execution_count": null,
      "outputs": [
        {
          "output_type": "stream",
          "name": "stdout",
          "text": [
            "[0.015900561586022377, 0.01598171517252922, 0.012519577518105507, 0.013268589042127132, 0.011006124317646027, 0.011814942583441734, 0.011073469184339046, 0.013862577266991138, 0.012050886638462543, 0.011329361237585545, 0.0077855829149484634, 0.0032093196641653776, 0.0025730489287525415, 0.011216922663152218, 0.007041341159492731, 0.008828590624034405, 0.010022829286754131, 0.007211670745164156, 0.010958784259855747, 0.009367454797029495]\n",
            "[0.9958599805831909, 0.9948199987411499, 0.9963200092315674, 0.995959997177124, 0.9968600273132324, 0.9961599707603455, 0.9966599941253662, 0.9958800077438354, 0.9964200258255005, 0.9964399933815002, 0.9978399872779846, 0.9995800256729126, 0.9995399713516235, 0.9963200092315674, 0.9978799819946289, 0.9972000122070312, 0.9966800212860107, 0.9975200295448303, 0.99617999792099, 0.9968199729919434]\n",
            "[0.24685217440128326, 0.2648853361606598, 0.27157410979270935, 0.2807307541370392, 0.3028705418109894, 0.2985359728336334, 0.30040842294692993, 0.3255815804004669, 0.3009299039840698, 0.3191505968570709, 0.315662145614624, 0.3389328718185425, 0.34624263644218445, 0.3505656123161316, 0.3644840717315674, 0.3699440360069275, 0.38048040866851807, 0.356136679649353, 0.3880840241909027, 0.37752610445022583]\n",
            "[0.9381999969482422, 0.9377999901771545, 0.9398999810218811, 0.9355000257492065, 0.9365000128746033, 0.9359999895095825, 0.9388999938964844, 0.932699978351593, 0.9368000030517578, 0.935699999332428, 0.9366999864578247, 0.9376999735832214, 0.9373000264167786, 0.932200014591217, 0.9311000108718872, 0.9333999752998352, 0.9316999912261963, 0.9351000189781189, 0.9302999973297119, 0.9366000294685364]\n"
          ]
        },
        {
          "output_type": "display_data",
          "data": {
            "image/png": "[encoded data removed]",
            "text/plain": [
              "<Figure size 432x288 with 1 Axes>"
            ]
          },
          "metadata": {
            "needs_background": "light"
          }
        }
      ]
    },
    {
      "cell_type": "markdown",
      "metadata": {
        "id": "NJlkV4iDiY7g"
      },
      "source": [
        "Se puede observar que el modelo con 20 épocas no mejora más con más épocas, puesto que la pérdida de los datos de entrenamiento ya es muy baja desde el inicio y la de los datos de validación aumenta según aumentan las pérdidas. Creemos que con dos o tres épocas sería suficiente."
      ]
    },
    {
      "cell_type": "code",
      "metadata": {
        "colab": {
          "base_uri": "https://localhost:8080/",
          "height": 295
        },
        "id": "pPSCN_6miY7g",
        "outputId": "773fe4c2-2e5b-4e7c-ce64-92d5911b0259"
      },
      "source": [
        "\n",
        "plt.clf()\n",
        "accuracy_values = history_dict['accuracy']\n",
        "val_accuracy_values = history_dict['val_accuracy']\n",
        "\n",
        "plt.plot(epochs, accuracy, 'bo', label='Precisión de Entrenamiento')\n",
        "plt.plot(epochs, val_accuracy, 'b', label='Precisión de Validación')\n",
        "plt.title('Precisión de Entrenamiento y Valización')\n",
        "plt.xlabel('Epochs')\n",
        "plt.ylabel('Loss')\n",
        "plt.legend()\n",
        "\n",
        "plt.show()"
      ],
      "execution_count": null,
      "outputs": [
        {
          "output_type": "display_data",
          "data": {
            "image/png": "[encoded data removed]",
            "text/plain": [
              "<Figure size 432x288 with 1 Axes>"
            ]
          },
          "metadata": {
            "needs_background": "light"
          }
        }
      ]
    },
    {
      "cell_type": "markdown",
      "metadata": {
        "id": "9PlztL2WiY7h"
      },
      "source": [
        "Aquí vemos que tampoco mejora bastante el modelo cuanto mayor sea el número de épocas.  \n",
        "Tras evaluar el modelo con los datos de validación, vemos que como ya sabíamos previamente, los modelos con padding y con más filtros necesitan menos épocas para funcionar igual de bien, es decir, son mejores."
      ]
    },
    {
      "cell_type": "markdown",
      "metadata": {
        "id": "glgpUSsYGjKr"
      },
      "source": [
        "## 7. EVALUAR LOS MODELOS CON LOS DATOS DE PRUEBA\n",
        "En el apartado 3 ya hemos evaluado los tres modelos en cuanto a su precisión. A continuación, vamos a calcular sus matrices de confusión para tener en cuenta los tipos de predicciones correctas e incorrectas que realiza el modelo.  \n",
        "Primero creamos la función plot_confusion_matrix."
      ]
    },
    {
      "cell_type": "code",
      "metadata": {
        "id": "MaMI3HFsxP7-"
      },
      "source": [
        "def plot_confusion_matrix(cm, classes,\n",
        "                          normalize=False,\n",
        "                          title='Confusion matrix',\n",
        "                          cmap=plt.cm.Blues):\n",
        "    plt.imshow(cm, interpolation='nearest', cmap=cmap)\n",
        "    plt.title(title)\n",
        "    plt.colorbar()\n",
        "    tick_marks = np.arange(len(classes))\n",
        "    plt.xticks(tick_marks, classes, rotation=45)\n",
        "    plt.yticks(tick_marks, classes)\n",
        "\n",
        "    if normalize:\n",
        "        cm = cm.astype('float') / cm.sum(axis=1)[:, np.newaxis]\n",
        "\n",
        "    thresh = cm.max() / 2.\n",
        "    for i, j in itertools.product(range(cm.shape[0]), range(cm.shape[1])):\n",
        "        plt.text(j, i, cm[i, j],\n",
        "                 horizontalalignment=\"center\",\n",
        "                 color=\"white\" if cm[i, j] > thresh else \"black\")\n",
        "\n",
        "    plt.tight_layout()\n",
        "    plt.ylabel('Observación')\n",
        "    plt.xlabel('Predicción')"
      ],
      "execution_count": null,
      "outputs": []
    },
    {
      "cell_type": "markdown",
      "metadata": {
        "id": "DTf7i4PMBLwU"
      },
      "source": [
        "### 7.1- Caso 1"
      ]
    },
    {
      "cell_type": "code",
      "metadata": {
        "colab": {
          "base_uri": "https://localhost:8080/",
          "height": 416
        },
        "id": "_4v8EJ_PxqXN",
        "outputId": "1c8014a1-c76c-4019-be67-95adf161b34e"
      },
      "source": [
        "from collections import Counter\n",
        "from sklearn.metrics import confusion_matrix\n",
        "import itertools\n",
        "import numpy as np\n",
        "\n",
        "Y_pred = red1.predict(test_images)\n",
        "Y_pred_classes = np.argmax(Y_pred, axis = 1) \n",
        "Y_true = np.argmax(test_labels, axis = 1) \n",
        "confusion_mtx = confusion_matrix(Y_true, Y_pred_classes) \n",
        "plot_confusion_matrix(confusion_mtx, classes = range(10))"
      ],
      "execution_count": null,
      "outputs": [
        {
          "output_type": "error",
          "ename": "AxisError",
          "evalue": "ignored",
          "traceback": [
            "\u001b[0;31m---------------------------------------------------------------------------\u001b[0m",
            "\u001b[0;31mAxisError\u001b[0m                                 Traceback (most recent call last)",
            "\u001b[0;32m<ipython-input-22-1f78cb6ca2a7>\u001b[0m in \u001b[0;36m<module>\u001b[0;34m()\u001b[0m\n\u001b[1;32m      6\u001b[0m \u001b[0mY_pred\u001b[0m \u001b[0;34m=\u001b[0m \u001b[0mred1\u001b[0m\u001b[0;34m.\u001b[0m\u001b[0mpredict\u001b[0m\u001b[0;34m(\u001b[0m\u001b[0mtest_images\u001b[0m\u001b[0;34m)\u001b[0m\u001b[0;34m\u001b[0m\u001b[0;34m\u001b[0m\u001b[0m\n\u001b[1;32m      7\u001b[0m \u001b[0mY_pred_classes\u001b[0m \u001b[0;34m=\u001b[0m \u001b[0mnp\u001b[0m\u001b[0;34m.\u001b[0m\u001b[0margmax\u001b[0m\u001b[0;34m(\u001b[0m\u001b[0mY_pred\u001b[0m\u001b[0;34m,\u001b[0m \u001b[0maxis\u001b[0m \u001b[0;34m=\u001b[0m \u001b[0;36m1\u001b[0m\u001b[0;34m)\u001b[0m\u001b[0;34m\u001b[0m\u001b[0;34m\u001b[0m\u001b[0m\n\u001b[0;32m----> 8\u001b[0;31m \u001b[0mY_true\u001b[0m \u001b[0;34m=\u001b[0m \u001b[0mnp\u001b[0m\u001b[0;34m.\u001b[0m\u001b[0margmax\u001b[0m\u001b[0;34m(\u001b[0m\u001b[0mtest_labels\u001b[0m\u001b[0;34m,\u001b[0m \u001b[0maxis\u001b[0m \u001b[0;34m=\u001b[0m \u001b[0;36m1\u001b[0m\u001b[0;34m)\u001b[0m\u001b[0;34m\u001b[0m\u001b[0;34m\u001b[0m\u001b[0m\n\u001b[0m\u001b[1;32m      9\u001b[0m \u001b[0mconfusion_mtx\u001b[0m \u001b[0;34m=\u001b[0m \u001b[0mconfusion_matrix\u001b[0m\u001b[0;34m(\u001b[0m\u001b[0mY_true\u001b[0m\u001b[0;34m,\u001b[0m \u001b[0mY_pred_classes\u001b[0m\u001b[0;34m)\u001b[0m\u001b[0;34m\u001b[0m\u001b[0;34m\u001b[0m\u001b[0m\n\u001b[1;32m     10\u001b[0m \u001b[0mplot_confusion_matrix\u001b[0m\u001b[0;34m(\u001b[0m\u001b[0mconfusion_mtx\u001b[0m\u001b[0;34m,\u001b[0m \u001b[0mclasses\u001b[0m \u001b[0;34m=\u001b[0m \u001b[0mrange\u001b[0m\u001b[0;34m(\u001b[0m\u001b[0;36m10\u001b[0m\u001b[0;34m)\u001b[0m\u001b[0;34m)\u001b[0m\u001b[0;34m\u001b[0m\u001b[0;34m\u001b[0m\u001b[0m\n",
            "\u001b[0;32m<__array_function__ internals>\u001b[0m in \u001b[0;36margmax\u001b[0;34m(*args, **kwargs)\u001b[0m\n",
            "\u001b[0;32m/usr/local/lib/python3.7/dist-packages/numpy/core/fromnumeric.py\u001b[0m in \u001b[0;36margmax\u001b[0;34m(a, axis, out)\u001b[0m\n\u001b[1;32m   1186\u001b[0m \u001b[0;34m\u001b[0m\u001b[0m\n\u001b[1;32m   1187\u001b[0m     \"\"\"\n\u001b[0;32m-> 1188\u001b[0;31m     \u001b[0;32mreturn\u001b[0m \u001b[0m_wrapfunc\u001b[0m\u001b[0;34m(\u001b[0m\u001b[0ma\u001b[0m\u001b[0;34m,\u001b[0m \u001b[0;34m'argmax'\u001b[0m\u001b[0;34m,\u001b[0m \u001b[0maxis\u001b[0m\u001b[0;34m=\u001b[0m\u001b[0maxis\u001b[0m\u001b[0;34m,\u001b[0m \u001b[0mout\u001b[0m\u001b[0;34m=\u001b[0m\u001b[0mout\u001b[0m\u001b[0;34m)\u001b[0m\u001b[0;34m\u001b[0m\u001b[0;34m\u001b[0m\u001b[0m\n\u001b[0m\u001b[1;32m   1189\u001b[0m \u001b[0;34m\u001b[0m\u001b[0m\n\u001b[1;32m   1190\u001b[0m \u001b[0;34m\u001b[0m\u001b[0m\n",
            "\u001b[0;32m/usr/local/lib/python3.7/dist-packages/numpy/core/fromnumeric.py\u001b[0m in \u001b[0;36m_wrapfunc\u001b[0;34m(obj, method, *args, **kwds)\u001b[0m\n\u001b[1;32m     56\u001b[0m \u001b[0;34m\u001b[0m\u001b[0m\n\u001b[1;32m     57\u001b[0m     \u001b[0;32mtry\u001b[0m\u001b[0;34m:\u001b[0m\u001b[0;34m\u001b[0m\u001b[0;34m\u001b[0m\u001b[0m\n\u001b[0;32m---> 58\u001b[0;31m         \u001b[0;32mreturn\u001b[0m \u001b[0mbound\u001b[0m\u001b[0;34m(\u001b[0m\u001b[0;34m*\u001b[0m\u001b[0margs\u001b[0m\u001b[0;34m,\u001b[0m \u001b[0;34m**\u001b[0m\u001b[0mkwds\u001b[0m\u001b[0;34m)\u001b[0m\u001b[0;34m\u001b[0m\u001b[0;34m\u001b[0m\u001b[0m\n\u001b[0m\u001b[1;32m     59\u001b[0m     \u001b[0;32mexcept\u001b[0m \u001b[0mTypeError\u001b[0m\u001b[0;34m:\u001b[0m\u001b[0;34m\u001b[0m\u001b[0;34m\u001b[0m\u001b[0m\n\u001b[1;32m     60\u001b[0m         \u001b[0;31m# A TypeError occurs if the object does have such a method in its\u001b[0m\u001b[0;34m\u001b[0m\u001b[0;34m\u001b[0m\u001b[0;34m\u001b[0m\u001b[0m\n",
            "\u001b[0;31mAxisError\u001b[0m: axis 1 is out of bounds for array of dimension 1"
          ]
        }
      ]
    },
    {
      "cell_type": "markdown",
      "metadata": {
        "id": "XazvPGDUBdq_"
      },
      "source": [
        "### 7.2- Caso 2"
      ]
    },
    {
      "cell_type": "code",
      "metadata": {
        "id": "IsWH6sFUBdrA"
      },
      "source": [
        "from collections import Counter\n",
        "from sklearn.metrics import confusion_matrix\n",
        "import itertools\n",
        "import numpy as np\n",
        "\n",
        "Y_pred = red2.predict(test_images)\n",
        "Y_pred_classes = np.argmax(Y_pred, axis = 1) \n",
        "Y_true = np.argmax(test_labels, axis = 1) \n",
        "confusion_mtx = confusion_matrix(Y_true, Y_pred_classes) \n",
        "plot_confusion_matrix(confusion_mtx, classes = range(10))"
      ],
      "execution_count": null,
      "outputs": []
    },
    {
      "cell_type": "markdown",
      "metadata": {
        "id": "zoP73A9FBeGB"
      },
      "source": [
        "### 7.3- Caso 3"
      ]
    },
    {
      "cell_type": "code",
      "metadata": {
        "id": "q1bdM_kQBeGC"
      },
      "source": [
        "from collections import Counter\n",
        "from sklearn.metrics import confusion_matrix\n",
        "import itertools\n",
        "import numpy as np\n",
        "\n",
        "Y_pred = red3.predict(test_images)\n",
        "Y_pred_classes = np.argmax(Y_pred, axis = 1) \n",
        "Y_true = np.argmax(test_labels, axis = 1) \n",
        "confusion_mtx = confusion_matrix(Y_true, Y_pred_classes) \n",
        "plot_confusion_matrix(confusion_mtx, classes = range(10))"
      ],
      "execution_count": null,
      "outputs": []
    },
    {
      "cell_type": "markdown",
      "metadata": {
        "id": "5WCOLeUUqCbo"
      },
      "source": [
        "## 8. PREDICCIONES SOBRE LAS IMÁGENES DE _TEST_\n",
        "Vamos a realizar predicciones para las 14 primeras imágenes con cada uno de los tres modelos. Después comentaremos los resultados para la sexta imagen.  \n",
        "Primero vemos que la sexta imagen corresponde con unos pantalones."
      ]
    },
    {
      "cell_type": "code",
      "metadata": {
        "colab": {
          "base_uri": "https://localhost:8080/",
          "height": 265
        },
        "id": "4QhMjAW5mjU6",
        "outputId": "f7751872-bec1-4a30-a479-198bab71a607"
      },
      "source": [
        "(train_images, train_labels), (test_images, test_labels) = fashion_mnist.load_data()\n",
        "digit = test_images[5]\n",
        "plt.imshow(digit, cmap=plt.cm.binary)\n",
        "plt.show()"
      ],
      "execution_count": null,
      "outputs": [
        {
          "output_type": "display_data",
          "data": {
            "image/png": "[encoded data removed]",
            "text/plain": [
              "<Figure size 432x288 with 1 Axes>"
            ]
          },
          "metadata": {
            "needs_background": "light"
          }
        }
      ]
    },
    {
      "cell_type": "markdown",
      "metadata": {
        "id": "r7X7CVHKCbwA"
      },
      "source": [
        "Después creamos la función plot_image para ir mostrando por pantalla las distintas predicciones."
      ]
    },
    {
      "cell_type": "code",
      "metadata": {
        "id": "BvvjhU8ZqF2S"
      },
      "source": [
        "def plot_image(i, predictions_array, true_label, img):\n",
        "  predictions_array, true_label, img = predictions_array, true_label[i], img[i]\n",
        "  plt.grid(False)\n",
        "  plt.xticks([])\n",
        "  plt.yticks([])\n",
        "\n",
        "  plt.imshow(img, cmap=plt.cm.binary)    \n",
        "\n",
        "  predicted_label = np.argmax(predictions_array)\n",
        "  if predicted_label.all() == true_label.all():\n",
        "    color = 'blue'\n",
        "  else:\n",
        "    color = 'red'\n",
        "\n",
        "  plt.xlabel(\"{} {:2.0f}% ({})\".format(predicted_label,\n",
        "                                100*np.max(predictions_array),\n",
        "                                true_label),\n",
        "                                color=color)\n",
        "\n",
        "def plot_value_array(i, predictions_array, true_label):\n",
        "  predictions_array, true_label = predictions_array, true_label[i]\n",
        "  plt.grid(False)\n",
        "  plt.xticks(range(10))\n",
        "  plt.yticks([])\n",
        "  thisplot = plt.bar(range(10), predictions_array, color=\"#00FF00\")\n",
        "  plt.ylim([0, 1])\n",
        "  predicted_label = np.argmax(predictions_array)\n",
        "\n",
        "  thisplot[predicted_label].set_color('red')\n",
        "  thisplot[true_label].set_color('black')"
      ],
      "execution_count": null,
      "outputs": []
    },
    {
      "cell_type": "markdown",
      "metadata": {
        "id": "LjRKmITrpoI3"
      },
      "source": [
        "### Caso 1"
      ]
    },
    {
      "cell_type": "code",
      "metadata": {
        "colab": {
          "base_uri": "https://localhost:8080/"
        },
        "id": "KVyD_8NApmNa",
        "outputId": "6a0e2ab5-cf3f-4a2a-908f-9b117b2378ed"
      },
      "source": [
        "predictions = red1.predict(test_images)\n",
        "print(np.argmax(predictions[5]))\n",
        "print(predictions[5])\n",
        "np.sum(predictions[5])\n",
        "print(predictions)"
      ],
      "execution_count": null,
      "outputs": [
        {
          "output_type": "stream",
          "name": "stdout",
          "text": [
            "1\n",
            "[1.3472604e-02 9.6461552e-01 5.8377162e-04 6.8395800e-04 1.3488210e-02\n",
            " 1.0544972e-05 7.0582400e-03 2.0112268e-06 8.4911822e-05 1.9373891e-07]\n",
            "[[5.91972935e-07 9.24511880e-08 2.09253576e-05 ... 1.30481511e-01\n",
            "  1.84468236e-02 7.37740338e-01]\n",
            " [1.74893085e-02 1.13988564e-04 8.62250388e-01 ... 2.27990245e-06\n",
            "  9.31565184e-03 4.62036231e-04]\n",
            " [6.11246040e-04 9.98774350e-01 2.67967425e-05 ... 1.31360525e-06\n",
            "  8.89452713e-06 2.13266063e-07]\n",
            " ...\n",
            " [6.67527094e-02 7.14830458e-05 6.83743060e-02 ... 1.22144178e-04\n",
            "  5.41389525e-01 3.96394535e-06]\n",
            " [1.27475068e-04 9.96956348e-01 7.29025051e-05 ... 2.78405787e-05\n",
            "  6.15489535e-06 4.27325904e-06]\n",
            " [1.70607764e-05 3.14210865e-06 5.02688752e-04 ... 1.00003823e-03\n",
            "  9.89499986e-01 1.67691207e-03]]\n"
          ]
        }
      ]
    },
    {
      "cell_type": "code",
      "metadata": {
        "colab": {
          "base_uri": "https://localhost:8080/",
          "height": 1000
        },
        "id": "K6zPRJZHnJPS",
        "outputId": "d9a72d54-716a-4f56-ed0d-c70f7e90d4e1"
      },
      "source": [
        "(train_images, train_labels), (test_images, test_labels) = fashion_mnist.load_data()\n",
        "\n",
        "predictions = red1.predict(test_images)\n",
        "for i in range(14):\n",
        "  plt.figure(figsize=(6,3))\n",
        "  plt.subplot(1,2,1)\n",
        "  plot_image(i, predictions[i], test_labels, test_images.reshape(10000,28,28))\n",
        "  plt.subplot(1,2,2)\n",
        "  plot_value_array(i, predictions[i],  test_labels)\n",
        "  plt.show()\n",
        "  plt.clf()"
      ],
      "execution_count": null,
      "outputs": [
        {
          "output_type": "display_data",
          "data": {
            "image/png": "[encoded data removed]",
            "text/plain": [
              "<Figure size 432x216 with 2 Axes>"
            ]
          },
          "metadata": {
            "needs_background": "light"
          }
        },
        {
          "output_type": "display_data",
          "data": {
            "text/plain": [
              "<Figure size 432x288 with 0 Axes>"
            ]
          },
          "metadata": {}
        },
        {
          "output_type": "display_data",
          "data": {
            "image/png": "[encoded data removed]",
            "text/plain": [
              "<Figure size 432x216 with 2 Axes>"
            ]
          },
          "metadata": {
            "needs_background": "light"
          }
        },
        {
          "output_type": "display_data",
          "data": {
            "text/plain": [
              "<Figure size 432x288 with 0 Axes>"
            ]
          },
          "metadata": {}
        },
        {
          "output_type": "display_data",
          "data": {
            "image/png": "[encoded data removed]",
            "text/plain": [
              "<Figure size 432x216 with 2 Axes>"
            ]
          },
          "metadata": {
            "needs_background": "light"
          }
        },
        {
          "output_type": "display_data",
          "data": {
            "text/plain": [
              "<Figure size 432x288 with 0 Axes>"
            ]
          },
          "metadata": {}
        },
        {
          "output_type": "display_data",
          "data": {
            "image/png": "[encoded data removed]",
            "text/plain": [
              "<Figure size 432x216 with 2 Axes>"
            ]
          },
          "metadata": {
            "needs_background": "light"
          }
        },
        {
          "output_type": "display_data",
          "data": {
            "text/plain": [
              "<Figure size 432x288 with 0 Axes>"
            ]
          },
          "metadata": {}
        },
        {
          "output_type": "display_data",
          "data": {
            "image/png": "[encoded data removed]",
            "text/plain": [
              "<Figure size 432x216 with 2 Axes>"
            ]
          },
          "metadata": {
            "needs_background": "light"
          }
        },
        {
          "output_type": "display_data",
          "data": {
            "text/plain": [
              "<Figure size 432x288 with 0 Axes>"
            ]
          },
          "metadata": {}
        },
        {
          "output_type": "display_data",
          "data": {
            "image/png": "[encoded data removed]",
            "text/plain": [
              "<Figure size 432x216 with 2 Axes>"
            ]
          },
          "metadata": {
            "needs_background": "light"
          }
        },
        {
          "output_type": "display_data",
          "data": {
            "text/plain": [
              "<Figure size 432x288 with 0 Axes>"
            ]
          },
          "metadata": {}
        },
        {
          "output_type": "display_data",
          "data": {
            "image/png": "[encoded data removed]",
            "text/plain": [
              "<Figure size 432x216 with 2 Axes>"
            ]
          },
          "metadata": {
            "needs_background": "light"
          }
        },
        {
          "output_type": "display_data",
          "data": {
            "text/plain": [
              "<Figure size 432x288 with 0 Axes>"
            ]
          },
          "metadata": {}
        },
        {
          "output_type": "display_data",
          "data": {
            "image/png": "[encoded data removed]",
            "text/plain": [
              "<Figure size 432x216 with 2 Axes>"
            ]
          },
          "metadata": {
            "needs_background": "light"
          }
        },
        {
          "output_type": "display_data",
          "data": {
            "text/plain": [
              "<Figure size 432x288 with 0 Axes>"
            ]
          },
          "metadata": {}
        },
        {
          "output_type": "display_data",
          "data": {
            "image/png": "[encoded data removed]",
            "text/plain": [
              "<Figure size 432x216 with 2 Axes>"
            ]
          },
          "metadata": {
            "needs_background": "light"
          }
        },
        {
          "output_type": "display_data",
          "data": {
            "text/plain": [
              "<Figure size 432x288 with 0 Axes>"
            ]
          },
          "metadata": {}
        },
        {
          "output_type": "display_data",
          "data": {
            "image/png": "[encoded data removed]",
            "text/plain": [
              "<Figure size 432x216 with 2 Axes>"
            ]
          },
          "metadata": {
            "needs_background": "light"
          }
        },
        {
          "output_type": "display_data",
          "data": {
            "text/plain": [
              "<Figure size 432x288 with 0 Axes>"
            ]
          },
          "metadata": {}
        },
        {
          "output_type": "display_data",
          "data": {
            "image/png": "[encoded data removed]",
            "text/plain": [
              "<Figure size 432x216 with 2 Axes>"
            ]
          },
          "metadata": {
            "needs_background": "light"
          }
        },
        {
          "output_type": "display_data",
          "data": {
            "text/plain": [
              "<Figure size 432x288 with 0 Axes>"
            ]
          },
          "metadata": {}
        },
        {
          "output_type": "display_data",
          "data": {
            "image/png": "[encoded data removed]",
            "text/plain": [
              "<Figure size 432x216 with 2 Axes>"
            ]
          },
          "metadata": {
            "needs_background": "light"
          }
        },
        {
          "output_type": "display_data",
          "data": {
            "text/plain": [
              "<Figure size 432x288 with 0 Axes>"
            ]
          },
          "metadata": {}
        },
        {
          "output_type": "display_data",
          "data": {
            "image/png": "[encoded data removed]",
            "text/plain": [
              "<Figure size 432x216 with 2 Axes>"
            ]
          },
          "metadata": {
            "needs_background": "light"
          }
        },
        {
          "output_type": "display_data",
          "data": {
            "text/plain": [
              "<Figure size 432x288 with 0 Axes>"
            ]
          },
          "metadata": {}
        },
        {
          "output_type": "display_data",
          "data": {
            "image/png": "[encoded data removed]",
            "text/plain": [
              "<Figure size 432x216 with 2 Axes>"
            ]
          },
          "metadata": {
            "needs_background": "light"
          }
        },
        {
          "output_type": "display_data",
          "data": {
            "text/plain": [
              "<Figure size 432x288 with 0 Axes>"
            ]
          },
          "metadata": {}
        }
      ]
    },
    {
      "cell_type": "markdown",
      "metadata": {
        "id": "OTM8VShapIqM"
      },
      "source": [
        "Las líneas negras representan la probabilidad más alta y por tanto, la predicción. Las verdes, el porcentaje de ocasiones en que se equivoca y con que prendas se confunde. Cuando la línea es roja, es porque ha errado la predicción.  \n",
        "Con esta red la predicción comete errores sobre todo en las prendas que no son pantalones, concretamente las zapatillas que predice un 95% que son mochilas. Tampoco predice correctamente las camisas. Con respecto a la sexta imagen predice al 100% que es 1, es decir, pantalones."
      ]
    },
    {
      "cell_type": "markdown",
      "metadata": {
        "id": "JFhkzVzxqe2z"
      },
      "source": [
        "### Caso 2"
      ]
    },
    {
      "cell_type": "code",
      "metadata": {
        "colab": {
          "base_uri": "https://localhost:8080/"
        },
        "id": "9GhIe4SqqbLI",
        "outputId": "edcbd0c3-4cad-4000-cc25-29b1f40de727"
      },
      "source": [
        "predictions = red2.predict(test_images)\n",
        "print(np.argmax(predictions[5]))\n",
        "print(predictions[5])\n",
        "np.sum(predictions[5])\n",
        "print(predictions)"
      ],
      "execution_count": null,
      "outputs": [
        {
          "output_type": "stream",
          "name": "stdout",
          "text": [
            "1\n",
            "[0. 1. 0. 0. 0. 0. 0. 0. 0. 0.]\n",
            "[[0. 0. 0. ... 0. 0. 1.]\n",
            " [0. 0. 1. ... 0. 0. 0.]\n",
            " [0. 1. 0. ... 0. 0. 0.]\n",
            " ...\n",
            " [0. 0. 0. ... 0. 1. 0.]\n",
            " [0. 1. 0. ... 0. 0. 0.]\n",
            " [0. 0. 0. ... 0. 0. 0.]]\n"
          ]
        }
      ]
    },
    {
      "cell_type": "code",
      "metadata": {
        "colab": {
          "base_uri": "https://localhost:8080/",
          "height": 1000
        },
        "id": "tIOG0DhwqbLO",
        "outputId": "3886a5ca-8900-4007-c710-17ba097f7ba1"
      },
      "source": [
        "(train_images, train_labels), (test_images, test_labels) = fashion_mnist.load_data()\n",
        "\n",
        "\n",
        "predictions = red2.predict(test_images)\n",
        "for i in range(14):\n",
        "  plt.figure(figsize=(6,3))\n",
        "  plt.subplot(1,2,1)\n",
        "  plot_image(i, predictions[i], test_labels, test_images.reshape(10000,28,28))\n",
        "  plt.subplot(1,2,2)\n",
        "  plot_value_array(i, predictions[i],  test_labels)\n",
        "  plt.show()\n",
        "  plt.clf()"
      ],
      "execution_count": null,
      "outputs": [
        {
          "output_type": "display_data",
          "data": {
            "image/png": "[encoded data removed]",
            "text/plain": [
              "<Figure size 432x216 with 2 Axes>"
            ]
          },
          "metadata": {
            "needs_background": "light"
          }
        },
        {
          "output_type": "display_data",
          "data": {
            "text/plain": [
              "<Figure size 432x288 with 0 Axes>"
            ]
          },
          "metadata": {}
        },
        {
          "output_type": "display_data",
          "data": {
            "image/png": "[encoded data removed]",
            "text/plain": [
              "<Figure size 432x216 with 2 Axes>"
            ]
          },
          "metadata": {
            "needs_background": "light"
          }
        },
        {
          "output_type": "display_data",
          "data": {
            "text/plain": [
              "<Figure size 432x288 with 0 Axes>"
            ]
          },
          "metadata": {}
        },
        {
          "output_type": "display_data",
          "data": {
            "image/png": "[encoded data removed]",
            "text/plain": [
              "<Figure size 432x216 with 2 Axes>"
            ]
          },
          "metadata": {
            "needs_background": "light"
          }
        },
        {
          "output_type": "display_data",
          "data": {
            "text/plain": [
              "<Figure size 432x288 with 0 Axes>"
            ]
          },
          "metadata": {}
        },
        {
          "output_type": "display_data",
          "data": {
            "image/png": "[encoded data removed]",
            "text/plain": [
              "<Figure size 432x216 with 2 Axes>"
            ]
          },
          "metadata": {
            "needs_background": "light"
          }
        },
        {
          "output_type": "display_data",
          "data": {
            "text/plain": [
              "<Figure size 432x288 with 0 Axes>"
            ]
          },
          "metadata": {}
        },
        {
          "output_type": "display_data",
          "data": {
            "image/png": "[encoded data removed]",
            "text/plain": [
              "<Figure size 432x216 with 2 Axes>"
            ]
          },
          "metadata": {
            "needs_background": "light"
          }
        },
        {
          "output_type": "display_data",
          "data": {
            "text/plain": [
              "<Figure size 432x288 with 0 Axes>"
            ]
          },
          "metadata": {}
        },
        {
          "output_type": "display_data",
          "data": {
            "image/png": "[encoded data removed]",
            "text/plain": [
              "<Figure size 432x216 with 2 Axes>"
            ]
          },
          "metadata": {
            "needs_background": "light"
          }
        },
        {
          "output_type": "display_data",
          "data": {
            "text/plain": [
              "<Figure size 432x288 with 0 Axes>"
            ]
          },
          "metadata": {}
        },
        {
          "output_type": "display_data",
          "data": {
            "image/png": "[encoded data removed]",
            "text/plain": [
              "<Figure size 432x216 with 2 Axes>"
            ]
          },
          "metadata": {
            "needs_background": "light"
          }
        },
        {
          "output_type": "display_data",
          "data": {
            "text/plain": [
              "<Figure size 432x288 with 0 Axes>"
            ]
          },
          "metadata": {}
        },
        {
          "output_type": "display_data",
          "data": {
            "image/png": "[encoded data removed]",
            "text/plain": [
              "<Figure size 432x216 with 2 Axes>"
            ]
          },
          "metadata": {
            "needs_background": "light"
          }
        },
        {
          "output_type": "display_data",
          "data": {
            "text/plain": [
              "<Figure size 432x288 with 0 Axes>"
            ]
          },
          "metadata": {}
        },
        {
          "output_type": "display_data",
          "data": {
            "image/png": "[encoded data removed]",
            "text/plain": [
              "<Figure size 432x216 with 2 Axes>"
            ]
          },
          "metadata": {
            "needs_background": "light"
          }
        },
        {
          "output_type": "display_data",
          "data": {
            "text/plain": [
              "<Figure size 432x288 with 0 Axes>"
            ]
          },
          "metadata": {}
        },
        {
          "output_type": "display_data",
          "data": {
            "image/png": "[encoded data removed]",
            "text/plain": [
              "<Figure size 432x216 with 2 Axes>"
            ]
          },
          "metadata": {
            "needs_background": "light"
          }
        },
        {
          "output_type": "display_data",
          "data": {
            "text/plain": [
              "<Figure size 432x288 with 0 Axes>"
            ]
          },
          "metadata": {}
        },
        {
          "output_type": "display_data",
          "data": {
            "image/png": "[encoded data removed]",
            "text/plain": [
              "<Figure size 432x216 with 2 Axes>"
            ]
          },
          "metadata": {
            "needs_background": "light"
          }
        },
        {
          "output_type": "display_data",
          "data": {
            "text/plain": [
              "<Figure size 432x288 with 0 Axes>"
            ]
          },
          "metadata": {}
        },
        {
          "output_type": "display_data",
          "data": {
            "image/png": "[encoded data removed]",
            "text/plain": [
              "<Figure size 432x216 with 2 Axes>"
            ]
          },
          "metadata": {
            "needs_background": "light"
          }
        },
        {
          "output_type": "display_data",
          "data": {
            "text/plain": [
              "<Figure size 432x288 with 0 Axes>"
            ]
          },
          "metadata": {}
        },
        {
          "output_type": "display_data",
          "data": {
            "image/png": "[encoded data removed]",
            "text/plain": [
              "<Figure size 432x216 with 2 Axes>"
            ]
          },
          "metadata": {
            "needs_background": "light"
          }
        },
        {
          "output_type": "display_data",
          "data": {
            "text/plain": [
              "<Figure size 432x288 with 0 Axes>"
            ]
          },
          "metadata": {}
        },
        {
          "output_type": "display_data",
          "data": {
            "image/png": "[encoded data removed]",
            "text/plain": [
              "<Figure size 432x216 with 2 Axes>"
            ]
          },
          "metadata": {
            "needs_background": "light"
          }
        },
        {
          "output_type": "display_data",
          "data": {
            "text/plain": [
              "<Figure size 432x288 with 0 Axes>"
            ]
          },
          "metadata": {}
        }
      ]
    },
    {
      "cell_type": "markdown",
      "metadata": {
        "id": "lcD0aPPzqbLR"
      },
      "source": [
        "Con esta red la predicción es del 100% de la sexta imagen. En el resto de casos predice de forma totalmente correcta casi todas las imagenes, menos una camisa, unas chanclas y unas zapatillas, en donde el error es del 100%.\n",
        "### Caso 3"
      ]
    },
    {
      "cell_type": "code",
      "metadata": {
        "colab": {
          "base_uri": "https://localhost:8080/"
        },
        "id": "7so6eeUrqv4S",
        "outputId": "cc36dbac-f636-42c6-9c0b-7de9edff5594"
      },
      "source": [
        "predictions = red3.predict(test_images)\n",
        "print(np.argmax(predictions[5]))\n",
        "print(predictions[5])\n",
        "np.sum(predictions[5])\n",
        "print(predictions)"
      ],
      "execution_count": null,
      "outputs": [
        {
          "output_type": "stream",
          "name": "stdout",
          "text": [
            "1\n",
            "[0. 1. 0. 0. 0. 0. 0. 0. 0. 0.]\n",
            "[[0.0000000e+00 0.0000000e+00 0.0000000e+00 ... 0.0000000e+00\n",
            "  0.0000000e+00 1.0000000e+00]\n",
            " [0.0000000e+00 0.0000000e+00 1.0000000e+00 ... 0.0000000e+00\n",
            "  0.0000000e+00 0.0000000e+00]\n",
            " [0.0000000e+00 1.0000000e+00 0.0000000e+00 ... 0.0000000e+00\n",
            "  0.0000000e+00 0.0000000e+00]\n",
            " ...\n",
            " [0.0000000e+00 0.0000000e+00 0.0000000e+00 ... 0.0000000e+00\n",
            "  1.0000000e+00 0.0000000e+00]\n",
            " [0.0000000e+00 1.0000000e+00 0.0000000e+00 ... 0.0000000e+00\n",
            "  0.0000000e+00 0.0000000e+00]\n",
            " [0.0000000e+00 0.0000000e+00 0.0000000e+00 ... 1.3934868e-23\n",
            "  9.9069691e-01 0.0000000e+00]]\n"
          ]
        }
      ]
    },
    {
      "cell_type": "code",
      "metadata": {
        "colab": {
          "base_uri": "https://localhost:8080/",
          "height": 1000
        },
        "id": "QXOQUjRqqv4V",
        "outputId": "9f6293ae-9eb8-4bb3-ba26-ea2da5948968"
      },
      "source": [
        "(train_images, train_labels), (test_images, test_labels) = fashion_mnist.load_data()\n",
        "\n",
        "\n",
        "predictions = red3.predict(test_images)\n",
        "for i in range(14):\n",
        "  plt.figure(figsize=(6,3))\n",
        "  plt.subplot(1,2,1)\n",
        "  plot_image(i, predictions[i], test_labels, test_images.reshape(10000,28,28))\n",
        "  plt.subplot(1,2,2)\n",
        "  plot_value_array(i, predictions[i],  test_labels)\n",
        "  plt.show()\n",
        "  plt.clf()"
      ],
      "execution_count": null,
      "outputs": [
        {
          "output_type": "display_data",
          "data": {
            "image/png": "[encoded data removed]",
            "text/plain": [
              "<Figure size 432x216 with 2 Axes>"
            ]
          },
          "metadata": {
            "needs_background": "light"
          }
        },
        {
          "output_type": "display_data",
          "data": {
            "text/plain": [
              "<Figure size 432x288 with 0 Axes>"
            ]
          },
          "metadata": {}
        },
        {
          "output_type": "display_data",
          "data": {
            "image/png": "[encoded data removed]",
            "text/plain": [
              "<Figure size 432x216 with 2 Axes>"
            ]
          },
          "metadata": {
            "needs_background": "light"
          }
        },
        {
          "output_type": "display_data",
          "data": {
            "text/plain": [
              "<Figure size 432x288 with 0 Axes>"
            ]
          },
          "metadata": {}
        },
        {
          "output_type": "display_data",
          "data": {
            "image/png": "[encoded data removed]",
            "text/plain": [
              "<Figure size 432x216 with 2 Axes>"
            ]
          },
          "metadata": {
            "needs_background": "light"
          }
        },
        {
          "output_type": "display_data",
          "data": {
            "text/plain": [
              "<Figure size 432x288 with 0 Axes>"
            ]
          },
          "metadata": {}
        },
        {
          "output_type": "display_data",
          "data": {
            "image/png": "[encoded data removed]",
            "text/plain": [
              "<Figure size 432x216 with 2 Axes>"
            ]
          },
          "metadata": {
            "needs_background": "light"
          }
        },
        {
          "output_type": "display_data",
          "data": {
            "text/plain": [
              "<Figure size 432x288 with 0 Axes>"
            ]
          },
          "metadata": {}
        },
        {
          "output_type": "display_data",
          "data": {
            "image/png": "[encoded data removed]",
            "text/plain": [
              "<Figure size 432x216 with 2 Axes>"
            ]
          },
          "metadata": {
            "needs_background": "light"
          }
        },
        {
          "output_type": "display_data",
          "data": {
            "text/plain": [
              "<Figure size 432x288 with 0 Axes>"
            ]
          },
          "metadata": {}
        },
        {
          "output_type": "display_data",
          "data": {
            "image/png": "[encoded data removed]",
            "text/plain": [
              "<Figure size 432x216 with 2 Axes>"
            ]
          },
          "metadata": {
            "needs_background": "light"
          }
        },
        {
          "output_type": "display_data",
          "data": {
            "text/plain": [
              "<Figure size 432x288 with 0 Axes>"
            ]
          },
          "metadata": {}
        },
        {
          "output_type": "display_data",
          "data": {
            "image/png": "[encoded data removed]",
            "text/plain": [
              "<Figure size 432x216 with 2 Axes>"
            ]
          },
          "metadata": {
            "needs_background": "light"
          }
        },
        {
          "output_type": "display_data",
          "data": {
            "text/plain": [
              "<Figure size 432x288 with 0 Axes>"
            ]
          },
          "metadata": {}
        },
        {
          "output_type": "display_data",
          "data": {
            "image/png": "[encoded data removed]",
            "text/plain": [
              "<Figure size 432x216 with 2 Axes>"
            ]
          },
          "metadata": {
            "needs_background": "light"
          }
        },
        {
          "output_type": "display_data",
          "data": {
            "text/plain": [
              "<Figure size 432x288 with 0 Axes>"
            ]
          },
          "metadata": {}
        },
        {
          "output_type": "display_data",
          "data": {
            "image/png": "[encoded data removed]",
            "text/plain": [
              "<Figure size 432x216 with 2 Axes>"
            ]
          },
          "metadata": {
            "needs_background": "light"
          }
        },
        {
          "output_type": "display_data",
          "data": {
            "text/plain": [
              "<Figure size 432x288 with 0 Axes>"
            ]
          },
          "metadata": {}
        },
        {
          "output_type": "display_data",
          "data": {
            "image/png": "[encoded data removed]",
            "text/plain": [
              "<Figure size 432x216 with 2 Axes>"
            ]
          },
          "metadata": {
            "needs_background": "light"
          }
        },
        {
          "output_type": "display_data",
          "data": {
            "text/plain": [
              "<Figure size 432x288 with 0 Axes>"
            ]
          },
          "metadata": {}
        },
        {
          "output_type": "display_data",
          "data": {
            "image/png": "[encoded data removed]",
            "text/plain": [
              "<Figure size 432x216 with 2 Axes>"
            ]
          },
          "metadata": {
            "needs_background": "light"
          }
        },
        {
          "output_type": "display_data",
          "data": {
            "text/plain": [
              "<Figure size 432x288 with 0 Axes>"
            ]
          },
          "metadata": {}
        },
        {
          "output_type": "display_data",
          "data": {
            "image/png": "[encoded data removed]",
            "text/plain": [
              "<Figure size 432x216 with 2 Axes>"
            ]
          },
          "metadata": {
            "needs_background": "light"
          }
        },
        {
          "output_type": "display_data",
          "data": {
            "text/plain": [
              "<Figure size 432x288 with 0 Axes>"
            ]
          },
          "metadata": {}
        },
        {
          "output_type": "display_data",
          "data": {
            "image/png": "[encoded data removed]",
            "text/plain": [
              "<Figure size 432x216 with 2 Axes>"
            ]
          },
          "metadata": {
            "needs_background": "light"
          }
        },
        {
          "output_type": "display_data",
          "data": {
            "text/plain": [
              "<Figure size 432x288 with 0 Axes>"
            ]
          },
          "metadata": {}
        },
        {
          "output_type": "display_data",
          "data": {
            "image/png": "[encoded data removed]",
            "text/plain": [
              "<Figure size 432x216 with 2 Axes>"
            ]
          },
          "metadata": {
            "needs_background": "light"
          }
        },
        {
          "output_type": "display_data",
          "data": {
            "text/plain": [
              "<Figure size 432x288 with 0 Axes>"
            ]
          },
          "metadata": {}
        }
      ]
    },
    {
      "cell_type": "markdown",
      "metadata": {
        "id": "DBCcVvIeqv4Y"
      },
      "source": [
        "Con esta red la predicción de la sexta figura sigue siendo del 100%. Con respecto al resto de imágenes, las predice todas al 100%, excepto las zapatillas, la decimotercera imagen.  \n",
        "Como conclusión, pensamos que el modelo del caso 3 es el mejor, puesto que solo predice erróneamente una imagen. Mientras que el resto las predice correctamente al 100%. Coincidiendo así, con lo visto anteriormente."
      ]
    },
    {
      "cell_type": "markdown",
      "metadata": {
        "id": "fGJXDzzRInKV"
      },
      "source": [
        "## 9. COMPARACIÓN DE LOS RESULTADOS DE LA PRÁCTICA 1 CON LAS CAPAS DENSE\n",
        "En la práctica anterior con las capas dense, el mejor modelo tenía une precisión del 87% y una pérdida del 34%. Mientras que con las capas convolucionales, la mejor red tiene un 90% de precisión y un 25% de pérdida. De esto concluimos, que el modelo con capas convolucionales es mejor.  \n",
        "Respecto a las predicciones, en general las redes convolucionales nos dan mejores resultados, ya que las predicciones son del 100% en la mayoría de casos. Por otro lado, las predicciones que realizan erroneamente lo hacen con un 100% de fallo, sin embargo, las de la primera práctica lo hacían con menos porcentaje de error. Creemos que esto se debe a que las redes convolucionales obtienen información más detallada de los datos de entrenamiento, y en ocasiones demasiado específica. Por este motivo, cuando la predicción es correcta, lo es al 100% y cuando es incorrecta, también lo es al 100%.  \n",
        "También nos hemos dado cuenta, de que el tiempo de ejecución del entrenamiento de las redes ha aumentado para las de la segunda práctica.  \n",
        "Por último, en ambas prácticas los modelos con el optimizador *adam* funcionan mejor. \n"
      ]
    },
    {
      "cell_type": "markdown",
      "metadata": {
        "id": "PNct-YwhI1Yq"
      },
      "source": [
        "## 10. CONCEPTOS DE BATCH_NORMALIZATION Y DROPOUT\n",
        "*batch_normalization:*  \n",
        "Aplica una transformación que mantiene la media de salida cercana a 0 y la desviación estándar de salida cercana a 1.\n",
        "Normalizando los datos, las distancias de los datos van de 0 a 1 y esto ayuda a la red neuronal a trabajar mejor y a tener menos problemas.\n",
        "Cuando normalizamos los datos solo la capa de entrada se beneficia de esto, conforme los datos pasan por otras capas ocultas, esta normalización se va perdiendo, y si tenemos una red neuronal con muchas capas podemos tener problemas con el entrenamiento. El método de batch_normalization normaliza los datos antes de que pasen por la función de activación en cada capa que de la red neuronal, de esta manera siempre tendremos los datos normalizados.\n",
        "Si normalizamos los datos las distribuciones estarán más cerca y será más fácil para la red neuronal crear una línea de decisión.\n",
        "Hay que tener en cuenta que trabaja de forma distinta durante el entrenamiento y con los datos de test.\n",
        "\n",
        "*Dropout:*  \n",
        "Este método ayuda a reducir el overfitting, ya que las neuronas cercanas suelen aprender patrones que se relacionan. Estas relaciones pueden llegar a formar un patrón muy específico con los datos de entrenamiento. Con dropout esta dependencia entre neuronas es menor en toda la red neuronal, de esta manera las neuronas trabajan mejor de forma solitaria y no dependen tanto de las relaciones con las neuronas vecinas.\n",
        "Dropout tiene un parámetro que indica la probabilidad de que las neuronas se queden activadas. Este parámetro toma valores de 0 a 1. Si los valores son cercanos a 0, dropout desactivará menos neuronas, si es cercano a 1, desactivará muchas más neuronas. Dropout solo se usa durante la fase de entrenamiento."
      ]
    },
    {
      "cell_type": "markdown",
      "metadata": {
        "id": "x5VF4XDrJfZq"
      },
      "source": [
        "## 11. CONCEPTOS DE CALLBACKS\n",
        "Un *callback* puede realizar acciones en distintas etapas del entrenamiento, al inicio o al final de una época, antes o después de un lote, etcetera. Son utiles para guardar periódicamente un modelo en el disco, para hacer una parada anticipada o para obtener una visión de los estados internos y las estadísticas de un modelo durante el entrenamiento, por ejemplo.\n",
        "\n",
        "También son útiles para escribir los logs de TensorBoard después de cada lote de entrenamiento para monitorizar tus métricas. TensorBoard permite visualizar las métricas  durante el entrenamiento tanto en el conjunto de entrenamiento como en el conjunto de validación, como en el de prueba.\n",
        "\n",
        "En nuestro modelo estamos utilizando los *callbacks* monitorizando la precisión y la función de perdida. Nos ha ayudado para evitar el *overfitting* y saber el número adecuado de épocas a realizar."
      ]
    },
    {
      "cell_type": "markdown",
      "metadata": {
        "id": "4faik4XGiKpx"
      },
      "source": [
        "## 12.CONCLUSIÓN\n",
        "Realizando la práctica hemos aprendido a crear modelos con redes convolucionales, y que estos aunque tarden más en ejecutarse, funcionan mejor que las redes con capas dense. También hemos aprendido que el optimizador *adam* suele funcionar mejor en la mayoría de modelos.  Además, sabemos como graficar el comportamiento de los modelos y saber el número adecuado de iteraciones para evitar sobreentrenamiento.  \n",
        "Para realizar este proyecto nos hemos reunido, tanto presencial como virtualmente, y en general, hemos hecho el trabajo conjuntamente, salvo algunas investigaciones sobre algunos conceptos como *dropout*, *callbacks*, etc, que hemos hecho individualmente. \n"
      ]
    },
    {
      "cell_type": "markdown",
      "metadata": {
        "id": "UJ1J50Th1zBI"
      },
      "source": [
        "## 13. BIBLIOGRAFÍA\n",
        "\n",
        "*   Team, K. (s. f.). Keras documentation: Callbacks API. Keras. Recuperado 26 de noviembre de 2021, de https://keras.io/api/callbacks/\n",
        "*   tf.keras.callbacks.LearningRateScheduler | TensorFlow Core v2.7.0. (s. f.). TensorFlow. Recuperado 26 de noviembre de 2021, de https://www.tensorflow.org/api_docs/python/tf/keras/callbacks/LearningRateScheduler\n",
        "*   Team, K. (s. f.-b). Keras documentation: Dropout layer. Keras. Recuperado 26 de noviembre de 2021, de https://keras.io/api/layers/regularization_layers/dropout/\n",
        "*   Team, K. (s. f.-a). Keras documentation: BatchNormalization layer. Keras. Recuperado 26 de noviembre de 2021, de https://keras.io/api/layers/normalization_layers/batch_normalization/\n",
        "\n",
        "\n",
        "\n",
        "\n"
      ]
    }
  ]
}