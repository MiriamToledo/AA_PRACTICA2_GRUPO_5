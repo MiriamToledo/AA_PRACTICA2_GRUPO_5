{
  "nbformat": 4,
  "nbformat_minor": 0,
  "metadata": {
    "colab": {
      "name": "AA_PRACTICA2_GRUPO_5.ipynb",
      "provenance": [],
      "collapsed_sections": [],
      "include_colab_link": true
    },
    "kernelspec": {
      "name": "python3",
      "display_name": "Python 3"
    },
    "language_info": {
      "name": "python"
    },
    "accelerator": "GPU"
  },
  "cells": [
    {
      "cell_type": "markdown",
      "metadata": {
        "id": "view-in-github",
        "colab_type": "text"
      },
      "source": [
        "<a href=\"https://colab.research.google.com/github/MiriamToledo/AA_PRACTICA2_GRUPO_5/blob/main/AA_PRACTICA2_GRUPO_5.ipynb\" target=\"_parent\"><img src=\"https://colab.research.google.com/assets/colab-badge.svg\" alt=\"Open In Colab\"/></a>"
      ]
    },
    {
      "cell_type": "markdown",
      "metadata": {
        "id": "a837AMFBUNjU"
      },
      "source": [
        "# Práctica 2: Redes de Neuronas Convolucionales\n",
        "\n",
        "### Grupo 5\n",
        "### Miriam Toledo\n",
        "### Inés Sánchez\n",
        "A continuación, vamos a crear un modelo de red de neuronas convolucionales artificiales que sea capaz de reconocer y clasificar imágenes de ropa en sus diferentes tipologías. Para ello vamos emplear Keras, específicamente el conjunto de datos Fashion-MNIST.\n",
        "## 1- IMPORTAMOS TODAS LAS LIBRERÍAS NECESARIAS \n",
        "También nos aseguramos de ejecutar la versión 2.0.0 de TensorFlow.\n"
      ]
    },
    {
      "cell_type": "code",
      "metadata": {
        "colab": {
          "base_uri": "https://localhost:8080/"
        },
        "id": "r_FEGN7-Ek9i",
        "outputId": "3ca00306-3b67-484e-dbb1-52eaffc64890"
      },
      "source": [
        "%tensorflow_version 2.x\n",
        "import tensorflow as tf\n",
        "import matplotlib.pyplot as plt\n",
        "from tensorflow import keras\n",
        "print(tf.keras.__version__)\n",
        "print(\"GPU Available:\", tf.config.list_physical_devices('GPU'))\n",
        "print(tf.__version__)\n",
        "from tensorflow.keras import Sequential\n",
        "from tensorflow.keras.layers import Conv2D\n",
        "from tensorflow.keras.layers import MaxPooling2D\n",
        "from keras.utils.np_utils import to_categorical\n",
        "from tensorflow.keras.layers import Dense\n",
        "from tensorflow.keras.layers import Flatten\n",
        "from keras import layers\n",
        "import numpy as np"
      ],
      "execution_count": null,
      "outputs": [
        {
          "output_type": "stream",
          "name": "stdout",
          "text": [
            "2.7.0\n",
            "GPU Available: [PhysicalDevice(name='/physical_device:GPU:0', device_type='GPU')]\n",
            "2.7.0\n"
          ]
        }
      ]
    },
    {
      "cell_type": "markdown",
      "metadata": {
        "id": "x12boNRmVlba"
      },
      "source": [
        "## 2- CARGAMOS EL CONJUNTO DE DATOS Y ANALIZAMOS QUE TENGAN LA FORMA ESPERADA"
      ]
    },
    {
      "cell_type": "code",
      "metadata": {
        "id": "jxXWXVXvE0k5"
      },
      "source": [
        "from keras.datasets import fashion_mnist\n",
        "(train_images, train_labels), (test_images, test_labels) = fashion_mnist.load_data()"
      ],
      "execution_count": null,
      "outputs": []
    },
    {
      "cell_type": "code",
      "metadata": {
        "colab": {
          "base_uri": "https://localhost:8080/"
        },
        "id": "_NTXo7Y6FR6j",
        "outputId": "97058959-e2ee-47ee-c663-4a87038f25d8"
      },
      "source": [
        "print(train_images.shape)\n",
        "print(len(train_labels))\n",
        "# Vemos la matriz de la imagen número 1500\n",
        "print(train_images[1500])\n",
        "num = train_labels[1500]\n",
        "print(num)"
      ],
      "execution_count": null,
      "outputs": [
        {
          "output_type": "stream",
          "name": "stdout",
          "text": [
            "(60000, 28, 28)\n",
            "60000\n",
            "[[  0   0   0   0   0   0   0   0   0  59 144 141 146 149 163 150  58  70\n",
            "   92   0   0   0   0   0   0   0   0   0]\n",
            " [  0   0   0   0   0   0   0   0   0  87 139 165 176 176 177 204 133 114\n",
            "  129   8   0   0   0   0   0   0   0   0]\n",
            " [  0   0   0   0   0   0   0   0   0 136 194 161 158 195 130 182 158 198\n",
            "  184  87   0   0   0   0   0   0   0   0]\n",
            " [  0   0   0   0   0   0   0   0   0 178 183 160 148 164 110 165 154 157\n",
            "  163  65   0   0   0   0   0   0   0   0]\n",
            " [  0   0   0   0   0   0   0   0   0 185 137 139 164 162 159 176 162 147\n",
            "  150  62   0   0   0   0   0   0   0   0]\n",
            " [  0   0   0   0   0   0   0   0  17 198 157 168 165 202 218 171 166 156\n",
            "  164  71   0   0   0   0   0   0   0   0]\n",
            " [  0   0   0   0   0   0   0   0  59 181 116 151 155 214 193 202 159 123\n",
            "  147  58   0   0   0   0   0   0   0   0]\n",
            " [  0   0   0   0   0   0   0   0  72 158 105 136 161 138 181 230 146 119\n",
            "  134  50   0   0   0   0   0   0   0   0]\n",
            " [  0   0   0   0   0   0   0   0  85 144 112 131 187  80 121 251 139 115\n",
            "  110  46   0   0   0   0   0   0   0   0]\n",
            " [  0   0   0   0   0   0   0   0  95 129 113 128 200   8  32 255 158 101\n",
            "  115  45   0   0   0   0   0   0   0   0]\n",
            " [  0   0   0   0   0   0   0   0  97 124 108 149 171   0   0 250 160  90\n",
            "  132  39   0   0   0   0   0   0   0   0]\n",
            " [  0   0   0   0   0   0   0   0 102 119 104 172  92   0   0 227 159  90\n",
            "  140  29   0   0   0   0   0   0   0   0]\n",
            " [  0   0   0   0   0   0   0   0  99 112 108 178  24   0   0 222 157  83\n",
            "  134  15   0   0   0   0   0   0   0   0]\n",
            " [  0   0   0   0   0   0   0   0  96 100 117 173   4   0   0 215 147  77\n",
            "  125   4   0   0   0   0   0   0   0   0]\n",
            " [  0   0   0   0   0   0   0   0  91 103 123 177   0   0   0 194 157  65\n",
            "  115   2   0   0   0   0   0   0   0   0]\n",
            " [  0   0   0   0   0   0   0   0  82 104 124 181   1   0   0 170 168  72\n",
            "  128   2   0   0   0   0   0   0   0   0]\n",
            " [  0   0   0   0   0   0   0   0  58 120 138 171  22   0   0 157 141  82\n",
            "  156   1   0   0   0   0   0   0   0   0]\n",
            " [  0   0   0   0   0   0   0   0  29 114 147 163  48   0   0 149 159  79\n",
            "  131   0   0   0   0   0   0   0   0   0]\n",
            " [  0   0   0   0   0   0   0   0   3 130 131 182 130   0   0 123 196 103\n",
            "  126   0   0   0   0   0   0   0   0   0]\n",
            " [  0   0   0   0   0   0   0   0   0 132 141 167 188   0   0 117 213 123\n",
            "  124   0   0   0   0   0   0   0   0   0]\n",
            " [  0   0   0   0   0   0   0   0   0 111 177 162 213  19   0 108 221 157\n",
            "  130   0   0   0   0   0   0   0   0   0]\n",
            " [  0   0   0   0   0   0   0   0   0  57 196 165 211  51   0 107 223 184\n",
            "  137   0   0   0   0   0   0   0   0   0]\n",
            " [  0   0   0   0   0   0   0   0   0   7 191 173 186  86   0 104 218 199\n",
            "  143   0   0   0   0   0   0   0   0   0]\n",
            " [  0   0   0   0   0   0   0   0   0   0 205 187 183 145   0 104 208 197\n",
            "  152   0   0   0   0   0   0   0   0   0]\n",
            " [  0   0   0   0   0   0   0   0   0   0 139 199 181 177   0 105 211 199\n",
            "  197   0   0   0   0   0   0   0   0   0]\n",
            " [  0   0   0   0   0   0   0   0   3   0  70 204 174 207   0  75 201 192\n",
            "  170   0   0   0   0   0   0   0   0   0]\n",
            " [  0   0   0   0   0   0   0   0   1   0  16 218 202 250   0  76 215 205\n",
            "  195   0   0   0   0   0   0   0   0   0]\n",
            " [  0   0   0   0   0   0   0   0   2   0   0 129 125 141   0  25 144 116\n",
            "   95   0   0   0   0   0   0   0   0   0]]\n",
            "1\n"
          ]
        }
      ]
    },
    {
      "cell_type": "markdown",
      "metadata": {
        "id": "kT5iLjYXGzWU"
      },
      "source": [
        "La clasificación corresponde con:\n",
        "\n",
        "\n",
        "0.   Camiseta /Top\n",
        "1. Pantalón\n",
        "2. Jersey\n",
        "3. Vestido\n",
        "4. Abrigo\n",
        "5. Sandalia\n",
        "6. Camisa\n",
        "7. Zapatillas\n",
        "8. Bolsa\n",
        "9. Botas tobilleras\n",
        "\n",
        "Cada imagen tiene una única etiqueta. Cremaos class_names para poder usarlos a la hora de visualizar las imágnes. Y comprobamos que efectivamente la etiqueta 1 corresponde con un pantalón. \n",
        "\n",
        "\n"
      ]
    },
    {
      "cell_type": "code",
      "metadata": {
        "colab": {
          "base_uri": "https://localhost:8080/",
          "height": 265
        },
        "id": "THmVELUlFksd",
        "outputId": "d7c6bb5a-c687-4c89-a3fb-dbb39c525f27"
      },
      "source": [
        "class_names = ['Camiseta', 'Pantalón', 'Jersey', 'Vestido', 'Abrigo', 'Sandalias', 'Camisa', 'Zapatillas', 'Bolsa', 'Botas tobilleras']\n",
        "digit = train_images[1500]\n",
        "plt.imshow(digit, cmap=plt.cm.binary)\n",
        "plt.show()"
      ],
      "execution_count": null,
      "outputs": [
        {
          "output_type": "display_data",
          "data": {
            "image/png": "[encoded data removed]",
            "text/plain": [
              "<Figure size 432x288 with 1 Axes>"
            ]
          },
          "metadata": {
            "needs_background": "light"
          }
        }
      ]
    },
    {
      "cell_type": "markdown",
      "metadata": {
        "id": "fzzEIV2RYQao"
      },
      "source": [
        "Comprobamos la forma de los datos de prueba y tienen la misma forma que los datos de entrenamiento."
      ]
    },
    {
      "cell_type": "code",
      "metadata": {
        "colab": {
          "base_uri": "https://localhost:8080/"
        },
        "id": "yrQMn9bAYV0R",
        "outputId": "44352311-28a0-4f8d-934b-f8ea2d818ce0"
      },
      "source": [
        "print(test_images.shape)\n",
        "print(len(test_labels))\n"
      ],
      "execution_count": null,
      "outputs": [
        {
          "output_type": "stream",
          "name": "stdout",
          "text": [
            "(10000, 28, 28)\n",
            "10000\n"
          ]
        }
      ]
    },
    {
      "cell_type": "markdown",
      "metadata": {
        "id": "J4Rn0hKc12UO"
      },
      "source": [
        "\n",
        "A continuación configuramos los datos normalizándolos, convirtiendo los tensores 2D a tensores 3D utilizando reshape. "
      ]
    },
    {
      "cell_type": "code",
      "metadata": {
        "colab": {
          "base_uri": "https://localhost:8080/"
        },
        "id": "xg8sBM2O1Nge",
        "outputId": "7ea45d01-930a-4264-8503-b5594167284c"
      },
      "source": [
        "fashion_mnist = tf.keras.datasets.fashion_mnist\n",
        "(train_images, train_labels), (test_images, test_labels) = fashion_mnist.load_data()\n",
        "\n",
        "print (train_images.shape)\n",
        "print (train_labels.shape)\n",
        "train_images = train_images.reshape((60000, 28, 28, 1))\n",
        "train_images = train_images.astype('float32') / 255\n",
        "\n",
        "test_images = test_images.reshape((10000, 28, 28, 1))\n",
        "test_images = test_images.astype('float32') / 255\n",
        "\n",
        "print (train_images.shape)\n",
        "print (train_labels.shape)"
      ],
      "execution_count": null,
      "outputs": [
        {
          "output_type": "stream",
          "name": "stdout",
          "text": [
            "(60000, 28, 28)\n",
            "(60000,)\n",
            "(60000, 28, 28, 1)\n",
            "(60000,)\n"
          ]
        }
      ]
    },
    {
      "cell_type": "markdown",
      "metadata": {
        "id": "2oUQ-TkE3JEA"
      },
      "source": [
        "## 3- CONSTRUCCIÓN DE LA RNA\n",
        "Para crear las capas convolucionales hacemos lo siguiente:\n",
        "\n",
        "\n",
        "\n"
      ]
    },
    {
      "cell_type": "code",
      "metadata": {
        "id": "ZVKFp-8QKqhD"
      },
      "source": [
        "casos = 3\n",
        "numero_filtros_primera_capa = [32,64,64]\n",
        "tamano_ventana_primera_capa = [(5,5),(7, 7),(7, 7)]\n",
        "funcion_activacion_capa =['relu', 'relu', 'relu']\n",
        "padding_capa = ['valid', 'same','same']\n",
        "numero_filtros_segunda_capa = [64,128,128]\n",
        "tamano_ventana_segunda_capa = [(5,5),(3, 3),(3, 3)]\n",
        "\n",
        "optimizador =['sgd','sgd','Adam']\n",
        "funcion_perdida = ['sparse_categorical_crossentropy', 'sparse_categorical_crossentropy','sparse_categorical_crossentropy']\n",
        "numero_iteraciones = [5,5,5]\n",
        "metrica = ['accuracy','accuracy','accuracy']\n",
        "models = []\n",
        "\n",
        "\n",
        "for caso in range(casos):\n",
        "  model = Sequential()\n",
        "  model.add(Conv2D(numero_filtros_primera_capa[caso], tamano_ventana_primera_capa[caso], activation = funcion_activacion_capa[caso], padding = padding_capa[caso],input_shape=(28, 28, 1)))\n",
        "  model.add(MaxPooling2D((2, 2)))\n",
        "  model.add(Conv2D(numero_filtros_segunda_capa[caso], tamano_ventana_segunda_capa[caso], activation = funcion_activacion_capa[caso], padding = padding_capa[caso]))\n",
        "  model.add(MaxPooling2D((2, 2)))\n",
        "  if caso == 0:\n",
        "    model.add(Flatten())\n",
        "  if caso != 0:\n",
        "    model.add(Flatten())\n",
        "    model.add(Dense(65, activation = 'relu'))\n",
        "  model.add(Dense(10, activation='softmax'))\n",
        "  models.append(model)\n"
      ],
      "execution_count": null,
      "outputs": []
    },
    {
      "cell_type": "markdown",
      "metadata": {
        "id": "608encdKYhW1"
      },
      "source": [
        "### 3.1 - Caso 1\n",
        "Esta red neuronal tiene 32 filtros en la primera capa convolucional y 64 en la segunda, la función de activación de las dos primeras capas convolucionales es *relu* y de la última capa densa es *softmax*. El optimizador es *sgd*, la función de perdida es *sparse_categorical_crossentropy*, la métrica es *accuracy* y el número de iteraciones es 5."
      ]
    },
    {
      "cell_type": "code",
      "metadata": {
        "colab": {
          "base_uri": "https://localhost:8080/"
        },
        "id": "xyJ-1UwZwmNB",
        "outputId": "0926d6aa-53f7-43a2-e1ec-8fe492dbbc21"
      },
      "source": [
        "models[0].summary()"
      ],
      "execution_count": null,
      "outputs": [
        {
          "output_type": "stream",
          "name": "stdout",
          "text": [
            "Model: \"sequential\"\n",
            "_________________________________________________________________\n",
            " Layer (type)                Output Shape              Param #   \n",
            "=================================================================\n",
            " conv2d (Conv2D)             (None, 24, 24, 32)        832       \n",
            "                                                                 \n",
            " max_pooling2d (MaxPooling2D  (None, 12, 12, 32)       0         \n",
            " )                                                               \n",
            "                                                                 \n",
            " conv2d_1 (Conv2D)           (None, 8, 8, 64)          51264     \n",
            "                                                                 \n",
            " max_pooling2d_1 (MaxPooling  (None, 4, 4, 64)         0         \n",
            " 2D)                                                             \n",
            "                                                                 \n",
            " flatten (Flatten)           (None, 1024)              0         \n",
            "                                                                 \n",
            " dense (Dense)               (None, 10)                10250     \n",
            "                                                                 \n",
            "=================================================================\n",
            "Total params: 62,346\n",
            "Trainable params: 62,346\n",
            "Non-trainable params: 0\n",
            "_________________________________________________________________\n"
          ]
        }
      ]
    },
    {
      "cell_type": "markdown",
      "metadata": {
        "id": "Ks8HYpZObBHm"
      },
      "source": [
        "La función models[0].summary() nos indica:\n",
        "\n",
        "\n",
        "*   832 = (5 x 5 de matriz W + 1 del bias) x 32 filtros\n",
        "*   0 => No hay parámetros que aprender porque es una operación max pooling\n",
        "*   La red convolucional 2 es 8 x 8, dado que partimos de una matriz 12 x 12 en una ventana 5 x5 con un stride = 1.\n",
        "*   51264 = (5 x 5 de matriz W x 32 filtros anteriores +  1 del bias) x 64 filtros\n",
        "*   10250 = 10 x 1024 + 10, porque tenemos 10 neuronas de la capa softmax, 1024 = 4 x 4 x 64, y les sumamos 10 del sesgo.\n",
        "*   62346 = 832 + 51264 + 10250 , puesto que es el número total de parámetros\n",
        "\n",
        "\n",
        "\n"
      ]
    },
    {
      "cell_type": "markdown",
      "metadata": {
        "id": "qtaZYG0wdp28"
      },
      "source": [
        "Ahora preparamos las etiquetas. Para eso utilizamos _Flatten_ que sirve para aplanar la entrada y que así coincidan las dimensiones de la red, para así poder entrenarla. Además, de esta forma podremos usar la función de pérdida sparse_categorical_crossentropy, que explicaremos más adelante.\n",
        "\n"
      ]
    },
    {
      "cell_type": "code",
      "metadata": {
        "id": "rAKtPv1Jdo5O"
      },
      "source": [
        "models[0].add(layers.Flatten(input_shape=(28,28)))"
      ],
      "execution_count": null,
      "outputs": []
    },
    {
      "cell_type": "markdown",
      "metadata": {
        "id": "MVwaS8q16LUg"
      },
      "source": [
        "### 3.2 - Caso 2\n",
        "Esta red neuronal tiene 64 filtros en la primera capa convolucional y 128 en la segunda, la función de activación de las dos primeras capas convolucionales es *relu*, la penúltima capa densa es también *relu* y de la última capa densa es *softmax*. El optimizador es *sgd*, la función de perdida es *sparse_categorical_crossentropy*, la métrica es *accuracy* y el número de iteraciones es 5."
      ]
    },
    {
      "cell_type": "code",
      "metadata": {
        "colab": {
          "base_uri": "https://localhost:8080/"
        },
        "id": "Ooy05sYd6LVW",
        "outputId": "c5182e6b-fc4f-4585-f9bf-0c5516a204a5"
      },
      "source": [
        "models[1].summary()"
      ],
      "execution_count": null,
      "outputs": [
        {
          "output_type": "stream",
          "name": "stdout",
          "text": [
            "Model: \"sequential_1\"\n",
            "_________________________________________________________________\n",
            " Layer (type)                Output Shape              Param #   \n",
            "=================================================================\n",
            " conv2d_2 (Conv2D)           (None, 28, 28, 64)        3200      \n",
            "                                                                 \n",
            " max_pooling2d_2 (MaxPooling  (None, 14, 14, 64)       0         \n",
            " 2D)                                                             \n",
            "                                                                 \n",
            " conv2d_3 (Conv2D)           (None, 14, 14, 128)       73856     \n",
            "                                                                 \n",
            " max_pooling2d_3 (MaxPooling  (None, 7, 7, 128)        0         \n",
            " 2D)                                                             \n",
            "                                                                 \n",
            " flatten_1 (Flatten)         (None, 6272)              0         \n",
            "                                                                 \n",
            " dense_1 (Dense)             (None, 65)                407745    \n",
            "                                                                 \n",
            " dense_2 (Dense)             (None, 10)                660       \n",
            "                                                                 \n",
            "=================================================================\n",
            "Total params: 485,461\n",
            "Trainable params: 485,461\n",
            "Non-trainable params: 0\n",
            "_________________________________________________________________\n"
          ]
        }
      ]
    },
    {
      "cell_type": "markdown",
      "metadata": {
        "id": "c2qR_4oE6LVZ"
      },
      "source": [
        "La función models[1].summary() nos indica:\n",
        "\n",
        "\n",
        "*   3200 = (7 x 7 de matriz W + 1 del bias) x 64 filtros\n",
        "*   0 => No hay parámetros que aprender porque es una operación max pooling\n",
        "*   La red convolucional 2 es 14 x 14\n",
        "*   73856 = (3 x 3 de matriz W x 64 filtros anteriores +  1 del bias) x 128 filtros\n",
        "*   407745 = 65 x 6272 + 65, porque tenemos 65 neuronas en la penúltima capa, 6272 = 7 x 7 x 128, y le sumamos 65 del sesgo.\n",
        "*   660 = 10 x 65 + 10, porque tenemos 10 neuronas de la capa *softmax*, 65 neuronas de la capa anterior y le sumamos 10 del sesgo.\n",
        "*   485461 = 3200 + 73856 + 407745 + 660 , puesto que es el número total de parámetros\n",
        "\n",
        "\n",
        "\n"
      ]
    },
    {
      "cell_type": "markdown",
      "metadata": {
        "id": "yC2hWGTMASQJ"
      },
      "source": [
        "### 3.3 - Caso 3\n",
        "Esta red neuronal tiene 64 filtros en la primera capa convolucional y 128 en la segunda, la función de activación de las dos primeras capas convolucionales es *relu*, la penúltima capa densa es también *relu* y de la última capa densa es *softmax*. El optimizador es *adam*, la función de perdida es *sparse_categorical_crossentropy*, la métrica es *accuracy* y el número de iteraciones es 5."
      ]
    },
    {
      "cell_type": "code",
      "metadata": {
        "colab": {
          "base_uri": "https://localhost:8080/"
        },
        "id": "YbEJpw7eASQK",
        "outputId": "854599dd-71f1-4ef5-8d58-a22d21dcd3ec"
      },
      "source": [
        "models[2].summary()"
      ],
      "execution_count": null,
      "outputs": [
        {
          "output_type": "stream",
          "name": "stdout",
          "text": [
            "Model: \"sequential_2\"\n",
            "_________________________________________________________________\n",
            " Layer (type)                Output Shape              Param #   \n",
            "=================================================================\n",
            " conv2d_4 (Conv2D)           (None, 28, 28, 64)        3200      \n",
            "                                                                 \n",
            " max_pooling2d_4 (MaxPooling  (None, 14, 14, 64)       0         \n",
            " 2D)                                                             \n",
            "                                                                 \n",
            " conv2d_5 (Conv2D)           (None, 14, 14, 128)       73856     \n",
            "                                                                 \n",
            " max_pooling2d_5 (MaxPooling  (None, 7, 7, 128)        0         \n",
            " 2D)                                                             \n",
            "                                                                 \n",
            " flatten_2 (Flatten)         (None, 6272)              0         \n",
            "                                                                 \n",
            " dense_3 (Dense)             (None, 65)                407745    \n",
            "                                                                 \n",
            " dense_4 (Dense)             (None, 10)                660       \n",
            "                                                                 \n",
            "=================================================================\n",
            "Total params: 485,461\n",
            "Trainable params: 485,461\n",
            "Non-trainable params: 0\n",
            "_________________________________________________________________\n"
          ]
        }
      ]
    },
    {
      "cell_type": "markdown",
      "metadata": {
        "id": "35AwhtD-ASQM"
      },
      "source": [
        "La función models[2].summary() nos indica:\n",
        "\n",
        "\n",
        "*   3200 = (7 x 7 de matriz W + 1 del bias) x 64 filtros\n",
        "*   0 => No hay parámetros que aprender porque es una operación max pooling\n",
        "*   La red convolucional 2 es 14 x 14\n",
        "*   73856 = (3 x 3 de matriz W x 64 filtros anteriores +  1 del bias) x 128 filtros\n",
        "*   407745 = 65 x 6272 + 65, porque tenemos 65 neuronas en la penúltima capa, 6272 = 7 x 7 x 128, y le sumamos 65 del sesgo.\n",
        "*   660 = 10 x 65 + 10, porque tenemos 10 neuronas de la capa *softmax*, 65 neuronas de la capa anterior y le sumamos 10 del sesgo.\n",
        "*   485461 = 3200 + 73856 + 407745 + 660 , puesto que es el número total de parámetros\n",
        "\n",
        "A continuación  llevamos a cabo el paso de compilación cargando el optimizador, la función de pérdida y las métricas. Y por último entrenamos la red a través de fit, realizando 5 épocas de entrenamiento y en mini lotes de 100 imagenes en cada uno. Además, lo evaluamos con los datos de prueba.\n",
        "\n"
      ]
    },
    {
      "cell_type": "code",
      "metadata": {
        "colab": {
          "base_uri": "https://localhost:8080/"
        },
        "id": "1jiKo3rnpVL1",
        "outputId": "5c465faf-4849-4167-dafb-1c522ee7ecf4"
      },
      "source": [
        "for caso in range(casos):\n",
        "  models[caso].compile(optimizer=optimizador[caso], loss=funcion_perdida[caso], metrics=[metrica[caso]])\n",
        "  print(\"CASO \",caso + 1)\n",
        "  print(\"---------------------------------\")\n",
        "  print(\"OPTIMIZADOR: \",optimizador[caso])\n",
        "  print(\"FUNCIÓN PÉRDIDA: \",funcion_perdida[caso])\n",
        "  print(\"MÉTRICA: \",metrica[caso])\n",
        "  print(\"---------------------------------\")\n",
        "  models[caso].fit(train_images, train_labels, epochs=numero_iteraciones[caso], batch_size=100, verbose = 0)\n",
        "  test_loss, test_acc = models[caso].evaluate(test_images,  test_labels)\n",
        "  print(\"\\n\\n\")"
      ],
      "execution_count": null,
      "outputs": [
        {
          "output_type": "stream",
          "name": "stdout",
          "text": [
            "CASO  1\n",
            "---------------------------------\n",
            "OPTIMIZADOR:  sgd\n",
            "FUNCIÓN PÉRDIDA:  sparse_categorical_crossentropy\n",
            "MÉTRICA:  accuracy\n",
            "---------------------------------\n",
            "313/313 [==============================] - 1s 4ms/step - loss: 0.5124 - accuracy: 0.8210\n",
            "\n",
            "\n",
            "\n",
            "CASO  2\n",
            "---------------------------------\n",
            "OPTIMIZADOR:  sgd\n",
            "FUNCIÓN PÉRDIDA:  sparse_categorical_crossentropy\n",
            "MÉTRICA:  accuracy\n",
            "---------------------------------\n",
            "313/313 [==============================] - 2s 5ms/step - loss: 0.4910 - accuracy: 0.8208\n",
            "\n",
            "\n",
            "\n",
            "CASO  3\n",
            "---------------------------------\n",
            "OPTIMIZADOR:  Adam\n",
            "FUNCIÓN PÉRDIDA:  sparse_categorical_crossentropy\n",
            "MÉTRICA:  accuracy\n",
            "---------------------------------\n",
            "313/313 [==============================] - 2s 4ms/step - loss: 0.2712 - accuracy: 0.9031\n",
            "\n",
            "\n",
            "\n"
          ]
        }
      ]
    },
    {
      "cell_type": "markdown",
      "metadata": {
        "id": "8qXn29fcASQS"
      },
      "source": [
        "Vemos que la precisión del primer modelo es del 80% y la pérdida de un 51%. La precisión del segundo modelo es del 82% y la pérdida del 49%. Y la pérdida del último modelo es del 25% y la precisión del 91%.\n",
        "Después de crear los tres modelos distintos, vemos que el modelo con menor pérdida y mejor precisión, por tanto el mejor modelo, es el tercero. El peor modelo es el primero, ya que es el de mayor pérdida y menor precisión.\n",
        "A raiz de estos resultados comprobamos que el peor modelo tiene menos filtros que los otros dos y no tiene padding. Además, solo tiene una capa dense después de las convolucionales, a diferencia de los otros dos modelos que tienen dos capas dense. Asimismo, el tercer modelo utiliza el optimizador *adam*, obteniendo así mejores resultados que el segundo con esa única diferencia entre ambos."
      ]
    },
    {
      "cell_type": "markdown",
      "metadata": {
        "id": "Zy_mYQRtFemU"
      },
      "source": [
        "## 4. INTERPRETACIÓN RESULTADOS DEL CASO 1\n",
        "A continuación, vamos a multiplicar por cinco el número de épocas (25) en el caso 1.\n",
        "\n",
        "\n"
      ]
    },
    {
      "cell_type": "code",
      "metadata": {
        "colab": {
          "base_uri": "https://localhost:8080/"
        },
        "id": "y-fX5qMLFyZY",
        "outputId": "b4543f8a-8e91-4d34-bca3-8ac69785bd57"
      },
      "source": [
        "models[0].fit(train_images, train_labels,\n",
        "          epochs=25,\n",
        "         batch_size=100, \n",
        "         verbose = 0)\n",
        "\n",
        "test_loss, test_acc = models[0].evaluate(test_images, test_labels)\n",
        "\n",
        "print('Test accuracy:', test_acc)"
      ],
      "execution_count": null,
      "outputs": [
        {
          "output_type": "stream",
          "name": "stdout",
          "text": [
            "313/313 [==============================] - 1s 4ms/step - loss: 0.3457 - accuracy: 0.8770\n",
            "Test accuracy: 0.8769999742507935\n"
          ]
        }
      ]
    },
    {
      "cell_type": "markdown",
      "metadata": {
        "id": "BEr8TKNNbGEs"
      },
      "source": [
        "Vemos que ahora la pérdida de un 34%, mientras que con 5 épocas era de un 50%. Por otro lado, la precisión ha aumentado al 88% frente un 80% que tenía inicialmente.  \n",
        "En este caso, el modelo ha mejorado al multiplicar por cinco las épocas, no se ha producido *overfitting*, hemos optimizado el modelo."
      ]
    },
    {
      "cell_type": "markdown",
      "metadata": {
        "id": "G3_xxz6PF2oB"
      },
      "source": [
        "## 5. CAMBIO DE FUNCIÓN DE ACTIVACIÓN EN EL CASO 1\n",
        "Ahora vemos lo que ocurre si en lugar de la función de activación *relu* usamos *tanh* en las dos capas convolucionales de la red 1."
      ]
    },
    {
      "cell_type": "code",
      "metadata": {
        "id": "X7tsR9QCGXFB"
      },
      "source": [
        "models[0] = Sequential()\n",
        "models[0].add(Conv2D(32, (5, 5), activation='tanh', input_shape=(28, 28, 1)))\n",
        "models[0].add(MaxPooling2D((2, 2)))\n",
        "models[0].add(Conv2D(64, (5, 5), activation='tanh'))\n",
        "models[0].add(MaxPooling2D((2, 2)))\n",
        "models[0].add(Flatten())\n",
        "models[0].add(Dense(10, activation='softmax'))"
      ],
      "execution_count": null,
      "outputs": []
    },
    {
      "cell_type": "code",
      "metadata": {
        "id": "wFAFyBF5GXFE"
      },
      "source": [
        "models[0].compile(optimizer='sgd', \n",
        "                loss='sparse_categorical_crossentropy',\n",
        "                metrics=['accuracy'])"
      ],
      "execution_count": null,
      "outputs": []
    },
    {
      "cell_type": "code",
      "metadata": {
        "colab": {
          "base_uri": "https://localhost:8080/"
        },
        "id": "Obow_lDfGXFF",
        "outputId": "c422c4ee-e8ee-43bf-bcc2-e7b0532dd4a5"
      },
      "source": [
        "models[0].fit(train_images, train_labels,\n",
        "          epochs=5,\n",
        "         batch_size=100,\n",
        "          verbose=0)\n",
        "\n",
        "test_loss, test_acc = models[0].evaluate(test_images, test_labels)\n",
        "\n",
        "print('Test accuracy:', test_acc)"
      ],
      "execution_count": null,
      "outputs": [
        {
          "output_type": "stream",
          "name": "stdout",
          "text": [
            "313/313 [==============================] - 1s 4ms/step - loss: 0.5079 - accuracy: 0.8179\n",
            "Test accuracy: 0.8179000020027161\n"
          ]
        }
      ]
    },
    {
      "cell_type": "markdown",
      "metadata": {
        "id": "xHSAJ7bLcV4x"
      },
      "source": [
        "En este caso, al cambiar la función de activación en las dos primeras capas convolucionales, la pérdida no ha variado con respecto a la incial. Sin embargo, la precisión ha aumentado a un 82%.  \n",
        "Por este motivo, creemos que es mejor dejar la función de activación *tanh*, aunque no produce un cambio muy significativo. "
      ]
    },
    {
      "cell_type": "markdown",
      "metadata": {
        "id": "1GLf0q2CcUON"
      },
      "source": [
        "## 6. COMPARACIÓN DEL RENDIMIENTO DEL MODELO EN EL CONJUNTO DE DATOS DE ENTRENAMIENTO"
      ]
    },
    {
      "cell_type": "markdown",
      "metadata": {
        "id": "wLHaXdy6cjhk"
      },
      "source": [
        "Primero, creamos un conjunto de validación separando 10000 datos de entrenamiento para ver la precisión del modelo durante el entrenamiento con datos que nunca había visto. Después compararemos el rendimiento en cada una de las ocho redes."
      ]
    },
    {
      "cell_type": "code",
      "metadata": {
        "id": "WVCx31Aic2k0",
        "colab": {
          "base_uri": "https://localhost:8080/",
          "height": 1000
        },
        "outputId": "28243a1e-ecf9-450e-a542-fc1886974164"
      },
      "source": [
        "x_val = train_images[:10000]\n",
        "partial_x_train = train_images[10000:]\n",
        "\n",
        "y_val = train_labels[:10000]\n",
        "partial_y_train = train_labels[10000:]\n",
        "\n",
        "for caso in range(casos):\n",
        "  models[caso].compile(optimizer=optimizador[caso], loss=funcion_perdida[caso], metrics=[metrica[caso]])\n",
        "  print(\"CASO \",caso + 1)\n",
        "  print(\"---------------------------------\")\n",
        "  history = models[caso].fit(partial_x_train,\n",
        "                   partial_y_train,\n",
        "                   epochs  = 20,\n",
        "                   batch_size = 512,\n",
        "                   validation_data = (x_val, y_val))\n",
        "  history_dict = history.history\n",
        "  history_dict.keys()\n",
        "  print(history_dict['loss'])\n",
        "  print(history_dict['accuracy'])\n",
        "  print(history_dict['val_loss'])\n",
        "  print(history_dict['val_accuracy'])\n",
        "\n",
        "  accuracy = history.history['accuracy']\n",
        "  val_accuracy = history.history['val_accuracy']\n",
        "  loss = history.history['loss']\n",
        "  val_loss = history.history['val_loss']\n",
        "\n",
        "  epochs = range(1, len(accuracy) + 1)\n",
        "\n",
        "\n",
        "  plt.plot(epochs, loss, 'bo', label='Pérdida de Entrenamiento')\n",
        "  plt.plot(epochs, val_loss, 'b', label='Pérdida de Validación')\n",
        "  plt.title('Pérdida de Entrenamiento y Validación')\n",
        "  plt.xlabel('Epochs')\n",
        "  plt.ylabel('Loss')\n",
        "  plt.legend()\n",
        "\n",
        "  plt.show()\n",
        "\n",
        "  plt.clf()\n",
        "  accuracy_values = history_dict['accuracy']\n",
        "  val_accuracy_values = history_dict['val_accuracy']\n",
        "\n",
        "  plt.plot(epochs, accuracy, 'bo', label='Precisión de Entrenamiento')\n",
        "  plt.plot(epochs, val_accuracy, 'b', label='Precisión de Validación')\n",
        "  plt.title('Precisión de Entrenamiento y Valización')\n",
        "  plt.xlabel('Epochs')\n",
        "  plt.ylabel('Loss')\n",
        "  plt.legend()\n",
        "\n",
        "  plt.show()"
      ],
      "execution_count": null,
      "outputs": [
        {
          "output_type": "stream",
          "name": "stdout",
          "text": [
            "CASO  1\n",
            "---------------------------------\n",
            "Epoch 1/20\n",
            "98/98 [==============================] - 3s 24ms/step - loss: 0.4825 - accuracy: 0.8285 - val_loss: 0.4748 - val_accuracy: 0.8354\n",
            "Epoch 2/20\n",
            "98/98 [==============================] - 2s 19ms/step - loss: 0.4785 - accuracy: 0.8303 - val_loss: 0.4721 - val_accuracy: 0.8375\n",
            "Epoch 3/20\n",
            "98/98 [==============================] - 2s 18ms/step - loss: 0.4744 - accuracy: 0.8321 - val_loss: 0.4677 - val_accuracy: 0.8352\n",
            "Epoch 4/20\n",
            "98/98 [==============================] - 2s 19ms/step - loss: 0.4708 - accuracy: 0.8337 - val_loss: 0.4637 - val_accuracy: 0.8397\n",
            "Epoch 5/20\n",
            "98/98 [==============================] - 2s 19ms/step - loss: 0.4669 - accuracy: 0.8345 - val_loss: 0.4625 - val_accuracy: 0.8382\n",
            "Epoch 6/20\n",
            "98/98 [==============================] - 2s 18ms/step - loss: 0.4634 - accuracy: 0.8359 - val_loss: 0.4585 - val_accuracy: 0.8408\n",
            "Epoch 7/20\n",
            "98/98 [==============================] - 2s 19ms/step - loss: 0.4603 - accuracy: 0.8379 - val_loss: 0.4540 - val_accuracy: 0.8445\n",
            "Epoch 8/20\n",
            "98/98 [==============================] - 2s 19ms/step - loss: 0.4568 - accuracy: 0.8392 - val_loss: 0.4509 - val_accuracy: 0.8449\n",
            "Epoch 9/20\n",
            "98/98 [==============================] - 2s 18ms/step - loss: 0.4535 - accuracy: 0.8397 - val_loss: 0.4479 - val_accuracy: 0.8460\n",
            "Epoch 10/20\n",
            "98/98 [==============================] - 2s 19ms/step - loss: 0.4506 - accuracy: 0.8410 - val_loss: 0.4456 - val_accuracy: 0.8453\n",
            "Epoch 11/20\n",
            "98/98 [==============================] - 2s 19ms/step - loss: 0.4476 - accuracy: 0.8413 - val_loss: 0.4421 - val_accuracy: 0.8484\n",
            "Epoch 12/20\n",
            "98/98 [==============================] - 2s 19ms/step - loss: 0.4449 - accuracy: 0.8431 - val_loss: 0.4414 - val_accuracy: 0.8470\n",
            "Epoch 13/20\n",
            "98/98 [==============================] - 2s 19ms/step - loss: 0.4418 - accuracy: 0.8448 - val_loss: 0.4386 - val_accuracy: 0.8487\n",
            "Epoch 14/20\n",
            "98/98 [==============================] - 2s 19ms/step - loss: 0.4393 - accuracy: 0.8448 - val_loss: 0.4346 - val_accuracy: 0.8504\n",
            "Epoch 15/20\n",
            "98/98 [==============================] - 2s 19ms/step - loss: 0.4364 - accuracy: 0.8459 - val_loss: 0.4317 - val_accuracy: 0.8521\n",
            "Epoch 16/20\n",
            "98/98 [==============================] - 2s 19ms/step - loss: 0.4338 - accuracy: 0.8464 - val_loss: 0.4300 - val_accuracy: 0.8519\n",
            "Epoch 17/20\n",
            "98/98 [==============================] - 2s 19ms/step - loss: 0.4313 - accuracy: 0.8482 - val_loss: 0.4280 - val_accuracy: 0.8520\n",
            "Epoch 18/20\n",
            "98/98 [==============================] - 2s 19ms/step - loss: 0.4289 - accuracy: 0.8496 - val_loss: 0.4249 - val_accuracy: 0.8534\n",
            "Epoch 19/20\n",
            "98/98 [==============================] - 2s 18ms/step - loss: 0.4263 - accuracy: 0.8496 - val_loss: 0.4228 - val_accuracy: 0.8541\n",
            "Epoch 20/20\n",
            "98/98 [==============================] - 2s 19ms/step - loss: 0.4243 - accuracy: 0.8509 - val_loss: 0.4207 - val_accuracy: 0.8549\n",
            "[0.48250627517700195, 0.478527307510376, 0.4744444489479065, 0.4707537889480591, 0.46692904829978943, 0.4634406268596649, 0.46031397581100464, 0.45680001378059387, 0.4535432755947113, 0.4506078064441681, 0.4475969076156616, 0.4448578953742981, 0.44183996319770813, 0.43927082419395447, 0.4364440143108368, 0.4338483214378357, 0.4312792718410492, 0.428916335105896, 0.4263227880001068, 0.42426326870918274]\n",
            "[0.828540027141571, 0.8303200006484985, 0.8321200013160706, 0.8336600065231323, 0.8345000147819519, 0.8359400033950806, 0.8378599882125854, 0.8391600251197815, 0.839739978313446, 0.8410199880599976, 0.8412799835205078, 0.8430799841880798, 0.8447999954223633, 0.8448399901390076, 0.8458999991416931, 0.8464400172233582, 0.8482400178909302, 0.8495799899101257, 0.8496400117874146, 0.8508599996566772]\n",
            "[0.47482791543006897, 0.47205761075019836, 0.4677126109600067, 0.46366673707962036, 0.46252578496932983, 0.45847636461257935, 0.4539995491504669, 0.45086976885795593, 0.44793441891670227, 0.4456119239330292, 0.4421159625053406, 0.4414363205432892, 0.4386462867259979, 0.43455806374549866, 0.4316527843475342, 0.43001487851142883, 0.428005188703537, 0.4249056577682495, 0.4228178858757019, 0.42071202397346497]\n",
            "[0.8353999853134155, 0.8374999761581421, 0.8352000117301941, 0.8396999835968018, 0.8381999731063843, 0.8407999873161316, 0.8445000052452087, 0.8449000120162964, 0.8460000157356262, 0.845300018787384, 0.8483999967575073, 0.847000002861023, 0.8486999869346619, 0.8503999710083008, 0.8521000146865845, 0.8518999814987183, 0.8519999980926514, 0.8533999919891357, 0.8540999889373779, 0.8549000024795532]\n"
          ]
        },
        {
          "output_type": "display_data",
          "data": {
            "image/png": "[encoded data removed]",
            "text/plain": [
              "<Figure size 432x288 with 1 Axes>"
            ]
          },
          "metadata": {
            "needs_background": "light"
          }
        },
        {
          "output_type": "display_data",
          "data": {
            "image/png": "[encoded data removed]",
            "text/plain": [
              "<Figure size 432x288 with 1 Axes>"
            ]
          },
          "metadata": {
            "needs_background": "light"
          }
        },
        {
          "output_type": "stream",
          "name": "stdout",
          "text": [
            "CASO  2\n",
            "---------------------------------\n",
            "Epoch 1/20\n",
            "98/98 [==============================] - 6s 52ms/step - loss: 0.4453 - accuracy: 0.8426 - val_loss: 0.4469 - val_accuracy: 0.8386\n",
            "Epoch 2/20\n",
            "98/98 [==============================] - 5s 49ms/step - loss: 0.4394 - accuracy: 0.8463 - val_loss: 0.4318 - val_accuracy: 0.8488\n",
            "Epoch 3/20\n",
            "98/98 [==============================] - 5s 48ms/step - loss: 0.4363 - accuracy: 0.8462 - val_loss: 0.4376 - val_accuracy: 0.8434\n",
            "Epoch 4/20\n",
            "98/98 [==============================] - 4s 46ms/step - loss: 0.4304 - accuracy: 0.8481 - val_loss: 0.4236 - val_accuracy: 0.8525\n",
            "Epoch 5/20\n",
            "98/98 [==============================] - 4s 46ms/step - loss: 0.4314 - accuracy: 0.8470 - val_loss: 0.4187 - val_accuracy: 0.8518\n",
            "Epoch 6/20\n",
            "98/98 [==============================] - 5s 48ms/step - loss: 0.4234 - accuracy: 0.8501 - val_loss: 0.4349 - val_accuracy: 0.8475\n",
            "Epoch 7/20\n",
            "98/98 [==============================] - 5s 49ms/step - loss: 0.4190 - accuracy: 0.8510 - val_loss: 0.4462 - val_accuracy: 0.8311\n",
            "Epoch 8/20\n",
            "98/98 [==============================] - 4s 46ms/step - loss: 0.4174 - accuracy: 0.8517 - val_loss: 0.4081 - val_accuracy: 0.8565\n",
            "Epoch 9/20\n",
            "98/98 [==============================] - 4s 45ms/step - loss: 0.4181 - accuracy: 0.8508 - val_loss: 0.4218 - val_accuracy: 0.8468\n",
            "Epoch 10/20\n",
            "98/98 [==============================] - 5s 49ms/step - loss: 0.4108 - accuracy: 0.8541 - val_loss: 0.4010 - val_accuracy: 0.8639\n",
            "Epoch 11/20\n",
            "98/98 [==============================] - 5s 48ms/step - loss: 0.4117 - accuracy: 0.8532 - val_loss: 0.3985 - val_accuracy: 0.8583\n",
            "Epoch 12/20\n",
            "98/98 [==============================] - 5s 48ms/step - loss: 0.4054 - accuracy: 0.8566 - val_loss: 0.3995 - val_accuracy: 0.8594\n",
            "Epoch 13/20\n",
            "98/98 [==============================] - 5s 49ms/step - loss: 0.4025 - accuracy: 0.8578 - val_loss: 0.3939 - val_accuracy: 0.8600\n",
            "Epoch 14/20\n",
            "98/98 [==============================] - 5s 48ms/step - loss: 0.4004 - accuracy: 0.8570 - val_loss: 0.3914 - val_accuracy: 0.8633\n",
            "Epoch 15/20\n",
            "98/98 [==============================] - 4s 46ms/step - loss: 0.3974 - accuracy: 0.8589 - val_loss: 0.3957 - val_accuracy: 0.8632\n",
            "Epoch 16/20\n",
            "98/98 [==============================] - 4s 46ms/step - loss: 0.3962 - accuracy: 0.8590 - val_loss: 0.3848 - val_accuracy: 0.8665\n",
            "Epoch 17/20\n",
            "98/98 [==============================] - 4s 46ms/step - loss: 0.3928 - accuracy: 0.8604 - val_loss: 0.4056 - val_accuracy: 0.8513\n",
            "Epoch 18/20\n",
            "98/98 [==============================] - 4s 46ms/step - loss: 0.3926 - accuracy: 0.8625 - val_loss: 0.3899 - val_accuracy: 0.8615\n",
            "Epoch 19/20\n",
            "98/98 [==============================] - 4s 46ms/step - loss: 0.3903 - accuracy: 0.8619 - val_loss: 0.3892 - val_accuracy: 0.8606\n",
            "Epoch 20/20\n",
            "98/98 [==============================] - 4s 46ms/step - loss: 0.3914 - accuracy: 0.8607 - val_loss: 0.3955 - val_accuracy: 0.8587\n",
            "[0.4452865719795227, 0.4394248425960541, 0.4363226294517517, 0.430444598197937, 0.43135711550712585, 0.42337262630462646, 0.41901397705078125, 0.4173696041107178, 0.4180639088153839, 0.4107579290866852, 0.4117251932621002, 0.4054015874862671, 0.40252313017845154, 0.40037792921066284, 0.39740532636642456, 0.3962438702583313, 0.3928353488445282, 0.3926340639591217, 0.3903011083602905, 0.3913571834564209]\n",
            "[0.8426200151443481, 0.8463000059127808, 0.8461999893188477, 0.8481000065803528, 0.8470399975776672, 0.8500999808311462, 0.8509799838066101, 0.8517000079154968, 0.8507999777793884, 0.8541399836540222, 0.8532000184059143, 0.8565999865531921, 0.8578199744224548, 0.8569599986076355, 0.8589400053024292, 0.859000027179718, 0.8604000210762024, 0.8625400066375732, 0.8619199991226196, 0.8607400059700012]\n",
            "[0.44689732789993286, 0.43183526396751404, 0.43756839632987976, 0.423554003238678, 0.4187067747116089, 0.43490907549858093, 0.4461621940135956, 0.4081021845340729, 0.42176616191864014, 0.4010468125343323, 0.39849671721458435, 0.39953097701072693, 0.39389342069625854, 0.3914162814617157, 0.39571186900138855, 0.38477298617362976, 0.4056302011013031, 0.38992929458618164, 0.3891502022743225, 0.39549267292022705]\n",
            "[0.8385999798774719, 0.848800003528595, 0.8434000015258789, 0.8525000214576721, 0.8518000245094299, 0.8475000262260437, 0.8310999870300293, 0.8565000295639038, 0.8468000292778015, 0.8639000058174133, 0.858299970626831, 0.8593999743461609, 0.8600000143051147, 0.8633000254631042, 0.8632000088691711, 0.8665000200271606, 0.8513000011444092, 0.8615000247955322, 0.8605999946594238, 0.8586999773979187]\n"
          ]
        },
        {
          "output_type": "display_data",
          "data": {
            "image/png": "[encoded data removed]",
            "text/plain": [
              "<Figure size 432x288 with 1 Axes>"
            ]
          },
          "metadata": {
            "needs_background": "light"
          }
        },
        {
          "output_type": "display_data",
          "data": {
            "image/png": "[encoded data removed]",
            "text/plain": [
              "<Figure size 432x288 with 1 Axes>"
            ]
          },
          "metadata": {
            "needs_background": "light"
          }
        },
        {
          "output_type": "stream",
          "name": "stdout",
          "text": [
            "CASO  3\n",
            "---------------------------------\n",
            "Epoch 1/20\n",
            "98/98 [==============================] - 5s 47ms/step - loss: 0.1626 - accuracy: 0.9417 - val_loss: 0.1493 - val_accuracy: 0.9448\n",
            "Epoch 2/20\n",
            "98/98 [==============================] - 5s 49ms/step - loss: 0.1411 - accuracy: 0.9486 - val_loss: 0.1582 - val_accuracy: 0.9416\n",
            "Epoch 3/20\n",
            "98/98 [==============================] - 5s 49ms/step - loss: 0.1278 - accuracy: 0.9543 - val_loss: 0.1504 - val_accuracy: 0.9430\n",
            "Epoch 4/20\n",
            "98/98 [==============================] - 5s 46ms/step - loss: 0.1160 - accuracy: 0.9587 - val_loss: 0.1463 - val_accuracy: 0.9460\n",
            "Epoch 5/20\n",
            "98/98 [==============================] - 5s 49ms/step - loss: 0.1013 - accuracy: 0.9648 - val_loss: 0.1670 - val_accuracy: 0.9369\n",
            "Epoch 6/20\n",
            "98/98 [==============================] - 4s 46ms/step - loss: 0.0902 - accuracy: 0.9688 - val_loss: 0.1534 - val_accuracy: 0.9426\n",
            "Epoch 7/20\n",
            "98/98 [==============================] - 4s 46ms/step - loss: 0.0851 - accuracy: 0.9703 - val_loss: 0.1545 - val_accuracy: 0.9433\n",
            "Epoch 8/20\n",
            "98/98 [==============================] - 4s 46ms/step - loss: 0.0723 - accuracy: 0.9751 - val_loss: 0.1589 - val_accuracy: 0.9410\n",
            "Epoch 9/20\n",
            "98/98 [==============================] - 5s 46ms/step - loss: 0.0631 - accuracy: 0.9788 - val_loss: 0.1753 - val_accuracy: 0.9394\n",
            "Epoch 10/20\n",
            "98/98 [==============================] - 4s 46ms/step - loss: 0.0569 - accuracy: 0.9807 - val_loss: 0.1903 - val_accuracy: 0.9371\n",
            "Epoch 11/20\n",
            "98/98 [==============================] - 5s 46ms/step - loss: 0.0497 - accuracy: 0.9831 - val_loss: 0.1867 - val_accuracy: 0.9380\n",
            "Epoch 12/20\n",
            "98/98 [==============================] - 5s 46ms/step - loss: 0.0418 - accuracy: 0.9869 - val_loss: 0.1912 - val_accuracy: 0.9383\n",
            "Epoch 13/20\n",
            "98/98 [==============================] - 5s 46ms/step - loss: 0.0360 - accuracy: 0.9888 - val_loss: 0.1869 - val_accuracy: 0.9405\n",
            "Epoch 14/20\n",
            "98/98 [==============================] - 5s 46ms/step - loss: 0.0331 - accuracy: 0.9892 - val_loss: 0.2143 - val_accuracy: 0.9349\n",
            "Epoch 15/20\n",
            "98/98 [==============================] - 4s 46ms/step - loss: 0.0296 - accuracy: 0.9907 - val_loss: 0.2249 - val_accuracy: 0.9338\n",
            "Epoch 16/20\n",
            "98/98 [==============================] - 5s 46ms/step - loss: 0.0285 - accuracy: 0.9906 - val_loss: 0.2107 - val_accuracy: 0.9399\n",
            "Epoch 17/20\n",
            "98/98 [==============================] - 5s 46ms/step - loss: 0.0231 - accuracy: 0.9928 - val_loss: 0.2331 - val_accuracy: 0.9369\n",
            "Epoch 18/20\n",
            "98/98 [==============================] - 4s 46ms/step - loss: 0.0172 - accuracy: 0.9951 - val_loss: 0.2337 - val_accuracy: 0.9385\n",
            "Epoch 19/20\n",
            "98/98 [==============================] - 4s 46ms/step - loss: 0.0142 - accuracy: 0.9964 - val_loss: 0.2361 - val_accuracy: 0.9386\n",
            "Epoch 20/20\n",
            "98/98 [==============================] - 5s 46ms/step - loss: 0.0109 - accuracy: 0.9975 - val_loss: 0.2541 - val_accuracy: 0.9363\n",
            "[0.16261622309684753, 0.14107804000377655, 0.1278446912765503, 0.11604247987270355, 0.10130320489406586, 0.09021064639091492, 0.08514656126499176, 0.07230158150196075, 0.06312493979930878, 0.05686661973595619, 0.04971396178007126, 0.041819848120212555, 0.036000922322273254, 0.033131226897239685, 0.029550297185778618, 0.028452033177018166, 0.023071840405464172, 0.017178751528263092, 0.014240293763577938, 0.010892084799706936]\n",
            "[0.9416999816894531, 0.9486200213432312, 0.9542999863624573, 0.9587399959564209, 0.9647600054740906, 0.968779981136322, 0.9703199863433838, 0.9750800132751465, 0.9787999987602234, 0.980679988861084, 0.9830800294876099, 0.9868999719619751, 0.9887599945068359, 0.9892200231552124, 0.9906600117683411, 0.9905999898910522, 0.9927999973297119, 0.9951000213623047, 0.9963799715042114, 0.9975399971008301]\n",
            "[0.1493421345949173, 0.15815813839435577, 0.15037141740322113, 0.1463138461112976, 0.1670328825712204, 0.15338873863220215, 0.15446393191814423, 0.15889115631580353, 0.175252303481102, 0.1902741640806198, 0.18669858574867249, 0.19124910235404968, 0.18690051138401031, 0.21432895958423615, 0.22491134703159332, 0.21070222556591034, 0.23305563628673553, 0.23371203243732452, 0.2361413538455963, 0.25407305359840393]\n",
            "[0.9448000192642212, 0.9416000247001648, 0.9430000185966492, 0.9459999799728394, 0.9369000196456909, 0.9426000118255615, 0.9433000087738037, 0.9409999847412109, 0.9394000172615051, 0.9370999932289124, 0.9380000233650208, 0.9383000135421753, 0.940500020980835, 0.9348999857902527, 0.9337999820709229, 0.9398999810218811, 0.9369000196456909, 0.9384999871253967, 0.9386000037193298, 0.9362999796867371]\n"
          ]
        },
        {
          "output_type": "display_data",
          "data": {
            "image/png": "[encoded data removed]",
            "text/plain": [
              "<Figure size 432x288 with 1 Axes>"
            ]
          },
          "metadata": {
            "needs_background": "light"
          }
        },
        {
          "output_type": "display_data",
          "data": {
            "image/png": "[encoded data removed]",
            "text/plain": [
              "<Figure size 432x288 with 1 Axes>"
            ]
          },
          "metadata": {
            "needs_background": "light"
          }
        }
      ]
    },
    {
      "cell_type": "markdown",
      "metadata": {
        "id": "fwCTZZPMdPBB"
      },
      "source": [
        "### Caso 1"
      ]
    },
    {
      "cell_type": "markdown",
      "metadata": {
        "id": "nnHIddrKf5Rl"
      },
      "source": [
        "Se puede observar que sí mejora bastante el modelo con 20 épocas, puesto que la pérdida de los datos de validación y de los datos de entrenamiento son muy similares. Aunque, la pérdida de validación es mayor a partir de la decimoséptima iteración."
      ]
    },
    {
      "cell_type": "markdown",
      "metadata": {
        "id": "fUsTThzxgcTe"
      },
      "source": [
        "Vemos que también mejora bastante el modelo cuanto mayor sea el número de épocas, aunque a partir de la decimoséptima iteración la pracesión de entrenamiento es mayor que la de validación, pero en ningún caso se produce sobreentrenamiento."
      ]
    },
    {
      "cell_type": "markdown",
      "metadata": {
        "id": "dYRzPihLeHS7"
      },
      "source": [
        "### Caso 2"
      ]
    },
    {
      "cell_type": "markdown",
      "metadata": {
        "id": "AeSLAIaMhjgv"
      },
      "source": [
        "Se puede observar que la pérdida de validación se comporta de manera totalmente diferente que la pérdida de entrenamiento y que la pérdida de validación inicial es la menor de todas las pérdidas de validación. Aunque es mayor a la de entrenamiento. Creemos que con dos épocas de entrenamiento sería suficiente."
      ]
    },
    {
      "cell_type": "markdown",
      "metadata": {
        "id": "UvIV3ct8hjgx"
      },
      "source": [
        "Vemos que la precisión de entrenamiento es mayor cuantas más épocas realicemos. Por otro lado, la de validación es menor a la de entrenamiento y a partir de la tercera iteración se vuelve un poco caótica. "
      ]
    },
    {
      "cell_type": "markdown",
      "metadata": {
        "id": "qKiyxrgUiXEQ"
      },
      "source": [
        "### Caso 3"
      ]
    },
    {
      "cell_type": "markdown",
      "metadata": {
        "id": "NJlkV4iDiY7g"
      },
      "source": [
        "Se puede observar que el modelo con 20 épocas no mejora más con más épocas, puesto que la pérdida de los datos de entrenamiento ya es muy baja desde el inicio y la de los datos de validación aumenta según aumentan las pérdidas. Creemos que con dos o tres épocas sería suficiente."
      ]
    },
    {
      "cell_type": "markdown",
      "metadata": {
        "id": "9PlztL2WiY7h"
      },
      "source": [
        "Vemos que tampoco mejora bastante el modelo cuanto mayor sea el número de épocas.  \n",
        "Tras evaluar el modelo con los datos de validación, vemos que como ya sabíamos previamente, los modelos con padding y con más filtros necesitan menos épocas para funcionar igual de bien, es decir, son mejores."
      ]
    },
    {
      "cell_type": "markdown",
      "metadata": {
        "id": "5WCOLeUUqCbo"
      },
      "source": [
        "## 7. PREDICCIONES SOBRE LAS IMÁGENES DE _TEST_\n",
        "Vamos a realizar predicciones para las 14 primeras imágenes con cada uno de los tres modelos. Después comentaremos los resultados para la sexta imagen.  \n",
        "Primero vemos que la sexta imagen corresponde con unos pantalones."
      ]
    },
    {
      "cell_type": "code",
      "metadata": {
        "colab": {
          "base_uri": "https://localhost:8080/",
          "height": 265
        },
        "id": "4QhMjAW5mjU6",
        "outputId": "cf8ca27f-1624-4907-b73b-bc80c0c27f4e"
      },
      "source": [
        "(train_images, train_labels), (test_images, test_labels) = fashion_mnist.load_data()\n",
        "digit = test_images[5]\n",
        "plt.imshow(digit, cmap=plt.cm.binary)\n",
        "plt.show()"
      ],
      "execution_count": null,
      "outputs": [
        {
          "output_type": "display_data",
          "data": {
            "image/png": "[encoded data removed]",
            "text/plain": [
              "<Figure size 432x288 with 1 Axes>"
            ]
          },
          "metadata": {
            "needs_background": "light"
          }
        }
      ]
    },
    {
      "cell_type": "markdown",
      "metadata": {
        "id": "r7X7CVHKCbwA"
      },
      "source": [
        "Después creamos la función plot_image para ir mostrando por pantalla las distintas predicciones."
      ]
    },
    {
      "cell_type": "code",
      "metadata": {
        "id": "BvvjhU8ZqF2S"
      },
      "source": [
        "def plot_image(i, predictions_array, true_label, img):\n",
        "  predictions_array, true_label, img = predictions_array, true_label[i], img[i]\n",
        "  plt.grid(False)\n",
        "  plt.xticks([])\n",
        "  plt.yticks([])\n",
        "\n",
        "  plt.imshow(img, cmap=plt.cm.binary)    \n",
        "\n",
        "  predicted_label = np.argmax(predictions_array)\n",
        "  if predicted_label.all() == true_label.all():\n",
        "    color = 'blue'\n",
        "  else:\n",
        "    color = 'red'\n",
        "\n",
        "  plt.xlabel(\"{} {:2.0f}% ({})\".format(predicted_label,\n",
        "                                100*np.max(predictions_array),\n",
        "                                true_label),\n",
        "                                color=color)\n",
        "\n",
        "def plot_value_array(i, predictions_array, true_label):\n",
        "  predictions_array, true_label = predictions_array, true_label[i]\n",
        "  plt.grid(False)\n",
        "  plt.xticks(range(10))\n",
        "  plt.yticks([])\n",
        "  thisplot = plt.bar(range(10), predictions_array, color=\"#00FF00\")\n",
        "  plt.ylim([0, 1])\n",
        "  predicted_label = np.argmax(predictions_array)\n",
        "\n",
        "  thisplot[predicted_label].set_color('red')\n",
        "  thisplot[true_label].set_color('black')"
      ],
      "execution_count": null,
      "outputs": []
    },
    {
      "cell_type": "markdown",
      "metadata": {
        "id": "LjRKmITrpoI3"
      },
      "source": [
        "### Caso 1"
      ]
    },
    {
      "cell_type": "code",
      "metadata": {
        "colab": {
          "base_uri": "https://localhost:8080/"
        },
        "id": "KVyD_8NApmNa",
        "outputId": "c635969e-acfd-45f5-d855-f2a8c3c77492"
      },
      "source": [
        "predictions = models[0].predict(test_images)\n",
        "print(np.argmax(predictions[5]))\n",
        "print(predictions[5])\n",
        "np.sum(predictions[5])\n",
        "print(predictions)"
      ],
      "execution_count": null,
      "outputs": [
        {
          "output_type": "stream",
          "name": "stdout",
          "text": [
            "1\n",
            "[5.4456637e-04 9.9779689e-01 9.9580948e-06 8.4314932e-05 1.4449691e-03\n",
            " 2.8515935e-05 5.8608632e-05 6.7598734e-08 3.2146869e-05 1.6893180e-09]\n",
            "[[1.9989851e-07 3.6069256e-08 8.2889737e-06 ... 2.4930879e-02\n",
            "  4.0085036e-03 8.1779683e-01]\n",
            " [3.2305366e-03 5.7053228e-04 8.5054481e-01 ... 8.1167673e-07\n",
            "  1.5579483e-03 8.1005701e-06]\n",
            " [2.1155670e-04 9.9894685e-01 1.3386865e-06 ... 5.2238331e-08\n",
            "  6.2911545e-06 1.0068001e-09]\n",
            " ...\n",
            " [5.3438380e-02 8.0160717e-05 2.4707511e-02 ... 9.8329190e-07\n",
            "  6.5803349e-01 4.3063615e-09]\n",
            " [2.2211602e-04 9.9415016e-01 1.4322116e-05 ... 1.5301595e-06\n",
            "  1.2469779e-06 6.2797670e-07]\n",
            " [7.3447765e-05 1.0272584e-04 7.1919938e-03 ... 1.7075698e-03\n",
            "  6.8038559e-01 3.1850459e-03]]\n"
          ]
        }
      ]
    },
    {
      "cell_type": "code",
      "metadata": {
        "colab": {
          "base_uri": "https://localhost:8080/",
          "height": 1000
        },
        "id": "K6zPRJZHnJPS",
        "outputId": "376bf039-97ea-47ca-dbd5-6a5076082fe4"
      },
      "source": [
        "(train_images, train_labels), (test_images, test_labels) = fashion_mnist.load_data()\n",
        "\n",
        "predictions = models[0].predict(test_images)\n",
        "for i in range(14):\n",
        "  plt.figure(figsize=(6,3))\n",
        "  plt.subplot(1,2,1)\n",
        "  plot_image(i, predictions[i], test_labels, test_images.reshape(10000,28,28))\n",
        "  plt.subplot(1,2,2)\n",
        "  plot_value_array(i, predictions[i],  test_labels)\n",
        "  plt.show()\n",
        "  plt.clf()"
      ],
      "execution_count": null,
      "outputs": [
        {
          "output_type": "display_data",
          "data": {
            "image/png": "[encoded data removed]",
            "text/plain": [
              "<Figure size 432x216 with 2 Axes>"
            ]
          },
          "metadata": {
            "needs_background": "light"
          }
        },
        {
          "output_type": "display_data",
          "data": {
            "text/plain": [
              "<Figure size 432x288 with 0 Axes>"
            ]
          },
          "metadata": {}
        },
        {
          "output_type": "display_data",
          "data": {
            "image/png": "[encoded data removed]",
            "text/plain": [
              "<Figure size 432x216 with 2 Axes>"
            ]
          },
          "metadata": {
            "needs_background": "light"
          }
        },
        {
          "output_type": "display_data",
          "data": {
            "text/plain": [
              "<Figure size 432x288 with 0 Axes>"
            ]
          },
          "metadata": {}
        },
        {
          "output_type": "display_data",
          "data": {
            "image/png": "[encoded data removed]",
            "text/plain": [
              "<Figure size 432x216 with 2 Axes>"
            ]
          },
          "metadata": {
            "needs_background": "light"
          }
        },
        {
          "output_type": "display_data",
          "data": {
            "text/plain": [
              "<Figure size 432x288 with 0 Axes>"
            ]
          },
          "metadata": {}
        },
        {
          "output_type": "display_data",
          "data": {
            "image/png": "[encoded data removed]",
            "text/plain": [
              "<Figure size 432x216 with 2 Axes>"
            ]
          },
          "metadata": {
            "needs_background": "light"
          }
        },
        {
          "output_type": "display_data",
          "data": {
            "text/plain": [
              "<Figure size 432x288 with 0 Axes>"
            ]
          },
          "metadata": {}
        },
        {
          "output_type": "display_data",
          "data": {
            "image/png": "[encoded data removed]",
            "text/plain": [
              "<Figure size 432x216 with 2 Axes>"
            ]
          },
          "metadata": {
            "needs_background": "light"
          }
        },
        {
          "output_type": "display_data",
          "data": {
            "text/plain": [
              "<Figure size 432x288 with 0 Axes>"
            ]
          },
          "metadata": {}
        },
        {
          "output_type": "display_data",
          "data": {
            "image/png": "[encoded data removed]",
            "text/plain": [
              "<Figure size 432x216 with 2 Axes>"
            ]
          },
          "metadata": {
            "needs_background": "light"
          }
        },
        {
          "output_type": "display_data",
          "data": {
            "text/plain": [
              "<Figure size 432x288 with 0 Axes>"
            ]
          },
          "metadata": {}
        },
        {
          "output_type": "display_data",
          "data": {
            "image/png": "[encoded data removed]",
            "text/plain": [
              "<Figure size 432x216 with 2 Axes>"
            ]
          },
          "metadata": {
            "needs_background": "light"
          }
        },
        {
          "output_type": "display_data",
          "data": {
            "text/plain": [
              "<Figure size 432x288 with 0 Axes>"
            ]
          },
          "metadata": {}
        },
        {
          "output_type": "display_data",
          "data": {
            "image/png": "[encoded data removed]",
            "text/plain": [
              "<Figure size 432x216 with 2 Axes>"
            ]
          },
          "metadata": {
            "needs_background": "light"
          }
        },
        {
          "output_type": "display_data",
          "data": {
            "text/plain": [
              "<Figure size 432x288 with 0 Axes>"
            ]
          },
          "metadata": {}
        },
        {
          "output_type": "display_data",
          "data": {
            "image/png": "[encoded data removed]",
            "text/plain": [
              "<Figure size 432x216 with 2 Axes>"
            ]
          },
          "metadata": {
            "needs_background": "light"
          }
        },
        {
          "output_type": "display_data",
          "data": {
            "text/plain": [
              "<Figure size 432x288 with 0 Axes>"
            ]
          },
          "metadata": {}
        },
        {
          "output_type": "display_data",
          "data": {
            "image/png": "[encoded data removed]",
            "text/plain": [
              "<Figure size 432x216 with 2 Axes>"
            ]
          },
          "metadata": {
            "needs_background": "light"
          }
        },
        {
          "output_type": "display_data",
          "data": {
            "text/plain": [
              "<Figure size 432x288 with 0 Axes>"
            ]
          },
          "metadata": {}
        },
        {
          "output_type": "display_data",
          "data": {
            "image/png": "[encoded data removed]",
            "text/plain": [
              "<Figure size 432x216 with 2 Axes>"
            ]
          },
          "metadata": {
            "needs_background": "light"
          }
        },
        {
          "output_type": "display_data",
          "data": {
            "text/plain": [
              "<Figure size 432x288 with 0 Axes>"
            ]
          },
          "metadata": {}
        },
        {
          "output_type": "display_data",
          "data": {
            "image/png": "[encoded data removed]",
            "text/plain": [
              "<Figure size 432x216 with 2 Axes>"
            ]
          },
          "metadata": {
            "needs_background": "light"
          }
        },
        {
          "output_type": "display_data",
          "data": {
            "text/plain": [
              "<Figure size 432x288 with 0 Axes>"
            ]
          },
          "metadata": {}
        },
        {
          "output_type": "display_data",
          "data": {
            "image/png": "[encoded data removed]",
            "text/plain": [
              "<Figure size 432x216 with 2 Axes>"
            ]
          },
          "metadata": {
            "needs_background": "light"
          }
        },
        {
          "output_type": "display_data",
          "data": {
            "text/plain": [
              "<Figure size 432x288 with 0 Axes>"
            ]
          },
          "metadata": {}
        },
        {
          "output_type": "display_data",
          "data": {
            "image/png": "[encoded data removed]",
            "text/plain": [
              "<Figure size 432x216 with 2 Axes>"
            ]
          },
          "metadata": {
            "needs_background": "light"
          }
        },
        {
          "output_type": "display_data",
          "data": {
            "text/plain": [
              "<Figure size 432x288 with 0 Axes>"
            ]
          },
          "metadata": {}
        }
      ]
    },
    {
      "cell_type": "markdown",
      "metadata": {
        "id": "OTM8VShapIqM"
      },
      "source": [
        "Las líneas negras representan la probabilidad más alta y por tanto, la predicción. Las verdes, el porcentaje de ocasiones en que se equivoca y con que prendas se confunde. Cuando la línea es roja, es porque ha errado la predicción.  \n",
        "Con esta red la predicción comete errores sobre todo en las prendas que no son pantalones, concretamente las zapatillas que predice un 95% que son mochilas. Tampoco predice correctamente las camisas. Con respecto a la sexta imagen predice al 100% que es 1, es decir, pantalones."
      ]
    },
    {
      "cell_type": "markdown",
      "metadata": {
        "id": "JFhkzVzxqe2z"
      },
      "source": [
        "### Caso 2"
      ]
    },
    {
      "cell_type": "code",
      "metadata": {
        "colab": {
          "base_uri": "https://localhost:8080/"
        },
        "id": "9GhIe4SqqbLI",
        "outputId": "cf79a8cc-914e-42bd-8b8d-54b0647962a0"
      },
      "source": [
        "predictions = models[1].predict(test_images)\n",
        "print(np.argmax(predictions[5]))\n",
        "print(predictions[5])\n",
        "np.sum(predictions[5])\n",
        "print(predictions)"
      ],
      "execution_count": null,
      "outputs": [
        {
          "output_type": "stream",
          "name": "stdout",
          "text": [
            "1\n",
            "[0. 1. 0. 0. 0. 0. 0. 0. 0. 0.]\n",
            "[[0. 0. 0. ... 0. 0. 1.]\n",
            " [0. 0. 1. ... 0. 0. 0.]\n",
            " [0. 1. 0. ... 0. 0. 0.]\n",
            " ...\n",
            " [0. 0. 0. ... 0. 1. 0.]\n",
            " [0. 1. 0. ... 0. 0. 0.]\n",
            " [0. 0. 0. ... 0. 0. 0.]]\n"
          ]
        }
      ]
    },
    {
      "cell_type": "code",
      "metadata": {
        "colab": {
          "base_uri": "https://localhost:8080/",
          "height": 1000
        },
        "id": "tIOG0DhwqbLO",
        "outputId": "8ff16af5-a7fa-4700-f608-3783dc1627a0"
      },
      "source": [
        "(train_images, train_labels), (test_images, test_labels) = fashion_mnist.load_data()\n",
        "\n",
        "\n",
        "predictions = models[1].predict(test_images)\n",
        "for i in range(14):\n",
        "  plt.figure(figsize=(6,3))\n",
        "  plt.subplot(1,2,1)\n",
        "  plot_image(i, predictions[i], test_labels, test_images.reshape(10000,28,28))\n",
        "  plt.subplot(1,2,2)\n",
        "  plot_value_array(i, predictions[i],  test_labels)\n",
        "  plt.show()\n",
        "  plt.clf()"
      ],
      "execution_count": null,
      "outputs": [
        {
          "output_type": "display_data",
          "data": {
            "image/png": "[encoded data removed]",
            "text/plain": [
              "<Figure size 432x216 with 2 Axes>"
            ]
          },
          "metadata": {
            "needs_background": "light"
          }
        },
        {
          "output_type": "display_data",
          "data": {
            "text/plain": [
              "<Figure size 432x288 with 0 Axes>"
            ]
          },
          "metadata": {}
        },
        {
          "output_type": "display_data",
          "data": {
            "image/png": "[encoded data removed]",
            "text/plain": [
              "<Figure size 432x216 with 2 Axes>"
            ]
          },
          "metadata": {
            "needs_background": "light"
          }
        },
        {
          "output_type": "display_data",
          "data": {
            "text/plain": [
              "<Figure size 432x288 with 0 Axes>"
            ]
          },
          "metadata": {}
        },
        {
          "output_type": "display_data",
          "data": {
            "image/png": "[encoded data removed]",
            "text/plain": [
              "<Figure size 432x216 with 2 Axes>"
            ]
          },
          "metadata": {
            "needs_background": "light"
          }
        },
        {
          "output_type": "display_data",
          "data": {
            "text/plain": [
              "<Figure size 432x288 with 0 Axes>"
            ]
          },
          "metadata": {}
        },
        {
          "output_type": "display_data",
          "data": {
            "image/png": "[encoded data removed]",
            "text/plain": [
              "<Figure size 432x216 with 2 Axes>"
            ]
          },
          "metadata": {
            "needs_background": "light"
          }
        },
        {
          "output_type": "display_data",
          "data": {
            "text/plain": [
              "<Figure size 432x288 with 0 Axes>"
            ]
          },
          "metadata": {}
        },
        {
          "output_type": "display_data",
          "data": {
            "image/png": "[encoded data removed]",
            "text/plain": [
              "<Figure size 432x216 with 2 Axes>"
            ]
          },
          "metadata": {
            "needs_background": "light"
          }
        },
        {
          "output_type": "display_data",
          "data": {
            "text/plain": [
              "<Figure size 432x288 with 0 Axes>"
            ]
          },
          "metadata": {}
        },
        {
          "output_type": "display_data",
          "data": {
            "image/png": "[encoded data removed]",
            "text/plain": [
              "<Figure size 432x216 with 2 Axes>"
            ]
          },
          "metadata": {
            "needs_background": "light"
          }
        },
        {
          "output_type": "display_data",
          "data": {
            "text/plain": [
              "<Figure size 432x288 with 0 Axes>"
            ]
          },
          "metadata": {}
        },
        {
          "output_type": "display_data",
          "data": {
            "image/png": "[encoded data removed]",
            "text/plain": [
              "<Figure size 432x216 with 2 Axes>"
            ]
          },
          "metadata": {
            "needs_background": "light"
          }
        },
        {
          "output_type": "display_data",
          "data": {
            "text/plain": [
              "<Figure size 432x288 with 0 Axes>"
            ]
          },
          "metadata": {}
        },
        {
          "output_type": "display_data",
          "data": {
            "image/png": "[encoded data removed]",
            "text/plain": [
              "<Figure size 432x216 with 2 Axes>"
            ]
          },
          "metadata": {
            "needs_background": "light"
          }
        },
        {
          "output_type": "display_data",
          "data": {
            "text/plain": [
              "<Figure size 432x288 with 0 Axes>"
            ]
          },
          "metadata": {}
        },
        {
          "output_type": "display_data",
          "data": {
            "image/png": "[encoded data removed]",
            "text/plain": [
              "<Figure size 432x216 with 2 Axes>"
            ]
          },
          "metadata": {
            "needs_background": "light"
          }
        },
        {
          "output_type": "display_data",
          "data": {
            "text/plain": [
              "<Figure size 432x288 with 0 Axes>"
            ]
          },
          "metadata": {}
        },
        {
          "output_type": "display_data",
          "data": {
            "image/png": "[encoded data removed]",
            "text/plain": [
              "<Figure size 432x216 with 2 Axes>"
            ]
          },
          "metadata": {
            "needs_background": "light"
          }
        },
        {
          "output_type": "display_data",
          "data": {
            "text/plain": [
              "<Figure size 432x288 with 0 Axes>"
            ]
          },
          "metadata": {}
        },
        {
          "output_type": "display_data",
          "data": {
            "image/png": "[encoded data removed]",
            "text/plain": [
              "<Figure size 432x216 with 2 Axes>"
            ]
          },
          "metadata": {
            "needs_background": "light"
          }
        },
        {
          "output_type": "display_data",
          "data": {
            "text/plain": [
              "<Figure size 432x288 with 0 Axes>"
            ]
          },
          "metadata": {}
        },
        {
          "output_type": "display_data",
          "data": {
            "image/png": "[encoded data removed]",
            "text/plain": [
              "<Figure size 432x216 with 2 Axes>"
            ]
          },
          "metadata": {
            "needs_background": "light"
          }
        },
        {
          "output_type": "display_data",
          "data": {
            "text/plain": [
              "<Figure size 432x288 with 0 Axes>"
            ]
          },
          "metadata": {}
        },
        {
          "output_type": "display_data",
          "data": {
            "image/png": "[encoded data removed]",
            "text/plain": [
              "<Figure size 432x216 with 2 Axes>"
            ]
          },
          "metadata": {
            "needs_background": "light"
          }
        },
        {
          "output_type": "display_data",
          "data": {
            "text/plain": [
              "<Figure size 432x288 with 0 Axes>"
            ]
          },
          "metadata": {}
        },
        {
          "output_type": "display_data",
          "data": {
            "image/png": "[encoded data removed]",
            "text/plain": [
              "<Figure size 432x216 with 2 Axes>"
            ]
          },
          "metadata": {
            "needs_background": "light"
          }
        },
        {
          "output_type": "display_data",
          "data": {
            "text/plain": [
              "<Figure size 432x288 with 0 Axes>"
            ]
          },
          "metadata": {}
        }
      ]
    },
    {
      "cell_type": "markdown",
      "metadata": {
        "id": "lcD0aPPzqbLR"
      },
      "source": [
        "Con esta red la predicción es del 100% de la sexta imagen. En el resto de casos predice de forma totalmente correcta casi todas las imagenes, menos una camisa, unas chanclas y unas zapatillas, en donde el error es del 100%.\n",
        "### Caso 3"
      ]
    },
    {
      "cell_type": "code",
      "metadata": {
        "colab": {
          "base_uri": "https://localhost:8080/"
        },
        "id": "7so6eeUrqv4S",
        "outputId": "f7331f9d-7ced-44a4-d7e3-ce2b0cf251d4"
      },
      "source": [
        "predictions = models[2].predict(test_images)\n",
        "print(np.argmax(predictions[5]))\n",
        "print(predictions[5])\n",
        "np.sum(predictions[5])\n",
        "print(predictions)"
      ],
      "execution_count": null,
      "outputs": [
        {
          "output_type": "stream",
          "name": "stdout",
          "text": [
            "1\n",
            "[0. 1. 0. 0. 0. 0. 0. 0. 0. 0.]\n",
            "[[0. 0. 0. ... 0. 0. 1.]\n",
            " [0. 0. 1. ... 0. 0. 0.]\n",
            " [0. 1. 0. ... 0. 0. 0.]\n",
            " ...\n",
            " [0. 0. 0. ... 0. 1. 0.]\n",
            " [0. 1. 0. ... 0. 0. 0.]\n",
            " [0. 0. 0. ... 0. 0. 0.]]\n"
          ]
        }
      ]
    },
    {
      "cell_type": "code",
      "metadata": {
        "colab": {
          "base_uri": "https://localhost:8080/",
          "height": 1000
        },
        "id": "QXOQUjRqqv4V",
        "outputId": "8462dfe7-d251-4712-b0d0-645b1748f64e"
      },
      "source": [
        "(train_images, train_labels), (test_images, test_labels) = fashion_mnist.load_data()\n",
        "\n",
        "\n",
        "predictions = models[2].predict(test_images)\n",
        "for i in range(14):\n",
        "  plt.figure(figsize=(6,3))\n",
        "  plt.subplot(1,2,1)\n",
        "  plot_image(i, predictions[i], test_labels, test_images.reshape(10000,28,28))\n",
        "  plt.subplot(1,2,2)\n",
        "  plot_value_array(i, predictions[i],  test_labels)\n",
        "  plt.show()\n",
        "  plt.clf()"
      ],
      "execution_count": null,
      "outputs": [
        {
          "output_type": "display_data",
          "data": {
            "image/png": "[encoded data removed]",
            "text/plain": [
              "<Figure size 432x216 with 2 Axes>"
            ]
          },
          "metadata": {
            "needs_background": "light"
          }
        },
        {
          "output_type": "display_data",
          "data": {
            "text/plain": [
              "<Figure size 432x288 with 0 Axes>"
            ]
          },
          "metadata": {}
        },
        {
          "output_type": "display_data",
          "data": {
            "image/png": "[encoded data removed]",
            "text/plain": [
              "<Figure size 432x216 with 2 Axes>"
            ]
          },
          "metadata": {
            "needs_background": "light"
          }
        },
        {
          "output_type": "display_data",
          "data": {
            "text/plain": [
              "<Figure size 432x288 with 0 Axes>"
            ]
          },
          "metadata": {}
        },
        {
          "output_type": "display_data",
          "data": {
            "image/png": "[encoded data removed]",
            "text/plain": [
              "<Figure size 432x216 with 2 Axes>"
            ]
          },
          "metadata": {
            "needs_background": "light"
          }
        },
        {
          "output_type": "display_data",
          "data": {
            "text/plain": [
              "<Figure size 432x288 with 0 Axes>"
            ]
          },
          "metadata": {}
        },
        {
          "output_type": "display_data",
          "data": {
            "image/png": "[encoded data removed]",
            "text/plain": [
              "<Figure size 432x216 with 2 Axes>"
            ]
          },
          "metadata": {
            "needs_background": "light"
          }
        },
        {
          "output_type": "display_data",
          "data": {
            "text/plain": [
              "<Figure size 432x288 with 0 Axes>"
            ]
          },
          "metadata": {}
        },
        {
          "output_type": "display_data",
          "data": {
            "image/png": "[encoded data removed]",
            "text/plain": [
              "<Figure size 432x216 with 2 Axes>"
            ]
          },
          "metadata": {
            "needs_background": "light"
          }
        },
        {
          "output_type": "display_data",
          "data": {
            "text/plain": [
              "<Figure size 432x288 with 0 Axes>"
            ]
          },
          "metadata": {}
        },
        {
          "output_type": "display_data",
          "data": {
            "image/png": "[encoded data removed]",
            "text/plain": [
              "<Figure size 432x216 with 2 Axes>"
            ]
          },
          "metadata": {
            "needs_background": "light"
          }
        },
        {
          "output_type": "display_data",
          "data": {
            "text/plain": [
              "<Figure size 432x288 with 0 Axes>"
            ]
          },
          "metadata": {}
        },
        {
          "output_type": "display_data",
          "data": {
            "image/png": "[encoded data removed]",
            "text/plain": [
              "<Figure size 432x216 with 2 Axes>"
            ]
          },
          "metadata": {
            "needs_background": "light"
          }
        },
        {
          "output_type": "display_data",
          "data": {
            "text/plain": [
              "<Figure size 432x288 with 0 Axes>"
            ]
          },
          "metadata": {}
        },
        {
          "output_type": "display_data",
          "data": {
            "image/png": "[encoded data removed]",
            "text/plain": [
              "<Figure size 432x216 with 2 Axes>"
            ]
          },
          "metadata": {
            "needs_background": "light"
          }
        },
        {
          "output_type": "display_data",
          "data": {
            "text/plain": [
              "<Figure size 432x288 with 0 Axes>"
            ]
          },
          "metadata": {}
        },
        {
          "output_type": "display_data",
          "data": {
            "image/png": "[encoded data removed]",
            "text/plain": [
              "<Figure size 432x216 with 2 Axes>"
            ]
          },
          "metadata": {
            "needs_background": "light"
          }
        },
        {
          "output_type": "display_data",
          "data": {
            "text/plain": [
              "<Figure size 432x288 with 0 Axes>"
            ]
          },
          "metadata": {}
        },
        {
          "output_type": "display_data",
          "data": {
            "image/png": "[encoded data removed]",
            "text/plain": [
              "<Figure size 432x216 with 2 Axes>"
            ]
          },
          "metadata": {
            "needs_background": "light"
          }
        },
        {
          "output_type": "display_data",
          "data": {
            "text/plain": [
              "<Figure size 432x288 with 0 Axes>"
            ]
          },
          "metadata": {}
        },
        {
          "output_type": "display_data",
          "data": {
            "image/png": "[encoded data removed]",
            "text/plain": [
              "<Figure size 432x216 with 2 Axes>"
            ]
          },
          "metadata": {
            "needs_background": "light"
          }
        },
        {
          "output_type": "display_data",
          "data": {
            "text/plain": [
              "<Figure size 432x288 with 0 Axes>"
            ]
          },
          "metadata": {}
        },
        {
          "output_type": "display_data",
          "data": {
            "image/png": "[encoded data removed]",
            "text/plain": [
              "<Figure size 432x216 with 2 Axes>"
            ]
          },
          "metadata": {
            "needs_background": "light"
          }
        },
        {
          "output_type": "display_data",
          "data": {
            "text/plain": [
              "<Figure size 432x288 with 0 Axes>"
            ]
          },
          "metadata": {}
        },
        {
          "output_type": "display_data",
          "data": {
            "image/png": "[encoded data removed]",
            "text/plain": [
              "<Figure size 432x216 with 2 Axes>"
            ]
          },
          "metadata": {
            "needs_background": "light"
          }
        },
        {
          "output_type": "display_data",
          "data": {
            "text/plain": [
              "<Figure size 432x288 with 0 Axes>"
            ]
          },
          "metadata": {}
        },
        {
          "output_type": "display_data",
          "data": {
            "image/png": "[encoded data removed]",
            "text/plain": [
              "<Figure size 432x216 with 2 Axes>"
            ]
          },
          "metadata": {
            "needs_background": "light"
          }
        },
        {
          "output_type": "display_data",
          "data": {
            "text/plain": [
              "<Figure size 432x288 with 0 Axes>"
            ]
          },
          "metadata": {}
        }
      ]
    },
    {
      "cell_type": "markdown",
      "metadata": {
        "id": "DBCcVvIeqv4Y"
      },
      "source": [
        "Con esta red la predicción de la sexta figura sigue siendo del 100%. Con respecto al resto de imágenes, las predice todas al 100%, excepto las zapatillas, la decimotercera imagen.  \n",
        "Como conclusión, pensamos que el modelo del caso 3 es el mejor, puesto que solo predice erróneamente una imagen. Mientras que el resto las predice correctamente al 100%. Coincidiendo así, con lo visto anteriormente."
      ]
    },
    {
      "cell_type": "markdown",
      "metadata": {
        "id": "fGJXDzzRInKV"
      },
      "source": [
        "## 8. COMPARACIÓN DE LOS RESULTADOS DE LA PRÁCTICA 1 CON LAS CAPAS DENSE\n",
        "En la práctica anterior con las capas dense, el mejor modelo tenía une precisión del 87% y una pérdida del 34%. Mientras que con las capas convolucionales, la mejor red tiene un 90% de precisión y un 25% de pérdida. De esto concluimos, que el modelo con capas convolucionales es mejor.  \n",
        "Respecto a las predicciones, en general las redes convolucionales nos dan mejores resultados, ya que las predicciones son del 100% en la mayoría de casos. Por otro lado, las predicciones que realizan erroneamente lo hacen con un 100% de fallo, sin embargo, las de la primera práctica lo hacían con menos porcentaje de error. Creemos que esto se debe a que las redes convolucionales obtienen información más detallada de los datos de entrenamiento, y en ocasiones demasiado específica. Por este motivo, cuando la predicción es correcta, lo es al 100% y cuando es incorrecta, también lo es al 100%.  \n",
        "También nos hemos dado cuenta, de que el tiempo de ejecución del entrenamiento de las redes ha aumentado para las de la segunda práctica.  \n",
        "Por último, en ambas prácticas los modelos con el optimizador *adam* funcionan mejor. \n"
      ]
    },
    {
      "cell_type": "markdown",
      "metadata": {
        "id": "PNct-YwhI1Yq"
      },
      "source": [
        "## 9. CONCEPTOS DE BATCH_NORMALIZATION Y DROPOUT\n",
        "*batch_normalization:*  \n",
        "Aplica una transformación que mantiene la media de salida cercana a 0 y la desviación estándar de salida cercana a 1.\n",
        "Normalizando los datos, las distancias de los datos van de 0 a 1 y esto ayuda a la red neuronal a trabajar mejor y a tener menos problemas.\n",
        "Cuando normalizamos los datos solo la capa de entrada se beneficia de esto, conforme los datos pasan por otras capas ocultas, esta normalización se va perdiendo, y si tenemos una red neuronal con muchas capas podemos tener problemas con el entrenamiento. El método de batch_normalization normaliza los datos antes de que pasen por la función de activación en cada capa que de la red neuronal, de esta manera siempre tendremos los datos normalizados.\n",
        "Si normalizamos los datos las distribuciones estarán más cerca y será más fácil para la red neuronal crear una línea de decisión.\n",
        "Hay que tener en cuenta que trabaja de forma distinta durante el entrenamiento y con los datos de test.\n",
        "\n",
        "*Dropout:*  \n",
        "Este método ayuda a reducir el overfitting, ya que las neuronas cercanas suelen aprender patrones que se relacionan. Estas relaciones pueden llegar a formar un patrón muy específico con los datos de entrenamiento. Con dropout esta dependencia entre neuronas es menor en toda la red neuronal, de esta manera las neuronas trabajan mejor de forma solitaria y no dependen tanto de las relaciones con las neuronas vecinas.\n",
        "Dropout tiene un parámetro que indica la probabilidad de que las neuronas se queden activadas. Este parámetro toma valores de 0 a 1. Si los valores son cercanos a 0, dropout desactivará menos neuronas, si es cercano a 1, desactivará muchas más neuronas. Dropout solo se usa durante la fase de entrenamiento."
      ]
    },
    {
      "cell_type": "markdown",
      "metadata": {
        "id": "x5VF4XDrJfZq"
      },
      "source": [
        "## 10. CONCEPTOS DE CALLBACKS\n",
        "Un *callback* puede realizar acciones en distintas etapas del entrenamiento, al inicio o al final de una época, antes o después de un lote, etcetera. Son utiles para guardar periódicamente un modelo en el disco, para hacer una parada anticipada o para obtener una visión de los estados internos y las estadísticas de un modelo durante el entrenamiento, por ejemplo.\n",
        "\n",
        "También son útiles para escribir los logs de TensorBoard después de cada lote de entrenamiento para monitorizar tus métricas. TensorBoard permite visualizar las métricas  durante el entrenamiento tanto en el conjunto de entrenamiento como en el conjunto de validación, como en el de prueba.\n",
        "\n",
        "En nuestro modelo estamos utilizando los *callbacks* monitorizando la precisión y la función de perdida. Nos ha ayudado para evitar el *overfitting* y saber el número adecuado de épocas a realizar."
      ]
    },
    {
      "cell_type": "markdown",
      "metadata": {
        "id": "4faik4XGiKpx"
      },
      "source": [
        "## 11.CONCLUSIÓN\n",
        "Realizando la práctica hemos aprendido a crear modelos con redes convolucionales, y que estos aunque tarden más en ejecutarse, funcionan mejor que las redes con capas dense. También hemos aprendido que el optimizador *adam* suele funcionar mejor en la mayoría de modelos.  Además, sabemos como graficar el comportamiento de los modelos y saber el número adecuado de iteraciones para evitar sobreentrenamiento. Por último nos gustaría destacar, que una red con capas convolucionales necesita capas dense para que funcione con mejores resultados.  \n",
        "Para realizar este proyecto nos hemos reunido, tanto presencial como virtualmente, y en general, hemos hecho el trabajo conjuntamente, salvo algunas investigaciones sobre algunos conceptos como *dropout*, *callbacks*, etc, que hemos hecho individualmente. \n"
      ]
    },
    {
      "cell_type": "markdown",
      "metadata": {
        "id": "UJ1J50Th1zBI"
      },
      "source": [
        "## 12. BIBLIOGRAFÍA\n",
        "\n",
        "*   Team, K. (s. f.). Keras documentation: Callbacks API. Keras. Recuperado 26 de noviembre de 2021, de https://keras.io/api/callbacks/\n",
        "*   tf.keras.callbacks.LearningRateScheduler | TensorFlow Core v2.7.0. (s. f.). TensorFlow. Recuperado 26 de noviembre de 2021, de https://www.tensorflow.org/api_docs/python/tf/keras/callbacks/LearningRateScheduler\n",
        "*   Team, K. (s. f.-b). Keras documentation: Dropout layer. Keras. Recuperado 26 de noviembre de 2021, de https://keras.io/api/layers/regularization_layers/dropout/\n",
        "*   Team, K. (s. f.-a). Keras documentation: BatchNormalization layer. Keras. Recuperado 26 de noviembre de 2021, de https://keras.io/api/layers/normalization_layers/batch_normalization/\n",
        "\n",
        "\n",
        "\n",
        "\n"
      ]
    }
  ]
}